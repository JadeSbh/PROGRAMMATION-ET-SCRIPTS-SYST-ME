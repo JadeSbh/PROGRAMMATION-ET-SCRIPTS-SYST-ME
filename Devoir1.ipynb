{
  "nbformat": 4,
  "nbformat_minor": 0,
  "metadata": {
    "colab": {
      "name": "Devoir1.ipynb",
      "provenance": [],
      "collapsed_sections": [],
      "authorship_tag": "ABX9TyPHZngVt/q0+lorKZ8SxxwE",
      "include_colab_link": true
    },
    "kernelspec": {
      "name": "python3",
      "display_name": "Python 3"
    },
    "language_info": {
      "name": "python"
    }
  },
  "cells": [
    {
      "cell_type": "markdown",
      "metadata": {
        "id": "view-in-github",
        "colab_type": "text"
      },
      "source": [
        "<a href=\"https://colab.research.google.com/github/JadeSbh/PROGRAMMATION-ET-SCRIPTS-SYST-ME/blob/main/Devoir1.ipynb\" target=\"_parent\"><img src=\"https://colab.research.google.com/assets/colab-badge.svg\" alt=\"Open In Colab\"/></a>"
      ]
    },
    {
      "cell_type": "code",
      "execution_count": null,
      "metadata": {
        "id": "o_WzQYAZ3lQa"
      },
      "outputs": [],
      "source": [
        ""
      ]
    },
    {
      "cell_type": "markdown",
      "source": [
        "# Partie 1 - Création d’une classe\n",
        "Format de la remise\n",
        "Le code construit doit être sous la forme d’une classe et de deux fonctions à l’intérieur d’un seul notebook . Il vous\n",
        "est possible de construire d’autres fonctions aux besoins.\n",
        "\n",
        "# Présentation du problème\n",
        "Nous voulons résoudre un problème de statistique de manière empirique.\n",
        "La situation est la suivante :\n",
        "\n",
        "À la foire annuelle, il y a un jeu qui utilise des tirelires en forme de cochon.\n",
        " \n",
        " Dans la tirelire #1, il y a un billet de 10 dollar et trois billets de 5 dollar.\n",
        "\n",
        " Dans la tirelire #2, il y a un billet de $10 et un billet de 5 dollar.\n",
        " \n",
        "Pour jouer le jeu, il faut tirer un billet de la tirelire # 1 et le mettre dans la tirelire #2. Après avoir mélangé le contenu de la tirelire # 2, tu peux\n",
        "piger un des billets.\n",
        "\n",
        "Quelle est la chance de piger un billet de 10 dollar de la tirelire #2?\n",
        "\n",
        "# Modélisation du problème\n",
        "\n",
        "Une classe sera utilisée pour représenter la tirelire.\n",
        "Écrivez une classe nommée Tirelire, vous devez faire la conception de cette classe.\n",
        "La classe doit être capable de :\n",
        "\n",
        "• s’initialié avec une série de billets\n",
        "\n",
        "• ne pas pouvoir modifier les billets de manières arbitraire (publique)\n",
        "\n",
        "• on doit être capable de piger et remettre des billets dans la tirelire\n",
        "1\n",
        "\n",
        "# Simulation du problème\n",
        "\n",
        "Écrivez une fonction jouer_cochon qui va exécuter les opérations suivantes :\n",
        "\n",
        "• Création des deux tirelires avec l’ajout de billets initiales.\n",
        "\n",
        "• Pige un billet de la tirelire #1 et l’ajoute à la tirelire #2.\n",
        "\n",
        "• Pige un billet de la tirelire #2 et retourne le billet tiré.\n",
        "\n",
        "# Simulation statistique\n",
        "Pour découvrir de manière empirique les chances de piger un billet de $10, nous voulons faire la simulation un grand nombre de fois. \n",
        "\n",
        "Pour chaque simulation, il faut sauvegarder le résultat. Après toutes les simulations, nous pouvons regarder le nombre de simulations qui a pigé un billet de $10 sur le nombre total de simulations pour trouver le\n",
        "pourcentage de chance de piger un billet de 10 dollars.\n",
        "\n",
        "Écrivez une fonction simulation qui exécute 100 000 fois le jeu avec la fonction jouer_cochon développée précédem\u0002ment. Afficher le pourcentage de simulation qui se termine avec la pige d’un billet de $10.\n"
      ],
      "metadata": {
        "id": "wkMX5IKA3l_7"
      }
    },
    {
      "cell_type": "code",
      "source": [
        "#importing the library random\n",
        "import random\n",
        "#creating a class called Tirelire\n",
        "class Tirelire:\n",
        "  def __init__(self, billets_list = []):\n",
        "    self.billets_list = billets_list\n",
        "    # to enable printing, not required\n",
        "  def __str__(self, billets_list):\n",
        "    return f\"the billets inside this tirelire is : {billets_list}\"\n",
        "    # to get a value, not required\n",
        "  def get_billets_list(self):\n",
        "    return self.billets_list\n",
        "    # to set a value\n",
        "  def set_billets_list(self, billets_list):\n",
        "    self.billets_list = billets_list\n",
        "\n",
        "def jouer_cochon():\n",
        "  #create an object tirelire1\n",
        "  tirelire1 = Tirelire()\n",
        "  #create an object tirelire2\n",
        "  tirelire2 = Tirelire()\n",
        "  #set values into tirelire1\n",
        "  tirelire1.set_billets_list([10, 5, 5, 5])\n",
        "  #set values into tirelire2\n",
        "  tirelire2.set_billets_list([10, 5])\n",
        "  #randomly dragging a billet from tirelire1\n",
        "  pige1 = tirelire1.billets_list[random.randint(0,3)]\n",
        "  #putting the dragged billet in tirelire2\n",
        "  tirelire2.billets_list.append(pige1)\n",
        "  #randomly dragging a billet from tirelire2\n",
        "  pige2 = tirelire1.billets_list[random.randint(0,2)]\n",
        "  return pige2\n",
        "\n",
        "def jouer_100000():\n",
        "  # declare local variables\n",
        "  val = 0\n",
        "  times = 0\n",
        "  #playing the game 100000 times\n",
        "  for i in range(100000):\n",
        "    val = jouer_cochon()\n",
        "    if val == 10 :\n",
        "      times = times + 1\n",
        "  print(f\"the billet 10 has been pulled {times} times\")\n",
        "  print(f\"le pourcentage de simulation qui se termine avec la pige d’un billet de $10 est {100*times/100000}%\")\n",
        "#calling the function jouer_100000()\n",
        "jouer_100000()   \n",
        "    "
      ],
      "metadata": {
        "colab": {
          "base_uri": "https://localhost:8080/"
        },
        "id": "5zpenVfM3pLT",
        "outputId": "35d96bd9-4f01-44cd-ae8c-48e8c7a7d71c"
      },
      "execution_count": 86,
      "outputs": [
        {
          "output_type": "stream",
          "name": "stdout",
          "text": [
            "the billet 10 has been pulled 33247 times\n",
            "le pourcentage de simulation qui se termine avec la pige d’un billet de $10 est 33.247%\n"
          ]
        }
      ]
    },
    {
      "cell_type": "code",
      "source": [
        ""
      ],
      "metadata": {
        "id": "8CSQfSBJFQ5M"
      },
      "execution_count": null,
      "outputs": []
    }
  ]
}