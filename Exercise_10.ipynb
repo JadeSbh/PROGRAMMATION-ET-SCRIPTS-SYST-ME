{
  "nbformat": 4,
  "nbformat_minor": 0,
  "metadata": {
    "colab": {
      "name": "Exercise 10.ipynb",
      "provenance": [],
      "collapsed_sections": [],
      "authorship_tag": "ABX9TyN3kp9AVotCRxAJuE/qr5+p",
      "include_colab_link": true
    },
    "kernelspec": {
      "name": "python3",
      "display_name": "Python 3"
    },
    "language_info": {
      "name": "python"
    }
  },
  "cells": [
    {
      "cell_type": "markdown",
      "metadata": {
        "id": "view-in-github",
        "colab_type": "text"
      },
      "source": [
        "<a href=\"https://colab.research.google.com/github/JadeSbh/PROGRAMMATION-ET-SCRIPTS-SYST-ME/blob/main/Exercise_10.ipynb\" target=\"_parent\"><img src=\"https://colab.research.google.com/assets/colab-badge.svg\" alt=\"Open In Colab\"/></a>"
      ]
    },
    {
      "cell_type": "markdown",
      "source": [
        "#Exercise 10:"
      ],
      "metadata": {
        "id": "Ldgy51Sk21EI"
      }
    },
    {
      "cell_type": "markdown",
      "source": [
        "### 1. Classe pour animaux de compagnie ⁉\n",
        "\n",
        "Ã‰crivez une classe nommÃ©e Pet, qui devrait avoir les attributs de donnÃ©es suivantsÂ :\n",
        "* __name (pour le nom d'un animal de compagnie)\n",
        "* __animal_type (pour le type d'animal qu'est un animal de compagnie. Des exemples de valeurs sont Â«Â ChienÂ Â», Â«Â ChatÂ Â»,\n",
        "et Â«Â oiseauÂ Â»)\n",
        "* __age (pour l'Ã¢ge de l'animal)\n",
        "\n",
        "Il devrait Ã©galement avoir les mÃ©thodes suivantes:\n",
        "* set_name\n",
        "Cette mÃ©thode affecte une valeur au champ __name.\n",
        "* set_animal_type\n",
        "Cette mÃ©thode affecte une valeur au champ __animal_type.\n",
        "* set_age\n",
        "Cette mÃ©thode affecte une valeur au champ __age.\n",
        "* get_name\n",
        "Cette mÃ©thode renvoie la valeur du champ __name.\n",
        "* get_animal_type\n",
        "Cette mÃ©thode renvoie la valeur du champ __animal_type.\n",
        "* get_age\n",
        "Cette mÃ©thode renvoie la valeur du champ __age.\n",
        "\n",
        "Une fois que vous avez Ã©crit la classe, Ã©crivez un programme qui crÃ©e un objet de la classe et invite l'utilisateur Ã  entrer le nom, le type et l'Ã¢ge de son animal de compagnie. Ces donnÃ©es doivent Ãªtre stockÃ©es en tant qu'attributs de l'objet. Utilisez les mÃ©thodes d'accÃ¨s de l'objet pour rÃ©cupÃ©rer le nom, le type et l'Ã¢ge de l'animal et afficher ces donnÃ©es Ã  l'Ã©cran."
      ],
      "metadata": {
        "id": "BxCJQjCu25Nh"
      }
    },
    {
      "cell_type": "code",
      "source": [
        "class Pet :\n",
        "    #class attributes:\n",
        "    def __init__(self, name=\"\", animal_type=\"\", age=0):\n",
        "      self.name = name\n",
        "      self.animal_type = animal_type\n",
        "      self.age = age\n",
        "\n",
        "    def __str__(self):\n",
        "      return f\"The pet {self.name} is a {self.animal_type} and it is {self.age} years old\"  \n",
        "    \n",
        "    def set_name(self, champ_name):\n",
        "       self.name = champ_name\n",
        "\n",
        "    def set_animal_type(self, champ_animal_type):\n",
        "      self.animal_type = champ_animal_type\n",
        "\n",
        "    def set_age(self, champ_age):\n",
        "      self.age = champ_age\n",
        "\n",
        "    def get_name(self):\n",
        "      return f\" the pet name is {self.name}\"\n",
        "\n",
        "    def get_animal_type(self):\n",
        "      return f\" it is a {self.animal_type} .\"\n",
        "\n",
        "    def get_age(self):\n",
        "      return f\" it is {self.age} years old\" \n",
        "\n",
        "def entry_validation():\n",
        "  while True:\n",
        "    age = input(\"entrez le age : \")\n",
        "    if age.isdigit():\n",
        "      return age\n",
        "      break\n",
        "    else:\n",
        "      print(\"entrez un number\")\n",
        "      \n",
        "memona = Pet()\n",
        "x = input(\"entrez le nom : \")\n",
        "the_type = input(\"Entrez le type : \")\n",
        "y = entry_validation()        \n",
        "memona.set_name(x)\n",
        "memona.set_animal_type(the_type)\n",
        "memona.set_age(y)\n",
        "memona.get_name()\n",
        "\n"
      ],
      "metadata": {
        "colab": {
          "base_uri": "https://localhost:8080/",
          "height": 87
        },
        "id": "29r6p6B228rv",
        "outputId": "4d54a376-9cee-4de4-a58f-f585f6d2a25d"
      },
      "execution_count": 71,
      "outputs": [
        {
          "name": "stdout",
          "output_type": "stream",
          "text": [
            "entrez le nom : memona\n",
            "Entrez le type : cat\n",
            "entrez le age : 6\n"
          ]
        },
        {
          "output_type": "execute_result",
          "data": {
            "text/plain": [
              "' the pet name is memona'"
            ],
            "application/vnd.google.colaboratory.intrinsic+json": {
              "type": "string"
            }
          },
          "metadata": {},
          "execution_count": 71
        }
      ]
    },
    {
      "cell_type": "markdown",
      "source": [
        "### 2 Classe de voiture:\n",
        "\n",
        "Ã‰crivez une classe nommÃ©e Car qui a les attributs de donnÃ©es suivantsÂ :\n",
        "* __year_model (pour le modÃ¨le de l'annÃ©e de la voiture)\n",
        "* __make (pour la marque de la voiture)\n",
        "* __speed (pour la vitesse actuelle de la voiture)\n",
        "\n",
        "La classe Car doit avoir une mÃ©thode _ _init_ _ qui accepte le modÃ¨le d'annÃ©e de la voiture et le fait comme arguments. Ces valeurs doivent Ãªtre affectÃ©es aux attributs de donnÃ©es _ _year_model et _ _make de l'objet. Il doit Ã©galement affecter 0 Ã  l'attribut de donnÃ©es _ _speed.\n",
        "\n",
        "La classe devrait Ã©galement avoir les mÃ©thodes suivantesÂ :\n",
        "1. accelerate La mèthode daccèlèration doit ajouter 5 è  lattribut de donnèes de vitesse è  chaque fois que elle est appelèe. \n",
        "2. brake La mèthode de freinage doit soustraire 5 de l\"attribut de donnèes de vitesse è  chaque fois qu\"elle est appelèe. \n",
        "3. get_speed La mèthode get_speed doit renvoyer la vitesse actuelle. Ensuite, concevez un programme qui crèe un objet Car puis appelle la mèthode d\"accèlèration cinq fois. Après chaque appel è  la mèthode d\"accèlèration, obtenez la vitesse actuelle de la voiture et affichez-la. Ensuite, appelez la mèthode de freinage cinq fois. Après chaque appel è  la mèthode de freinage, obtenez la vitesse actuelle de la voiture et affichez-la.  "
      ],
      "metadata": {
        "id": "wO2gNC8UETrP"
      }
    },
    {
      "cell_type": "code",
      "source": [
        "class Car :\n",
        "    # class attribute \n",
        "\n",
        "    # class methods\n",
        "\n",
        "    def __init__(self, year_model, make, speed = 0):\n",
        "      self.year_model = year_model\n",
        "      self.make = make\n",
        "      self.speed = speed\n",
        "\n",
        "    def accelerate(self, speed, adding = 5 ):\n",
        "      self.speed = speed + adding\n",
        "      return self.speed\n",
        "\n",
        "    def brake(self, sub = 5 ):\n",
        "      self.speed = speed - sub\n",
        "      return self.speed\n",
        "\n",
        "    def get_speed(self):\n",
        "      return self.speed\n",
        "# Create an object of the class Car:\n",
        "obj = Car('2000', 'Toyota', 0)\n",
        "\n",
        "res = obj.get_speed()\n",
        "print(res)\n",
        "# calling the methods accelerate and get_speed :\n",
        "for i in range(5):\n",
        "  obj.accelerate(res)\n",
        "  res = obj.get_speed()\n",
        "  print(res)\n",
        "\n",
        "\n"
      ],
      "metadata": {
        "id": "q3if7s6YEnEN",
        "colab": {
          "base_uri": "https://localhost:8080/"
        },
        "outputId": "be3f6a97-c3a6-40ac-e5f4-09fdb85fc0bd"
      },
      "execution_count": null,
      "outputs": [
        {
          "output_type": "stream",
          "name": "stdout",
          "text": [
            "0\n",
            "5\n",
            "10\n",
            "15\n",
            "20\n",
            "25\n"
          ]
        }
      ]
    },
    {
      "cell_type": "markdown",
      "source": [
        "## 3 3. Classe d\"informations personnelles:\n",
        " Concevez une classe contenant les donnèes personnelles suivantes : nom, adresse, è¢ge et numèro de tèlèphone. ècrivez les mèthodes approprièes d\"accesseur et de mutateur. Ecrivez ègalement un programme qui crèe trois instances de la classe. Une instance doit contenir vos informations et les deux autres doivent contenir les informations de vos amis ou des membres de votre famille."
      ],
      "metadata": {
        "id": "3wHI2PWB7WwR"
      }
    },
    {
      "cell_type": "code",
      "source": [
        "class Personal: \n",
        "\n",
        "    def __init__(self, nom=\"\", adresse=\"\", age=0, tele=\"\"):\n",
        "      self._nom = nom\n",
        "      self._adresse = adresse\n",
        "      self._age = age\n",
        "      self._tele = tele\n",
        "\n",
        "    def __str__(self):\n",
        "      return f\"{self.nom} lives in {self.adresse}. He is {self.age} year old. His phone number is {self.tele}\"  \n",
        "\n",
        "    def set_nom(self, person_nom):\n",
        "      self._nom = person_nom\n",
        "\n",
        "    def del_nom(self):\n",
        "         del self._nom  \n",
        "\n",
        "    def set_adresse(self, adresse_nom):\n",
        "      self._adresse = adresse_nom\n",
        "     \n",
        "\n",
        "    def set_age(self, person_age):\n",
        "      self._age = person_age\n",
        "      \n",
        "    def set_age(self, person_age):\n",
        "      self._age = person_age\n",
        "\n",
        "    def set_tele(self, person_tele):\n",
        "      self._tele = person_tele\n",
        "      \n",
        "\n",
        "    def get_nom (self):\n",
        "      return self._nom\n",
        "\n",
        "    def get_adresse (self):\n",
        "      return self._age\n",
        "\n",
        "    def get_tele(self):\n",
        "      return self._tele  \n",
        "\n",
        "\n",
        "Amjad = Personal()\n",
        "Ramy = Personal()\n",
        "Sami = Personal()\n",
        "# my info :\n",
        "Amjad.set_nom(\"Amjad\")\n",
        "Amjad.set_adresse(\"Dorval\")\n",
        "Amjad.set_age(22)\n",
        "Amjad.set_tele('438-777-8888')              \n",
        "# first Freind: \n",
        "Ramy.set_nom(\"Ramy\")\n",
        "Ramy.set_adresse(\"Toronto\")\n",
        "Ramy.set_age(29)\n",
        "Ramy.set_tele('111-777-8888')\n",
        "# second freind:\n",
        "Sami.set_nom(\"Sami\")\n",
        "Sami.set_adresse(\"ottawa\")\n",
        "Sami.set_age(24)\n",
        "Sami.set_tele('222-555-8888')\n",
        "# Displaying my info:\n",
        "Amjad.get_nom()\n",
        "Ramy.get_nom()\n",
        "Sami.get_nom()"
      ],
      "metadata": {
        "colab": {
          "base_uri": "https://localhost:8080/",
          "height": 35
        },
        "id": "IrLdnRDM7stD",
        "outputId": "bc83221a-3e56-444e-950d-667b1a2619f9"
      },
      "execution_count": 74,
      "outputs": [
        {
          "output_type": "execute_result",
          "data": {
            "text/plain": [
              "'Sami'"
            ],
            "application/vnd.google.colaboratory.intrinsic+json": {
              "type": "string"
            }
          },
          "metadata": {},
          "execution_count": 74
        }
      ]
    },
    {
      "cell_type": "markdown",
      "source": [
        "### 4. CatÃ©gorie d'employÃ©s\n",
        "ècrivez une classe nommèe Employè qui contient les donnèes suivantes sur un employè dans l\"attribut Utes : nom, numèro d\"identification, service et titre du poste. Une fois que vous avez ècrit la classe, ècrivez un programme qui crèe trois objets Employee pour contenir les donnèes suivantesÂ :\n",
        "\n",
        "| Nom          | NumÃ©ro d'identification | DÃ©partement  | Profession     |\n",
        "|--------------|-------------------------|--------------|----------------|\n",
        "| Susan Meyers | 47899                   | ComptabilitÃ© | Vice-prÃ©sident |\n",
        "| Mark Jones   | 39119                   | Informatique | Programmeur    |\n",
        "| Joy Rogers   | 81774                   | Fabrication  | IngÃ©nieur      |\n",
        "\n",
        "Le programme doit stocker ces donnÃ©es dans les trois objets, puis afficher les donnÃ©es de chaque employÃ© Ã  l'Ã©cran."
      ],
      "metadata": {
        "id": "nIwWcrSwMSpl"
      }
    },
    {
      "cell_type": "code",
      "source": [
        "class Employee :\n",
        "    def __init__(self, nom, id, dep_name, profession):\n",
        "      self.nom = nom\n",
        "      self.id = id\n",
        "      self.dep_name = dep_name\n",
        "      self.profession = profession\n",
        "\n",
        "    def __str__(self):\n",
        "      return f\"The Employee {self.nom} has the identification number of {self.id}. {self.nom} works in the department of {self.dep_name}. {self.nom} is a {self.profession}\"\n",
        "\n",
        "susan = Employee(\"Susan\", 188, \"Informatique\", \"Manager\") \n",
        "print(susan)    "
      ],
      "metadata": {
        "colab": {
          "base_uri": "https://localhost:8080/"
        },
        "id": "Y8nBUsPeMXrX",
        "outputId": "871686d3-f684-45df-f817-dd33d8ecfb50"
      },
      "execution_count": 40,
      "outputs": [
        {
          "output_type": "stream",
          "name": "stdout",
          "text": [
            "The Employee Susan has the identification number of 188. Susan works in the department of Informatique. Susan is a Manager\n"
          ]
        }
      ]
    },
    {
      "cell_type": "markdown",
      "source": [
        "### 5. Classe RetailItem:\n",
        "\n",
        "ècrivez une classe nommèe RetailItem qui contient des donnèes sur un article dans un magasin de vente au dètail. La classe doit stocker les donnèes suivantes dans les attributsÂ : description de l\"article, unitès en stock et prix. Une fois que vous avez ècrit la classe, ècrivez un programme qui crèe trois objets RetailItem et y stocke les donnèes suivantesÂ :\n",
        "\n",
        "| Description | UnitÃ©s | Prix  |\n",
        "|-------------|--------|-------|\n",
        "| Veste       | 12     | 59.95 |\n",
        "| Jeans       | 40     | 34.95 |\n",
        "| Chandail    | 20     | 24.95 |"
      ],
      "metadata": {
        "id": "01aUh3z7PIrd"
      }
    },
    {
      "cell_type": "code",
      "source": [
        "class Retailltem:\n",
        "    def __init__(self, description, unit, prix=0):\n",
        "      self.description = description\n",
        "      self.unit = unit\n",
        "      self.prix = prix\n",
        "      #using the property function\n",
        "    @property\n",
        "    def item_prix(self):\n",
        "      return self.prix\n",
        "    @item_prix.setter\n",
        "    def item_prix(self, prix):\n",
        "      self.prix = float(prix)  \n",
        "\n",
        "veste = Retailltem(\"Veste\", 12)\n",
        "print(veste.item_prix)\n",
        "veste.item_prix = 90\n",
        "print(veste.item_prix)\n",
        "jeans = Retailltem(\"Jeans\", 40, 34.95)\n",
        "chandail = Retailltem(\"Chandail\", 20, 24.95)      "
      ],
      "metadata": {
        "colab": {
          "base_uri": "https://localhost:8080/"
        },
        "id": "nCnZcI33POHn",
        "outputId": "97060b76-f173-4f52-eb39-e570d076c205"
      },
      "execution_count": 70,
      "outputs": [
        {
          "output_type": "stream",
          "name": "stdout",
          "text": [
            "0\n",
            "90.0\n"
          ]
        }
      ]
    },
    {
      "cell_type": "markdown",
      "source": [
        "###  6. Patient Charges:\n",
        "\n",
        "Write a class named Patient that has attributes for the following data:\n",
        "* First name, middle name, and last name\n",
        "* Address, city, state, and ZIP code\n",
        "* Phone number\n",
        "* Name and phone number of emergency contact\n",
        "The Patient classâ€™s _ _init_ _ method should accept an argument for each attribute. The Patient class should also have accessor and mutator methods for each attribute.\n",
        "Next, write a class named Procedure that represents a medical procedure that has been performed on a patient. The Procedure class should have attributes for the following data:\n",
        "* Name of the procedure\n",
        "* Date of the procedure\n",
        "* Name of the practitioner who performed the procedure\n",
        "* Charges for the procedure\n",
        "The Procedure classâ€™s _ _init_ _ method should accept an argument for each attribute. The Procedure class should also have accessor and mutator methods for each attribute.\n",
        "Next, write a program that creates an instance of the Patient class, initialized with sample data. Then, create three instances of the Procedure class, initialized with the following data:\n",
        "\n",
        "| ProcÃ©dure nÂ°1Â :                       | ProcÃ©dure nÂ°2Â :                    | ProcÃ©dure nÂ°3Â :                    |\n",
        "|---------------------------------------|------------------------------------|------------------------------------|\n",
        "| Nom de la procÃ©dure : Examen physique | Nom de la procÃ©dure : Radiographie | Nom de la procÃ©dure : Test sanguin |\n",
        "| Date : date d'aujourd'hui             | Date : date d'aujourd'hui          | Date : date d'aujourd'hui          |\n",
        "| Praticien : Dr Irvine                 | Praticien : Dr Jamison             | Praticien : Dr Smith               |\n",
        "| FraisÂ : 250,00                        | FraisÂ : 500,00                     | FraisÂ : 200,00                     |\n",
        "\n",
        "Le programme doit afficher les informations du patient, des informations sur les trois procÃ©dures et les frais totaux des trois procÃ©dures."
      ],
      "metadata": {
        "id": "U7SFYCe_QXzH"
      }
    },
    {
      "cell_type": "code",
      "source": [
        "class Patient :\n",
        "  #full name should be directory or list as well as the emergency contact/ fix it later\n",
        "    def __init__(self, full_name=\"\", address=\"\", phone_number=\"\", emergencey_contact=\"\"):\n",
        "      self.full_name = full_name\n",
        "      self.address = address\n",
        "      self.phone_number = phone_number\n",
        "      self.emergencey_contact = emergencey_contact\n",
        "\n",
        "    def set_name(self,patient_name ):\n",
        "      self.full_name = patient_name\n",
        "    def set_address(self, patient_address ):\n",
        "      self.address = patient_address\n",
        "    def set_phone_number(self, patient_phone):\n",
        "      self.phone_number = patient_phone   \n",
        "    def set_emergencey_contact(self, patient_emer_contact):\n",
        "      self.emergencey_contact = patient_emer_contact\n",
        "\n",
        "class Procedure(Patient):   # child class\n",
        "    def __init__(self, nom_procedure=\"\", date=\"\", praticien=\"\", fraise=0):\n",
        "      self.nom_procedure = nom_procedure\n",
        "      self.date = date\n",
        "      self.praticien = praticien\n",
        "      self.fraise = fraise\n",
        "    def __str__(self):\n",
        "      return f\"The patient {self.full_name} has a {self.nom_procedure} on {self.date} done by {self.praticien} with a cost of {self.fraise} $.\"  \n",
        "    def set_nom_procedure(self, val1):\n",
        "      self.nom_procedure = val1\n",
        "    def set_date(self, val2):\n",
        "      self.date = val2\n",
        "    def set_praticien(self, val3):\n",
        "      self.praticien = val3\n",
        "    def set_fraise(self, val4):\n",
        "      self.fraise = val4    \n",
        "# Data Sample\n",
        "\n",
        "Amjad = Patient()\n",
        "Amjad.set_name(\"Amjad\")\n",
        "Amjad.set_address(\"Dorval\")\n",
        "Amjad.set_phone_number(\"555-555-6666\")\n",
        "Amjad.set_emergencey_contact(\"father\")\n",
        "\n",
        "# first procedure object\n",
        "\n",
        "Obj1 = Procedure()\n",
        "\n",
        "Obj1.set_nom_procedure(\"Examen physique\")\n",
        "Obj1.set_date(\"22 April 2022\")\n",
        "Obj1.set_praticien(\"Dr Irvine\")\n",
        "Obj1.set_fraise(250.00)\n",
        "#inhereted attributes: \n",
        "Obj1.set_name(\"Dana\")\n",
        "Obj1.set_address(\"Montreal\")\n",
        "Obj1.set_phone_number(\"777-000-0000\")\n",
        "Obj1.set_emergencey_contact(\"mother\")\n",
        "\n",
        "# second procedure object \n",
        "Obj2 = Procedure()\n",
        "Obj2.set_nom_procedure(\"Radiography\")\n",
        "Obj2.set_date(\"24 April 2022\")\n",
        "Obj2.set_praticien(\"Dr Jamison\")\n",
        "Obj2.set_fraise(500.00)\n",
        "Obj2.set_name(\"Rani\")\n",
        "Obj2.set_address(\"Toronto\")\n",
        "Obj2.set_phone_number(\"777-234-0090\")\n",
        "Obj2.set_emergencey_contact(\"mother\")\n",
        "\n",
        "# third procedure object\n",
        "Obj3 = Procedure()\n",
        "Obj3.set_nom_procedure(\"Test Sanguin\")\n",
        "Obj3.set_date(\"24 April 2022\")\n",
        "Obj3.set_praticien(\"Dr Smith\")\n",
        "Obj3.set_fraise(200.00)\n",
        "Obj3.set_name(\"Hannah\")\n",
        "Obj3.set_address(\"ottawa\")\n",
        "Obj3.set_phone_number(\"222-999-0090\")\n",
        "Obj3.set_emergencey_contact(\"mother\")\n",
        "\n",
        "# to save time using print instead of getters:\n",
        "print(Obj1)\n",
        "print(Obj2)\n",
        "print(Obj3)"
      ],
      "metadata": {
        "colab": {
          "base_uri": "https://localhost:8080/"
        },
        "id": "jXKF9a7tQoLV",
        "outputId": "cba9cef4-3364-4766-eb60-106179a917d2"
      },
      "execution_count": 93,
      "outputs": [
        {
          "output_type": "stream",
          "name": "stdout",
          "text": [
            "The patient Dana has a Examen physique on 22 April 2022 done by Dr Irvine with a cost of 250.0 $.\n",
            "The patient Rani has a Radiography on 24 April 2022 done by Dr Jamison with a cost of 500.0 $.\n",
            "The patient Hannah has a Test Sanguin on 24 April 2022 done by Dr Smith with a cost of 200.0 $.\n"
          ]
        }
      ]
    },
    {
      "cell_type": "markdown",
      "source": [
        "### 8. Caisse enregistreuse\n",
        "\n",
        " Cet exercice suppose que vous avez crèè la classe RetailItem pour l\"exercice de programmation 5. Crèez une classe CashRegister qui peut èªtre utilisèe avec la classe RetailItem. La classe CashRegister doit pouvoir conserver en interne une liste d\"objets RetailItem. La classe doit avoir les mèthodes suivantesÂ :\n",
        "  * Une mèthode nommèe purchase_item qui accepte un objet RetailItem comme argument. Chaque fois que la mèthode buy_item est appelèe, l\"objet RetailItem qui est passè en tant qu\"argument doit èªtre ajoutè è  la liste.\n",
        "   * Une mèthode nommèe get_total qui renvoie le prix total de tous les objets RetailItem stockès dans la liste interne de l\"objet CashRegister.\n",
        "   * Une mèthode nommèe show_items qui affiche des donnèes sur les objets RetailItem stockès dans la liste interne de l\"objet CashRegister.\n",
        "   * Une mèthode nommèe clear qui doit effacer la liste interne de l\"objet CashRegister.\n",
        " Dèmontrez la classe CashRegister dans un programme qui permet è  l\"utilisateur de sèlectionner plusieurs articles è  acheter. Lorsque l\"utilisateur est prèªt è  payer, le programme doit afficher une liste de tous les articles qu\"il a sèlectionnès pour l\"achat, ainsi que le prix total."
      ],
      "metadata": {
        "id": "OFF0Gr--55i3"
      }
    },
    {
      "cell_type": "code",
      "source": [
        "class Retailltem:\n",
        "    def __init__(self, description, unit, prix):\n",
        "      self.description = description\n",
        "      self.unit = unit\n",
        "      self.prix = prix\n",
        "\n",
        "class CashRegister:\n",
        "    def __init__(self, lst=[]):\n",
        "      self.lst = lst\n",
        "\n",
        "    def get_total(self, lst):\n",
        "      total = 0\n",
        "      for obj in lst :\n",
        "          total = obj.prix + total\n",
        "      return total\n",
        "    def show_items(self,lst):\n",
        "      for obj in lst:\n",
        "        print(obj.description)  \n",
        "        print(obj.unit)\n",
        "        print(obj.prix)\n",
        "\n",
        "\n",
        "n = int(input(\"Entrez le nombre de Objects dans le list :\"))\n",
        "list_object = []\n",
        "for i in range(n):\n",
        "  des = input(\"Entrez la description de la item : \")   \n",
        "  un = input(\"Entrez la unit de la item : \") \n",
        "  pr = float(input(\"Entrez la prix de la item\"))  \n",
        "  Obj = Retailltem(des, un, pr)\n",
        "  list_object.append(Obj)\n",
        "\n",
        "print(list_object[0].description)"
      ],
      "metadata": {
        "colab": {
          "base_uri": "https://localhost:8080/"
        },
        "id": "83gwrTLO6q6I",
        "outputId": "4a7477e3-7754-408c-b3c8-4558177fc61c"
      },
      "execution_count": 99,
      "outputs": [
        {
          "output_type": "stream",
          "name": "stdout",
          "text": [
            "Entrez le nombre de Objects dans le list :2\n",
            "Entrez la description de la item : veste\n",
            "Entrez la unit de la item : m\n",
            "Entrez la prix de la item77\n",
            "Entrez la description de la item : tshirt\n",
            "Entrez la unit de la item : l\n",
            "Entrez la prix de la item90\n",
            "veste\n"
          ]
        }
      ]
    }
  ]
}