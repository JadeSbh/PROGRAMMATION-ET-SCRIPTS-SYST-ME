{
  "nbformat": 4,
  "nbformat_minor": 0,
  "metadata": {
    "colab": {
      "name": "Exercise 10.ipynb",
      "provenance": [],
      "authorship_tag": "ABX9TyNs8FwnYv+ifhF1Bh2gZ0Qm",
      "include_colab_link": true
    },
    "kernelspec": {
      "name": "python3",
      "display_name": "Python 3"
    },
    "language_info": {
      "name": "python"
    }
  },
  "cells": [
    {
      "cell_type": "markdown",
      "metadata": {
        "id": "view-in-github",
        "colab_type": "text"
      },
      "source": [
        "<a href=\"https://colab.research.google.com/github/JadeSbh/PROGRAMMATION-ET-SCRIPTS-SYST-ME/blob/main/Exercise_10.ipynb\" target=\"_parent\"><img src=\"https://colab.research.google.com/assets/colab-badge.svg\" alt=\"Open In Colab\"/></a>"
      ]
    },
    {
      "cell_type": "markdown",
      "source": [
        "#Exercise 10:"
      ],
      "metadata": {
        "id": "Ldgy51Sk21EI"
      }
    },
    {
      "cell_type": "markdown",
      "source": [
        "### 1. Classe pour animaux de compagnie ⁉\n",
        "\n",
        "Ã‰crivez une classe nommÃ©e Pet, qui devrait avoir les attributs de donnÃ©es suivantsÂ :\n",
        "* __name (pour le nom d'un animal de compagnie)\n",
        "* __animal_type (pour le type d'animal qu'est un animal de compagnie. Des exemples de valeurs sont Â«Â ChienÂ Â», Â«Â ChatÂ Â»,\n",
        "et Â«Â oiseauÂ Â»)\n",
        "* __age (pour l'Ã¢ge de l'animal)\n",
        "\n",
        "Il devrait Ã©galement avoir les mÃ©thodes suivantes:\n",
        "* set_name\n",
        "Cette mÃ©thode affecte une valeur au champ __name.\n",
        "* set_animal_type\n",
        "Cette mÃ©thode affecte une valeur au champ __animal_type.\n",
        "* set_age\n",
        "Cette mÃ©thode affecte une valeur au champ __age.\n",
        "* get_name\n",
        "Cette mÃ©thode renvoie la valeur du champ __name.\n",
        "* get_animal_type\n",
        "Cette mÃ©thode renvoie la valeur du champ __animal_type.\n",
        "* get_age\n",
        "Cette mÃ©thode renvoie la valeur du champ __age.\n",
        "\n",
        "Une fois que vous avez Ã©crit la classe, Ã©crivez un programme qui crÃ©e un objet de la classe et invite l'utilisateur Ã  entrer le nom, le type et l'Ã¢ge de son animal de compagnie. Ces donnÃ©es doivent Ãªtre stockÃ©es en tant qu'attributs de l'objet. Utilisez les mÃ©thodes d'accÃ¨s de l'objet pour rÃ©cupÃ©rer le nom, le type et l'Ã¢ge de l'animal et afficher ces donnÃ©es Ã  l'Ã©cran."
      ],
      "metadata": {
        "id": "BxCJQjCu25Nh"
      }
    },
    {
      "cell_type": "code",
      "source": [
        "class Pet :\n",
        "    #class attributes:\n",
        "    def __int__(self, name, animal_type, age):\n",
        "      self.name = name\n",
        "      self.animal_type = animal_type\n",
        "      self.age = age\n",
        "\n",
        "    def __str__(self):\n",
        "      return f\"The pet {self.name} is a {self.animal_type} and it is {self.age} years old\"  \n",
        "\n",
        "    def set_name(self, champ_name):\n",
        "       self.name = champ_name\n",
        "\n",
        "    def set_animal_type(self, champ_animal_type):\n",
        "      self.animal_type = champ_animal_type\n",
        "\n",
        "    def set_age(self, champ_age):\n",
        "      self.age = champ_age\n",
        "\n",
        "    def get_name(self):\n",
        "      return f\" the pet name is {self.name}\"\n",
        "\n",
        "    def get_animal_type(self):\n",
        "      return f\" it is a {self.animal_type} .\"\n",
        "\n",
        "    def get_age(self):\n",
        "      return f\" it is {self.age} years old\" \n",
        "\n",
        "def entry_validation():\n",
        "  while True:\n",
        "    age = input(\"entrez le age : \")\n",
        "    if age.isdigit():\n",
        "      return age\n",
        "      break\n",
        "    else:\n",
        "      print(\"entrez un number\")\n",
        "      \n",
        "memona = Pet()\n",
        "x = input(\"entrez le nom : \")\n",
        "the_type = input(\"Entrez le type : \")\n",
        "y = entry_validation()        \n",
        "memona.set_name(x)\n",
        "memona.set_animal_type(the_type)\n",
        "memona.set_age(y)\n",
        "memona.get_name()\n",
        "\n"
      ],
      "metadata": {
        "colab": {
          "base_uri": "https://localhost:8080/",
          "height": 122
        },
        "id": "29r6p6B228rv",
        "outputId": "b27b960a-7169-42ae-d585-9a7981f42806"
      },
      "execution_count": 51,
      "outputs": [
        {
          "name": "stdout",
          "output_type": "stream",
          "text": [
            "entrez le nom : memona\n",
            "Entrez le type : cat\n",
            "entrez le age : khgfk\n",
            "entrez un number\n",
            "entrez le age : 6\n"
          ]
        },
        {
          "output_type": "execute_result",
          "data": {
            "text/plain": [
              "' the pet name is memona'"
            ],
            "application/vnd.google.colaboratory.intrinsic+json": {
              "type": "string"
            }
          },
          "metadata": {},
          "execution_count": 51
        }
      ]
    },
    {
      "cell_type": "markdown",
      "source": [
        "### 2 Classe de voiture:\n",
        "\n",
        "Ã‰crivez une classe nommÃ©e Car qui a les attributs de donnÃ©es suivantsÂ :\n",
        "* __year_model (pour le modÃ¨le de l'annÃ©e de la voiture)\n",
        "* __make (pour la marque de la voiture)\n",
        "* __speed (pour la vitesse actuelle de la voiture)\n",
        "\n",
        "La classe Car doit avoir une mÃ©thode _ _init_ _ qui accepte le modÃ¨le d'annÃ©e de la voiture et le fait comme arguments. Ces valeurs doivent Ãªtre affectÃ©es aux attributs de donnÃ©es _ _year_model et _ _make de l'objet. Il doit Ã©galement affecter 0 Ã  l'attribut de donnÃ©es _ _speed.\n",
        "\n",
        "La classe devrait Ã©galement avoir les mÃ©thodes suivantesÂ :\n",
        "* accelerate\n",
        "La mÃ©thode d'accÃ©lÃ©ration doit ajouter 5 Ã  l'attribut de donnÃ©es de vitesse Ã  chaque fois qu'elle est appelÃ©e.\n",
        "* brake\n",
        "La mÃ©thode de freinage doit soustraire 5 de l'attribut de donnÃ©es de vitesse Ã  chaque fois qu'elle est appelÃ©e.\n",
        "* get_speed\n",
        "La mÃ©thode get_speed doit renvoyer la vitesse actuelle.\n",
        "\n",
        "Ensuite, concevez un programme qui crÃ©e un objet Car puis appelle la mÃ©thode d'accÃ©lÃ©ration cinq fois. AprÃ¨s chaque appel Ã  la mÃ©thode d'accÃ©lÃ©ration, obtenez la vitesse actuelle de la voiture et affichez-la. Ensuite, appelez la mÃ©thode de freinage cinq fois. AprÃ¨s chaque appel Ã  la mÃ©thode de freinage, obtenez la vitesse actuelle de la voiture et affichez-la."
      ],
      "metadata": {
        "id": "wO2gNC8UETrP"
      }
    },
    {
      "cell_type": "code",
      "source": [
        "class Car :\n",
        "\n",
        "    def __init__(self, year_model, make, speed):\n",
        "      self.year_model = year_model\n",
        "      self.make = make\n",
        "      self.speed = speed\n",
        "\n",
        "    def accelerate(self, ):\n",
        "\n",
        "    def brake(self, ):\n",
        "\n",
        "    def get_speed(self, ):\n",
        "         "
      ],
      "metadata": {
        "id": "q3if7s6YEnEN"
      },
      "execution_count": null,
      "outputs": []
    }
  ]
}