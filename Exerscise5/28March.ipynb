{
  "nbformat": 4,
  "nbformat_minor": 0,
  "metadata": {
    "colab": {
      "name": "Untitled1.ipynb",
      "provenance": [],
      "authorship_tag": "ABX9TyNt6y9aAlN38iodTQ6f06fB",
      "include_colab_link": true
    },
    "kernelspec": {
      "name": "python3",
      "display_name": "Python 3"
    },
    "language_info": {
      "name": "python"
    }
  },
  "cells": [
    {
      "cell_type": "markdown",
      "metadata": {
        "id": "view-in-github",
        "colab_type": "text"
      },
      "source": [
        "<a href=\"https://colab.research.google.com/github/JadeSbh/PROGRAMMATION-ET-SCRIPTS-SYST-ME/blob/main/Exerscise5/28March.ipynb\" target=\"_parent\"><img src=\"https://colab.research.google.com/assets/colab-badge.svg\" alt=\"Open In Colab\"/></a>"
      ]
    },
    {
      "cell_type": "markdown",
      "source": [
        "#EXCERCISE 5 \n",
        "\n",
        "```\n",
        "# This is formatted as code\n",
        "```\n",
        "\n"
      ],
      "metadata": {
        "id": "bX23GeDPlQcN"
      }
    },
    {
      "cell_type": "markdown",
      "source": [
        "### 1. Convertisseur kilomÃ©trique\n",
        "Ã‰crivez un programme qui demande Ã  l'utilisateur d'entrer une distance en kilomÃ¨tres, puis convertit cette distance en miles. La formule de conversion est la suivante :\n",
        "\n",
        "Miles = KilomÃ¨tres x 0.6214"
      ],
      "metadata": {
        "id": "MDZXdrwp-LWT"
      }
    },
    {
      "cell_type": "code",
      "source": [
        "def functionDistance():\n",
        "  distanceKm = float(input(\"Entrez-Vous une distance en kilomatres : \"))\n",
        "  result = distanceKm * 0.6214\n",
        "  return result\n",
        "\n",
        "print(\"The distance en Miles est :\", functionDistance())\n"
      ],
      "metadata": {
        "colab": {
          "base_uri": "https://localhost:8080/"
        },
        "id": "GkefPGsy-Pl6",
        "outputId": "e79dccff-5af3-474b-d8d8-8fd79d6234e6"
      },
      "execution_count": null,
      "outputs": [
        {
          "output_type": "stream",
          "name": "stdout",
          "text": [
            "Entrez-Vous une distance en kilomatres : 7\n",
            "The distance en Miles est : 4.3498\n"
          ]
        }
      ]
    },
    {
      "cell_type": "markdown",
      "source": [
        "2. RÃ©pÃ©teur de chaÃ®ne\n",
        "Python vous permet de rÃ©pÃ©ter une chaÃ®ne en la multipliant par un entier, par ex. 'Hi' * 3 donnera 'HiHiHi'. Imaginez que cette fonctionnalitÃ© n'existe pas et Ã©crivez Ã  la place une fonction nommÃ©e repeat qui accepte une chaÃ®ne et un entier comme arguments. La fonction doit renvoyer une chaÃ®ne de la chaÃ®ne d'origine rÃ©pÃ©tÃ©e le nombre de fois spÃ©cifiÃ©, par ex. repeat('Hi', 3) devrait renvoyer 'HiHiHi'."
      ],
      "metadata": {
        "id": "vjp9SPly_nAt"
      }
    },
    {
      "cell_type": "markdown",
      "source": [
        "###2. RÃ©pÃ©teur de chaÃ®ne\n",
        " Python vous permet de rèpèter une chaène en la multipliant par un entier, par ex.  Hi * 3 donnera HiHiHi. Imaginez que cette fonctionnalitè nexiste pas et ècrivez è  la place une fonction nommèe repeat qui accepte une chaène et un entier comme arguments. La fonction doit renvoyer une chaène de la chaène dorigine rèpètèe le nombre de fois spècifiè, par ex. repeat(Hi, 3) devrait renvoyer HiHiHi."
      ],
      "metadata": {
        "id": "PElk_DlrAuiT"
      }
    },
    {
      "cell_type": "code",
      "source": [
        "def repeatMe(str, num):\n",
        "  result=''\n",
        "  for i in range(num):\n",
        "    result = result + str\n",
        "  print(result)\n",
        "\n",
        "\n",
        "repeatMe('hi', 8)  "
      ],
      "metadata": {
        "colab": {
          "base_uri": "https://localhost:8080/"
        },
        "id": "mLfGQ5VFAwsA",
        "outputId": "c35828ff-8a45-4845-d4c3-ef81dc7a156a"
      },
      "execution_count": null,
      "outputs": [
        {
          "output_type": "stream",
          "name": "stdout",
          "text": [
            "hihihihihihihihi\n"
          ]
        }
      ]
    },
    {
      "cell_type": "markdown",
      "source": [
        "\n",
        "\n",
        "> Indented block\n",
        "\n",
        "\n",
        "3.  Combien d'assurance ? De nombreux experts financiers conseillent aux propriètaires d'assurer leurs maisons ou leurs bè¢timents pour au moins 80 % du montant quil en coèterait pour remplacer la structure. ècrivez un programme qui demande è l'utilisateur dentrer le coèt de remplacement d'un bè¢timent, puis affiche le montant minimum d'assurance qu'il doit acheter pour la propriètè."
      ],
      "metadata": {
        "id": "6NycyphzCTGy"
      }
    },
    {
      "cell_type": "code",
      "source": [
        "def combienDassurance(X):\n",
        "  result = X * 0.8\n",
        "  return result\n",
        "\n",
        "coat = float(input(\"Entrez-Vous le coat de remplacement de vous bactiment :\"))\n",
        "print(\"le montant minimum d'assurance qu'il doit acheter est :\", combienDassurance(coat))\n",
        "\n",
        "  \n"
      ],
      "metadata": {
        "colab": {
          "base_uri": "https://localhost:8080/"
        },
        "id": "ciKGLYtGCX8t",
        "outputId": "1a3ae4d0-558b-43b7-ca01-dac68e9ed179"
      },
      "execution_count": null,
      "outputs": [
        {
          "output_type": "stream",
          "name": "stdout",
          "text": [
            "Entrez-Vous le coat de remplacement de vous bactiment :700\n",
            "le montant minimum d'assurance qu'il doit acheter est : 560.0\n"
          ]
        }
      ]
    },
    {
      "cell_type": "markdown",
      "source": [
        "###\n",
        "4. Frais d'automobile\n",
        "Ã‰crivez un programme qui demande Ã  l'utilisateur d'entrer les coÃ»ts mensuels des dÃ©penses suivantes encourues pour l'utilisation de son automobile : remboursement du prÃªt, assurance, essence, huile, pneus et entretien. Le programme devrait alors afficher le coÃ»t mensuel total de ces dÃ©penses, et le coÃ»t annuel total de ces dÃ©penses."
      ],
      "metadata": {
        "id": "yA3xkAyhFbmC"
      }
    },
    {
      "cell_type": "code",
      "source": [
        "def calculate(A, B, C, D, E, F):\n",
        "  result0 = A+B+C+D+E+F\n",
        "  print('le coat mensuel total de les dapenses est : ', result0)\n",
        "  result  = result0 * 12\n",
        "  return result\n",
        "\n",
        "\n",
        "coat1 = float(input(\"Entrez-vous le coat de remboursement du prÃªt : \"))\n",
        "coat2 = float(input(\"Entrez-vous le coat de remboursement du assurance : \"))\n",
        "coat3 = float(input(\"Entrez-vous le coat de remboursement du essence : \"))\n",
        "coat4 = float(input(\"Entrez-vous le coat de remboursement du huile : \"))\n",
        "coat5 = float(input(\"Entrez-vous le coat de remboursement du pneus : \"))\n",
        "coat6 = float(input(\"Entrez-vous le coat de remboursement du entretien : \"))\n",
        "print('le coat annuel total de les daenses est : ', calculate(coat1, coat2, coat3, coat4, coat5, coat6))"
      ],
      "metadata": {
        "colab": {
          "base_uri": "https://localhost:8080/"
        },
        "id": "71lKC23ZFhnW",
        "outputId": "58633d82-5b97-4542-e6aa-b906c71b814d"
      },
      "execution_count": null,
      "outputs": [
        {
          "output_type": "stream",
          "name": "stdout",
          "text": [
            "Entrez-vous le coat de remboursement du prÃªt : 9\n",
            "Entrez-vous le coat de remboursement du assurance : 7\n",
            "Entrez-vous le coat de remboursement du essence : 6\n",
            "Entrez-vous le coat de remboursement du huile : 5\n",
            "Entrez-vous le coat de remboursement du pneus : 4\n",
            "Entrez-vous le coat de remboursement du entretien : 3\n",
            "le coat mensuel total de les dapenses est :  34.0\n",
            "le coat annuel total de les daenses est :  408.0\n"
          ]
        }
      ]
    },
    {
      "cell_type": "markdown",
      "source": [
        "###5. Taxe fonciÃ¨re\n",
        "Un comtÃ© perÃ§oit des impÃ´ts fonciers sur la valeur d'Ã©valuation de la propriÃ©tÃ©, qui reprÃ©sente 60 % de la valeur rÃ©elle de la propriÃ©tÃ©. Par exemple, si un acre de terrain est Ã©valuÃ© Ã  10 000 $, sa valeur d'Ã©valuation est de 6 000 $. La taxe fonciÃ¨re est alors de 72 pour chaque 100 $ de la valeur d'Ã©valuation. La taxe pour l'acre Ã©valuÃ©e Ã  6 000 $ sera de 43,20 $. RÃ©digez un programme qui demande la valeur rÃ©elle d'un terrain et affiche la valeur d'Ã©valuation et l'impÃ´t foncier."
      ],
      "metadata": {
        "id": "krHDUIDlJLTJ"
      }
    },
    {
      "cell_type": "markdown",
      "source": [
        "###6. Calories provenant des lipides et des glucides\n",
        "Un nutritionniste qui travaille pour un club de fitness aide les membres en Ã©valuant leur alimentation. Dans le cadre de son Ã©valuation, elle demande aux membres le nombre de grammes de gras et de glucides qu'ils ont consommÃ©s en une journÃ©e. Ensuite, elle calcule le nombre de calories qui rÃ©sultent de la graisse, en utilisant la formule suivante :\n",
        "\n",
        "calories grasses = grammes de gras x 9\n",
        "\n",
        "Ensuite, elle calcule le nombre de calories qui rÃ©sultent des glucides, en utilisant le\n",
        "formule suivante :\n",
        "\n",
        "calories glucides = grammes de glucides x 4\n",
        "\n",
        "Le nutritionniste vous demande d'Ã©crire un programme qui fera ces calculs."
      ],
      "metadata": {
        "id": "DFEZtUnJLJqx"
      }
    },
    {
      "cell_type": "code",
      "source": [
        "def calculateCgrasses(grasGrammeTotal):\n",
        "  result = grasGrammeTotal * 9\n",
        "  return result\n",
        "def calculateCglucides(glucidesGrammeTotal):\n",
        "  result = glucidesGrammeTotal * 4\n",
        "  return result\n",
        "gras = float(input(\"Entrez-Vous le nombre de grammes de gras qui vous avez consomme : \"))\n",
        "glucides = float(input(\"Entrez-Vous le nombre de grammes de gras qui vous avez consomme : \"))\n",
        "print('le nombre de calories qui rÃ©sultent des glucides', calculateCglucides(glucides) )\n",
        "print('le nombre de calories qui rÃ©sultent des gras', calculateCgrasses(gras) )\n"
      ],
      "metadata": {
        "colab": {
          "base_uri": "https://localhost:8080/"
        },
        "id": "uGs7a78oLMEn",
        "outputId": "4696a256-a033-4471-d783-550681013805"
      },
      "execution_count": null,
      "outputs": [
        {
          "output_type": "stream",
          "name": "stdout",
          "text": [
            "Entrez-Vous le nombre de grammes de gras qui vous avez consomme : 9\n",
            "Entrez-Vous le nombre de grammes de gras qui vous avez consomme : 7\n",
            "le nombre de calories qui rÃ©sultent des glucides 28.0\n",
            "le nombre de calories qui rÃ©sultent des gras 81.0\n"
          ]
        }
      ]
    },
    {
      "cell_type": "markdown",
      "source": [
        "###7. Places assises du stade\n",
        "Il y a trois catÃ©gories de siÃ¨ges dans un stade. Les siÃ¨ges de classe A coÃ»tent 20 $, les siÃ¨ges de classe B coÃ»tent 15 $ et les siÃ¨ges de classe C coÃ»tent 10 $. RÃ©digez un programme qui demande combien de billets pour chaque classe de siÃ¨ges ont Ã©tÃ© vendus, puis affiche le montant des revenus gÃ©nÃ©rÃ©s par la vente de billets."
      ],
      "metadata": {
        "id": "nV-7vfH8OIHr"
      }
    },
    {
      "cell_type": "code",
      "source": [
        "def calculateBillets(ClassA, ClassB, ClassC):\n",
        "  revenuDeA = 20 * ClassA\n",
        "  print(\"le montant de revenu gangne par la vente de billets de Class A est :\", revenuDeA)\n",
        "  revenuDeB = 15 * ClassB\n",
        "  print(\"le montant de revenu gangne par la vente de billets de Class B est :\", revenuDeB)\n",
        "  revenuDeC = 10 * ClassC\n",
        "  print(\"le montant de revenu gangne par la vente de billets de Class C est :\", revenuDeC)\n",
        "  total = revenuDeA + revenuDeB + revenuDeC\n",
        "  return total\n",
        "\n",
        "nomBilletClassA = int(input(\"Entrez-Vouz combien de billets de Class A ont vendu : \" ))\n",
        "nomBilletClassB = int(input(\"Entrez-Vouz combien de billets de Class B ont vendu : \" ))\n",
        "nomBilletClassC = int(input(\"Entrez-Vouz combien de billets de Class C ont vendu : \" ))\n",
        "print(\"le montant des revenus ganage par la vente de billets est : \", calculateBillets(nomBilletClassA, nomBilletClassB, nomBilletClassC))\n"
      ],
      "metadata": {
        "colab": {
          "base_uri": "https://localhost:8080/"
        },
        "id": "dESiYR3DORIo",
        "outputId": "600ad97f-d06b-404d-9556-0d2b7a4e83e5"
      },
      "execution_count": null,
      "outputs": [
        {
          "output_type": "stream",
          "name": "stdout",
          "text": [
            "Entrez-Vouz combien de billets de Class A ont vendu : 4\n",
            "Entrez-Vouz combien de billets de Class B ont vendu : 5\n",
            "Entrez-Vouz combien de billets de Class C ont vendu : 9\n",
            "le montant de revenu gangne par la vente de billets de Class A 80\n",
            "le montant de revenu gangne par la vente de billets de Class B 75\n",
            "le montant de revenu gangne par la vente de billets de Class C 90\n",
            "le montant des revenus ganage par la vente de billets est :  245\n"
          ]
        }
      ]
    },
    {
      "cell_type": "markdown",
      "source": [
        "###8. Estimateur de travaux de peinture\n",
        "Une entreprise de peinture a dÃ©terminÃ© que pour chaque 112 pieds carrÃ©s d'espace mural, un gallon de peinture et huit heures de travail seront nÃ©cessaires. L'entreprise facture 35 $ de l'heure pour la main-d'Å“uvre. Ã‰crivez un programme qui demande Ã  l'utilisateur d'entrer les pieds carrÃ©s d'espace mural Ã  peindre et le prix de la peinture par gallon. Le programme doit afficher les donnÃ©es suivantesÂ :\n",
        "\n",
        "* Le nombre de gallons de peinture requis\n",
        "* Les heures de travail nÃ©cessaires\n",
        "* Le coÃ»t de la peinture\n",
        "* Les frais de main d'oeuvre\n",
        "* Le coÃ»t total du travail de peinture"
      ],
      "metadata": {
        "id": "P_RWtZcxTWUS"
      }
    },
    {
      "cell_type": "code",
      "source": [
        "def nombreDeGallonsHeures(pieds):\n",
        "  gallonNombre = pieds / 112\n",
        "  print(\"le nombre de gallons de peinture requis pour \", pieds, \"  pieds est \", gallonNombre )\n",
        "  heuresNombre = 8 * pieds / 112\n",
        "  print(\"le nombre de gallons de heures requis pour \", pieds, \"  pieds est \", heuresNombre )\n",
        "  return gallonNombre, gallonNombre\n",
        "def coatPeintureMain (pieds, galonprix):\n",
        "   A, B = nombreDeGallonsHeures(pieds)\n",
        "   fraisMain = B * 35\n",
        "   coatPeinture = A * galonprix\n",
        "   totalFinal = fraisMain + coatPeinture\n",
        "   \n",
        "   return fraisMain, coatPeinture\n",
        "\n",
        "\n",
        "nombreDePiedsCarr = float(input(\" Entrez-Vous les pieds carrés \"))\n",
        "LePrixDeGallon = flaot(input(\"Entrez Vous le prix de Galon \"))\n",
        "Print(coatPeintureMain(nombreDePiedsCarr, LePrixDeGallon))"
      ],
      "metadata": {
        "id": "v8odgxR5TdAY"
      },
      "execution_count": null,
      "outputs": []
    },
    {
      "cell_type": "markdown",
      "source": [
        "###9 9. Taxe de vente mensuelle\n",
        " Une entreprise de vente au dètail doit dèposer un rapport de taxe de vente mensuel rèpertoriant ***le total des ventes pour le mois*** et ***le montant de la taxe de vente de l'ètat*** et ***du comtè collectè***. Le taux de la taxe de vente de l'ètat est de 5 pour cent et le taux de la taxe de vente du comtè est de 2,5 pour cent. ècrivez un programme qui demande è  l'utilisateur d'entrer le total des ventes pour le mois. A partir de cette figure, l'application doit calculer et afficher les èlèments suivantsÂ :\n",
        "\n",
        "  â€¢ Le montant de la taxe de vente dèpartementale\n",
        "\n",
        "  â€¢ Le montant de la taxe de vente de lètat \n",
        "\n",
        "  â€¢ La taxe de vente totale (comtè plus ètat)\n"
      ],
      "metadata": {
        "id": "sfaj6Nz4NVQU"
      }
    },
    {
      "cell_type": "code",
      "source": [
        "\n",
        "def ètatTaxe(total) :\n",
        "  result = total * 0.05\n",
        "  print('Le montant de la taxe de vente de lètat est : ', result)\n",
        "  return result\n",
        "def comteTaxe(total) :\n",
        "  result1 = total * 0.025\n",
        "  print('Le montant de la taxe de vente dèpartementale est : ', result1)\n",
        "  return result1 \n",
        "def calculè(taxe1, taxe2):\n",
        "  print('La taxe de vente totale', taxe1+taxe2)\n",
        "\n",
        "totalDesVente= float(input(\"Entrez  le total des ventes pour le mois :\"))\n",
        "x = ètatTaxe(totalDesVente)\n",
        "y = comteTaxe(totalDesVente)\n",
        "calculè(x, y)\n"
      ],
      "metadata": {
        "colab": {
          "base_uri": "https://localhost:8080/"
        },
        "id": "OmdoXPGu3cV9",
        "outputId": "f7dd6026-a616-4d92-ee56-5e06dc403e64"
      },
      "execution_count": 4,
      "outputs": [
        {
          "output_type": "stream",
          "name": "stdout",
          "text": [
            "Entrez  le total des ventes pour le mois :600\n",
            "Le montant de la taxe de vente de lètat est :  30.0\n",
            "Le montant de la taxe de vente dèpartementale est :  15.0\n",
            "La taxe de vente totale 45.0\n"
          ]
        }
      ]
    },
    {
      "cell_type": "markdown",
      "source": [
        "###10  Pieds en pouces Un pied èquivaut è  12 pouces. ècrivez une fonction nommèe feet_to_inches qui accepte un nombre de pieds comme argument et renvoie le nombre de pouces dans ce nombre de pieds. Utilisez la fonction dans un programme qui invite lutilisateur è  entrer un nombre de pieds puis affiche le nombre de pouces dans ce nombre de pieds."
      ],
      "metadata": {
        "id": "uBMs64qh8xyl"
      }
    },
    {
      "cell_type": "code",
      "source": [
        "def feet_to_inches(nombredepieds) :\n",
        "  result = nombredepieds * 12\n",
        "  return result\n",
        "\n",
        "x = float(input(\"entrez le nombre de pieds : \"))  \n",
        "y = feet_to_inches(x)\n",
        "print(f\"le nombre de pouces dans {x}  pied est :  {y} pouce\")"
      ],
      "metadata": {
        "colab": {
          "base_uri": "https://localhost:8080/"
        },
        "id": "2atC24w99NgN",
        "outputId": "f8692430-379d-49d1-b523-13b19872aa13"
      },
      "execution_count": 9,
      "outputs": [
        {
          "output_type": "stream",
          "name": "stdout",
          "text": [
            "entrez le nombre de pieds : 70\n",
            "le nombre de pouces dans 70.0  pied est :  840.0 pouce\n"
          ]
        }
      ]
    },
    {
      "cell_type": "markdown",
      "source": [
        "###11 \n",
        " Test d'addition\n",
        "  Ecrivez un programme qui gènère des tests d'addition imprimables. Les tests doivent consister en 5 questions qui prèsentent une simple question d'addition dans le format suivant, oè¹ le numèro de la question va de 1 è  5, et num1 et num2 sont des nombres gènèrès alèatoirement entre 1 et 10Â : Question 1\n",
        " num1 + num2 = _____\n",
        "\n",
        " Le programme devrait simplement afficher les 5 questions - il ne devrait demander aucune entrèe è  lutilisateur."
      ],
      "metadata": {
        "id": "giBIQwV3_TGm"
      }
    },
    {
      "cell_type": "code",
      "source": [
        ""
      ],
      "metadata": {
        "colab": {
          "base_uri": "https://localhost:8080/",
          "height": 165
        },
        "id": "rp07GfBOBQ6n",
        "outputId": "8cec2dda-4a3b-49e1-e669-82b2a82eded0"
      },
      "execution_count": 12,
      "outputs": [
        {
          "output_type": "error",
          "ename": "NameError",
          "evalue": "ignored",
          "traceback": [
            "\u001b[0;31m---------------------------------------------------------------------------\u001b[0m",
            "\u001b[0;31mNameError\u001b[0m                                 Traceback (most recent call last)",
            "\u001b[0;32m<ipython-input-12-46db40d5c6c5>\u001b[0m in \u001b[0;36m<module>\u001b[0;34m()\u001b[0m\n\u001b[0;32m----> 1\u001b[0;31m \u001b[0mrandom\u001b[0m\u001b[0;34m.\u001b[0m\u001b[0mrandgen\u001b[0m\u001b[0;34m(\u001b[0m\u001b[0;36m1\u001b[0m\u001b[0;34m,\u001b[0m \u001b[0;36m9\u001b[0m\u001b[0;34m)\u001b[0m\u001b[0;34m\u001b[0m\u001b[0;34m\u001b[0m\u001b[0m\n\u001b[0m",
            "\u001b[0;31mNameError\u001b[0m: name 'random' is not defined"
          ]
        }
      ]
    },
    {
      "cell_type": "markdown",
      "source": [
        "### 12\n",
        " Maximum de deux valeurs\n",
        "Ã‰crivez une fonction nommÃ©e max qui accepte deux valeurs entiÃ¨res comme arguments et renvoie la valeur qui est la plus Ã©levÃ©e des deux. Par exemple, si 7 et 12 sont passÃ©s comme arguments Ã  la fonction, la fonction doit renvoyer 12. Utilisez la fonction dans un programme qui invite l'utilisateur Ã  entrer deux valeurs entiÃ¨res. Le programme doit afficher la valeur qui est la plus Ã©levÃ©e des deux."
      ],
      "metadata": {
        "id": "PKg1-W0TDdyE"
      }
    },
    {
      "cell_type": "code",
      "source": [
        "def max1 (num1, num2) :\n",
        "  if num1 > num2 :\n",
        "    return(num1)\n",
        "  elif num1 < num2 :\n",
        "    return(num2)\n",
        "  else:\n",
        "    print(\"les deux nombres sont egale\")  \n",
        "x = float(input(\" Entrez le 1er nombre : \"))\n",
        "y = float(input(\" Entrez le 2em nombre : \"))\n",
        "max1(x, y)\n",
        "\n"
      ],
      "metadata": {
        "colab": {
          "base_uri": "https://localhost:8080/"
        },
        "id": "NTGcgqVcDsbH",
        "outputId": "c20c6208-260c-4b3a-e1b0-1726bda5f017"
      },
      "execution_count": 15,
      "outputs": [
        {
          "output_type": "stream",
          "name": "stdout",
          "text": [
            " Entrez le 1er nombre : 9\n",
            " Entrez le 2em nombre : 9\n",
            "les deux nombres sont egale\n"
          ]
        }
      ]
    },
    {
      "cell_type": "code",
      "source": [
        "x = float(input(\" Entrez le 1er nombre : \"))\n",
        "y = float(input(\" Entrez le 2em nombre : \"))\n",
        "max(x, y)"
      ],
      "metadata": {
        "colab": {
          "base_uri": "https://localhost:8080/"
        },
        "id": "097mQHJjFY3O",
        "outputId": "107c7329-fd46-40f9-bf00-b14c8475c448"
      },
      "execution_count": 13,
      "outputs": [
        {
          "name": "stdout",
          "output_type": "stream",
          "text": [
            " Entrez le 1er nombre : 4\n",
            " Entrez le 2em nombre : 8\n"
          ]
        },
        {
          "output_type": "execute_result",
          "data": {
            "text/plain": [
              "8.0"
            ]
          },
          "metadata": {},
          "execution_count": 13
        }
      ]
    }
  ]
}