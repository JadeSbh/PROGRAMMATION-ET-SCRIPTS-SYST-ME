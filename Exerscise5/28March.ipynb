{
  "nbformat": 4,
  "nbformat_minor": 0,
  "metadata": {
    "colab": {
      "name": "Untitled1.ipynb",
      "provenance": [],
      "authorship_tag": "ABX9TyNgBY+EJogSIsRszCBjNXxc",
      "include_colab_link": true
    },
    "kernelspec": {
      "name": "python3",
      "display_name": "Python 3"
    },
    "language_info": {
      "name": "python"
    }
  },
  "cells": [
    {
      "cell_type": "markdown",
      "metadata": {
        "id": "view-in-github",
        "colab_type": "text"
      },
      "source": [
        "<a href=\"https://colab.research.google.com/github/JadeSbh/PROGRAMMATION-ET-SCRIPTS-SYST-ME/blob/main/Exerscise5/28March.ipynb\" target=\"_parent\"><img src=\"https://colab.research.google.com/assets/colab-badge.svg\" alt=\"Open In Colab\"/></a>"
      ]
    },
    {
      "cell_type": "markdown",
      "source": [
        "#EXCERCISE 5 \n",
        "\n",
        "```\n",
        "# This is formatted as code\n",
        "```\n",
        "\n"
      ],
      "metadata": {
        "id": "bX23GeDPlQcN"
      }
    },
    {
      "cell_type": "markdown",
      "source": [
        "### 1. Convertisseur kilomÃ©trique\n",
        "Ã‰crivez un programme qui demande Ã  l'utilisateur d'entrer une distance en kilomÃ¨tres, puis convertit cette distance en miles. La formule de conversion est la suivante :\n",
        "\n",
        "Miles = KilomÃ¨tres x 0.6214"
      ],
      "metadata": {
        "id": "MDZXdrwp-LWT"
      }
    },
    {
      "cell_type": "code",
      "source": [
        "def functionDistance():\n",
        "  distanceKm = float(input(\"Entrez-Vous une distance en kilomatres : \"))\n",
        "  result = distanceKm * 0.6214\n",
        "  return result\n",
        "\n",
        "print(\"The distance en Miles est :\", functionDistance())\n"
      ],
      "metadata": {
        "colab": {
          "base_uri": "https://localhost:8080/"
        },
        "id": "GkefPGsy-Pl6",
        "outputId": "e79dccff-5af3-474b-d8d8-8fd79d6234e6"
      },
      "execution_count": 4,
      "outputs": [
        {
          "output_type": "stream",
          "name": "stdout",
          "text": [
            "Entrez-Vous une distance en kilomatres : 7\n",
            "The distance en Miles est : 4.3498\n"
          ]
        }
      ]
    },
    {
      "cell_type": "markdown",
      "source": [
        "2. RÃ©pÃ©teur de chaÃ®ne\n",
        "Python vous permet de rÃ©pÃ©ter une chaÃ®ne en la multipliant par un entier, par ex. 'Hi' * 3 donnera 'HiHiHi'. Imaginez que cette fonctionnalitÃ© n'existe pas et Ã©crivez Ã  la place une fonction nommÃ©e repeat qui accepte une chaÃ®ne et un entier comme arguments. La fonction doit renvoyer une chaÃ®ne de la chaÃ®ne d'origine rÃ©pÃ©tÃ©e le nombre de fois spÃ©cifiÃ©, par ex. repeat('Hi', 3) devrait renvoyer 'HiHiHi'."
      ],
      "metadata": {
        "id": "vjp9SPly_nAt"
      }
    },
    {
      "cell_type": "markdown",
      "source": [
        "###2. RÃ©pÃ©teur de chaÃ®ne\n",
        "Python vous permet de rÃ©pÃ©ter une chaÃ®ne en la multipliant par un entier, par ex. 'Hi' * 3 donnera 'HiHiHi'. Imaginez que cette fonctionnalitÃ© n'existe pas et Ã©crivez Ã  la place une fonction nommÃ©e repeat qui accepte une chaÃ®ne et un entier comme arguments. La fonction doit renvoyer une chaÃ®ne de la chaÃ®ne d'origine rÃ©pÃ©tÃ©e le nombre de fois spÃ©cifiÃ©, par ex. repeat('Hi', 3) devrait renvoyer 'HiHiHi'."
      ],
      "metadata": {
        "id": "PElk_DlrAuiT"
      }
    },
    {
      "cell_type": "code",
      "source": [
        "def repeatMe(str, num):\n",
        "  result=''\n",
        "  for i in range(num):\n",
        "    result = result + str\n",
        "  print(result)\n",
        "\n",
        "\n",
        "repeatMe('hi', 8)  "
      ],
      "metadata": {
        "colab": {
          "base_uri": "https://localhost:8080/"
        },
        "id": "mLfGQ5VFAwsA",
        "outputId": "c35828ff-8a45-4845-d4c3-ef81dc7a156a"
      },
      "execution_count": 9,
      "outputs": [
        {
          "output_type": "stream",
          "name": "stdout",
          "text": [
            "hihihihihihihihi\n"
          ]
        }
      ]
    },
    {
      "cell_type": "markdown",
      "source": [
        "\n",
        "3. Combien d'assurance ?\n",
        "De nombreux experts financiers conseillent aux propriÃ©taires d'assurer leurs maisons ou leurs bÃ¢timents pour au moins 80 % du montant qu'il en coÃ»terait pour remplacer la structure. Ã‰crivez un programme qui demande Ã  l'utilisateur d'entrer le coÃ»t de remplacement d'un bÃ¢timent, puis affiche le montant minimum d'assurance qu'il doit acheter pour la propriÃ©tÃ©."
      ],
      "metadata": {
        "id": "6NycyphzCTGy"
      }
    },
    {
      "cell_type": "code",
      "source": [
        "def combienDassurance(X):\n",
        "  result = X * 0.8\n",
        "  return result\n",
        "\n",
        "coat = float(input(\"Entrez-Vous le coat de remplacement de vous bactiment :\"))\n",
        "print(\"le montant minimum d'assurance qu'il doit acheter est :\", combienDassurance(coat))\n",
        "\n",
        "  \n"
      ],
      "metadata": {
        "colab": {
          "base_uri": "https://localhost:8080/"
        },
        "id": "ciKGLYtGCX8t",
        "outputId": "1a3ae4d0-558b-43b7-ca01-dac68e9ed179"
      },
      "execution_count": 10,
      "outputs": [
        {
          "output_type": "stream",
          "name": "stdout",
          "text": [
            "Entrez-Vous le coat de remplacement de vous bactiment :700\n",
            "le montant minimum d'assurance qu'il doit acheter est : 560.0\n"
          ]
        }
      ]
    },
    {
      "cell_type": "markdown",
      "source": [
        "###\n",
        "4. Frais d'automobile\n",
        "Ã‰crivez un programme qui demande Ã  l'utilisateur d'entrer les coÃ»ts mensuels des dÃ©penses suivantes encourues pour l'utilisation de son automobile : remboursement du prÃªt, assurance, essence, huile, pneus et entretien. Le programme devrait alors afficher le coÃ»t mensuel total de ces dÃ©penses, et le coÃ»t annuel total de ces dÃ©penses."
      ],
      "metadata": {
        "id": "yA3xkAyhFbmC"
      }
    },
    {
      "cell_type": "code",
      "source": [
        "def calculate(A, B, C, D, E, F):\n",
        "  result0 = A+B+C+D+E+F\n",
        "  print('le coat mensuel total de les dapenses est : ', result0)\n",
        "  result  = result0 * 12\n",
        "  return result\n",
        "\n",
        "\n",
        "coat1 = float(input(\"Entrez-vous le coat de remboursement du prÃªt : \"))\n",
        "coat2 = float(input(\"Entrez-vous le coat de remboursement du assurance : \"))\n",
        "coat3 = float(input(\"Entrez-vous le coat de remboursement du essence : \"))\n",
        "coat4 = float(input(\"Entrez-vous le coat de remboursement du huile : \"))\n",
        "coat5 = float(input(\"Entrez-vous le coat de remboursement du pneus : \"))\n",
        "coat6 = float(input(\"Entrez-vous le coat de remboursement du entretien : \"))\n",
        "print('le coat annuel total de les daenses est : ', calculate(coat1, coat2, coat3, coat4, coat5, coat6))"
      ],
      "metadata": {
        "colab": {
          "base_uri": "https://localhost:8080/"
        },
        "id": "71lKC23ZFhnW",
        "outputId": "58633d82-5b97-4542-e6aa-b906c71b814d"
      },
      "execution_count": 12,
      "outputs": [
        {
          "output_type": "stream",
          "name": "stdout",
          "text": [
            "Entrez-vous le coat de remboursement du prÃªt : 9\n",
            "Entrez-vous le coat de remboursement du assurance : 7\n",
            "Entrez-vous le coat de remboursement du essence : 6\n",
            "Entrez-vous le coat de remboursement du huile : 5\n",
            "Entrez-vous le coat de remboursement du pneus : 4\n",
            "Entrez-vous le coat de remboursement du entretien : 3\n",
            "le coat mensuel total de les dapenses est :  34.0\n",
            "le coat annuel total de les daenses est :  408.0\n"
          ]
        }
      ]
    },
    {
      "cell_type": "markdown",
      "source": [
        "###5. Taxe fonciÃ¨re\n",
        "Un comtÃ© perÃ§oit des impÃ´ts fonciers sur la valeur d'Ã©valuation de la propriÃ©tÃ©, qui reprÃ©sente 60 % de la valeur rÃ©elle de la propriÃ©tÃ©. Par exemple, si un acre de terrain est Ã©valuÃ© Ã  10 000 $, sa valeur d'Ã©valuation est de 6 000 $. La taxe fonciÃ¨re est alors de 72 pour chaque 100 $ de la valeur d'Ã©valuation. La taxe pour l'acre Ã©valuÃ©e Ã  6 000 $ sera de 43,20 $. RÃ©digez un programme qui demande la valeur rÃ©elle d'un terrain et affiche la valeur d'Ã©valuation et l'impÃ´t foncier."
      ],
      "metadata": {
        "id": "krHDUIDlJLTJ"
      }
    },
    {
      "cell_type": "markdown",
      "source": [
        "###6. Calories provenant des lipides et des glucides\n",
        "Un nutritionniste qui travaille pour un club de fitness aide les membres en Ã©valuant leur alimentation. Dans le cadre de son Ã©valuation, elle demande aux membres le nombre de grammes de gras et de glucides qu'ils ont consommÃ©s en une journÃ©e. Ensuite, elle calcule le nombre de calories qui rÃ©sultent de la graisse, en utilisant la formule suivante :\n",
        "\n",
        "calories grasses = grammes de gras x 9\n",
        "\n",
        "Ensuite, elle calcule le nombre de calories qui rÃ©sultent des glucides, en utilisant le\n",
        "formule suivante :\n",
        "\n",
        "calories glucides = grammes de glucides x 4\n",
        "\n",
        "Le nutritionniste vous demande d'Ã©crire un programme qui fera ces calculs."
      ],
      "metadata": {
        "id": "DFEZtUnJLJqx"
      }
    },
    {
      "cell_type": "code",
      "source": [
        "def calculateCgrasses(grasGrammeTotal):\n",
        "  result = grasGrammeTotal * 9\n",
        "  return result\n",
        "def calculateCglucides(glucidesGrammeTotal):\n",
        "  result = glucidesGrammeTotal * 4\n",
        "  return result\n",
        "gras = float(input(\"Entrez-Vous le nombre de grammes de gras qui vous avez consomme : \"))\n",
        "glucides = float(input(\"Entrez-Vous le nombre de grammes de gras qui vous avez consomme : \"))\n",
        "print('le nombre de calories qui rÃ©sultent des glucides', calculateCglucides(glucides) )\n",
        "print('le nombre de calories qui rÃ©sultent des gras', calculateCgrasses(gras) )\n"
      ],
      "metadata": {
        "colab": {
          "base_uri": "https://localhost:8080/"
        },
        "id": "uGs7a78oLMEn",
        "outputId": "4696a256-a033-4471-d783-550681013805"
      },
      "execution_count": 16,
      "outputs": [
        {
          "output_type": "stream",
          "name": "stdout",
          "text": [
            "Entrez-Vous le nombre de grammes de gras qui vous avez consomme : 9\n",
            "Entrez-Vous le nombre de grammes de gras qui vous avez consomme : 7\n",
            "le nombre de calories qui rÃ©sultent des glucides 28.0\n",
            "le nombre de calories qui rÃ©sultent des gras 81.0\n"
          ]
        }
      ]
    },
    {
      "cell_type": "markdown",
      "source": [
        "###7. Places assises du stade\n",
        "Il y a trois catÃ©gories de siÃ¨ges dans un stade. Les siÃ¨ges de classe A coÃ»tent 20 $, les siÃ¨ges de classe B coÃ»tent 15 $ et les siÃ¨ges de classe C coÃ»tent 10 $. RÃ©digez un programme qui demande combien de billets pour chaque classe de siÃ¨ges ont Ã©tÃ© vendus, puis affiche le montant des revenus gÃ©nÃ©rÃ©s par la vente de billets."
      ],
      "metadata": {
        "id": "nV-7vfH8OIHr"
      }
    },
    {
      "cell_type": "code",
      "source": [
        "def calculateBillets(ClassA, ClassB, ClassC):\n",
        "  revenuDeA = 20 * ClassA\n",
        "  print(\"le montant de revenu gangne par la vente de billets de Class A est :\", revenuDeA)\n",
        "  revenuDeB = 15 * ClassB\n",
        "  print(\"le montant de revenu gangne par la vente de billets de Class B est :\", revenuDeB)\n",
        "  revenuDeC = 10 * ClassC\n",
        "  print(\"le montant de revenu gangne par la vente de billets de Class C est :\", revenuDeC)\n",
        "  total = revenuDeA + revenuDeB + revenuDeC\n",
        "  return total\n",
        "\n",
        "nomBilletClassA = int(input(\"Entrez-Vouz combien de billets de Class A ont vendu : \" ))\n",
        "nomBilletClassB = int(input(\"Entrez-Vouz combien de billets de Class B ont vendu : \" ))\n",
        "nomBilletClassC = int(input(\"Entrez-Vouz combien de billets de Class C ont vendu : \" ))\n",
        "print(\"le montant des revenus ganage par la vente de billets est : \", calculateBillets(nomBilletClassA, nomBilletClassB, nomBilletClassC))\n"
      ],
      "metadata": {
        "colab": {
          "base_uri": "https://localhost:8080/"
        },
        "id": "dESiYR3DORIo",
        "outputId": "600ad97f-d06b-404d-9556-0d2b7a4e83e5"
      },
      "execution_count": 17,
      "outputs": [
        {
          "output_type": "stream",
          "name": "stdout",
          "text": [
            "Entrez-Vouz combien de billets de Class A ont vendu : 4\n",
            "Entrez-Vouz combien de billets de Class B ont vendu : 5\n",
            "Entrez-Vouz combien de billets de Class C ont vendu : 9\n",
            "le montant de revenu gangne par la vente de billets de Class A 80\n",
            "le montant de revenu gangne par la vente de billets de Class B 75\n",
            "le montant de revenu gangne par la vente de billets de Class C 90\n",
            "le montant des revenus ganage par la vente de billets est :  245\n"
          ]
        }
      ]
    },
    {
      "cell_type": "markdown",
      "source": [
        "###8. Estimateur de travaux de peinture\n",
        "Une entreprise de peinture a dÃ©terminÃ© que pour chaque 112 pieds carrÃ©s d'espace mural, un gallon de peinture et huit heures de travail seront nÃ©cessaires. L'entreprise facture 35 $ de l'heure pour la main-d'Å“uvre. Ã‰crivez un programme qui demande Ã  l'utilisateur d'entrer les pieds carrÃ©s d'espace mural Ã  peindre et le prix de la peinture par gallon. Le programme doit afficher les donnÃ©es suivantesÂ :\n",
        "\n",
        "* Le nombre de gallons de peinture requis\n",
        "* Les heures de travail nÃ©cessaires\n",
        "* Le coÃ»t de la peinture\n",
        "* Les frais de main d'oeuvre\n",
        "* Le coÃ»t total du travail de peinture"
      ],
      "metadata": {
        "id": "P_RWtZcxTWUS"
      }
    },
    {
      "cell_type": "code",
      "source": [
        "def nombreDeGallonsHeures(pieds):\n",
        "  gallonNombre = pieds / 112\n",
        "  print(\"le nombre de gallons de peinture requis pour \", pieds, \"  pieds est \", gallonNombre )\n",
        "  heuresNombre = 8 * pieds / 112\n",
        "  print(\"le nombre de gallons de heures requis pour \", pieds, \"  pieds est \", heuresNombre )\n",
        "  return gallonNombre, gallonNombre\n",
        "def coatPeintureMain (pieds, galonprix):\n",
        "   A, B = nombreDeGallonsHeures(pieds)\n",
        "   fraisMain = B * 35\n",
        "   coatPeinture = A * galonprix\n",
        "   totalFinal = fraisMain + coatPeinture\n",
        "   \n",
        "   return fraisMain, coatPeinture\n",
        "\n",
        "\n",
        "nombreDePiedsCarr = float(input(\" Entrez-Vous les pieds carrés \"))\n",
        "LePrixDeGallon = flaot(input(\"Entrez Vous le prix de Galon \"))\n",
        "Print(coatPeintureMain(nombreDePiedsCarr, LePrixDeGallon))"
      ],
      "metadata": {
        "id": "v8odgxR5TdAY"
      },
      "execution_count": null,
      "outputs": []
    },
    {
      "cell_type": "markdown",
      "source": [
        ""
      ],
      "metadata": {
        "id": "sfaj6Nz4NVQU"
      }
    }
  ]
}