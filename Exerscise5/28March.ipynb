{
  "nbformat": 4,
  "nbformat_minor": 0,
  "metadata": {
    "colab": {
      "name": "Untitled1.ipynb",
      "provenance": [],
      "authorship_tag": "ABX9TyNmWWRbxxUy/ZQG8+0eLjY6",
      "include_colab_link": true
    },
    "kernelspec": {
      "name": "python3",
      "display_name": "Python 3"
    },
    "language_info": {
      "name": "python"
    }
  },
  "cells": [
    {
      "cell_type": "markdown",
      "metadata": {
        "id": "view-in-github",
        "colab_type": "text"
      },
      "source": [
        "<a href=\"https://colab.research.google.com/github/JadeSbh/PROGRAMMATION-ET-SCRIPTS-SYST-ME/blob/main/Exerscise5/28March.ipynb\" target=\"_parent\"><img src=\"https://colab.research.google.com/assets/colab-badge.svg\" alt=\"Open In Colab\"/></a>"
      ]
    },
    {
      "cell_type": "markdown",
      "source": [
        "#EXCERCISE 5 \n",
        "\n",
        "```\n",
        "# This is formatted as code\n",
        "```\n",
        "\n"
      ],
      "metadata": {
        "id": "bX23GeDPlQcN"
      }
    },
    {
      "cell_type": "markdown",
      "source": [
        "### 1. Convertisseur kilomÃ©trique\n",
        "Ã‰crivez un programme qui demande Ã  l'utilisateur d'entrer une distance en kilomÃ¨tres, puis convertit cette distance en miles. La formule de conversion est la suivante :\n",
        "\n",
        "Miles = KilomÃ¨tres x 0.6214"
      ],
      "metadata": {
        "id": "MDZXdrwp-LWT"
      }
    },
    {
      "cell_type": "code",
      "source": [
        "def functionDistance():\n",
        "  distanceKm = float(input(\"Entrez-Vous une distance en kilomatres : \"))\n",
        "  result = distanceKm * 0.6214\n",
        "  return result\n",
        "\n",
        "print(\"The distance en Miles est :\", functionDistance())\n"
      ],
      "metadata": {
        "colab": {
          "base_uri": "https://localhost:8080/"
        },
        "id": "GkefPGsy-Pl6",
        "outputId": "e79dccff-5af3-474b-d8d8-8fd79d6234e6"
      },
      "execution_count": null,
      "outputs": [
        {
          "output_type": "stream",
          "name": "stdout",
          "text": [
            "Entrez-Vous une distance en kilomatres : 7\n",
            "The distance en Miles est : 4.3498\n"
          ]
        }
      ]
    },
    {
      "cell_type": "markdown",
      "source": [
        "2. RÃ©pÃ©teur de chaÃ®ne\n",
        "Python vous permet de rÃ©pÃ©ter une chaÃ®ne en la multipliant par un entier, par ex. 'Hi' * 3 donnera 'HiHiHi'. Imaginez que cette fonctionnalitÃ© n'existe pas et Ã©crivez Ã  la place une fonction nommÃ©e repeat qui accepte une chaÃ®ne et un entier comme arguments. La fonction doit renvoyer une chaÃ®ne de la chaÃ®ne d'origine rÃ©pÃ©tÃ©e le nombre de fois spÃ©cifiÃ©, par ex. repeat('Hi', 3) devrait renvoyer 'HiHiHi'."
      ],
      "metadata": {
        "id": "vjp9SPly_nAt"
      }
    },
    {
      "cell_type": "markdown",
      "source": [
        "###2. RÃ©pÃ©teur de chaÃ®ne\n",
        " Python vous permet de rèpèter une chaène en la multipliant par un entier, par ex.  Hi * 3 donnera HiHiHi. Imaginez que cette fonctionnalitè nexiste pas et ècrivez è  la place une fonction nommèe repeat qui accepte une chaène et un entier comme arguments. La fonction doit renvoyer une chaène de la chaène dorigine rèpètèe le nombre de fois spècifiè, par ex. repeat(Hi, 3) devrait renvoyer HiHiHi."
      ],
      "metadata": {
        "id": "PElk_DlrAuiT"
      }
    },
    {
      "cell_type": "code",
      "source": [
        "def repeatMe(str, num):\n",
        "  result=''\n",
        "  for i in range(num):\n",
        "    result = result + str\n",
        "  print(result)\n",
        "\n",
        "\n",
        "repeatMe('hi', 8)  "
      ],
      "metadata": {
        "colab": {
          "base_uri": "https://localhost:8080/"
        },
        "id": "mLfGQ5VFAwsA",
        "outputId": "c35828ff-8a45-4845-d4c3-ef81dc7a156a"
      },
      "execution_count": null,
      "outputs": [
        {
          "output_type": "stream",
          "name": "stdout",
          "text": [
            "hihihihihihihihi\n"
          ]
        }
      ]
    },
    {
      "cell_type": "markdown",
      "source": [
        "\n",
        "\n",
        "> Indented block\n",
        "\n",
        "\n",
        "3.  Combien d'assurance ? De nombreux experts financiers conseillent aux propriètaires d'assurer leurs maisons ou leurs bè¢timents pour au moins 80 % du montant quil en coèterait pour remplacer la structure. ècrivez un programme qui demande è l'utilisateur dentrer le coèt de remplacement d'un bè¢timent, puis affiche le montant minimum d'assurance qu'il doit acheter pour la propriètè."
      ],
      "metadata": {
        "id": "6NycyphzCTGy"
      }
    },
    {
      "cell_type": "code",
      "source": [
        "def combienDassurance(X):\n",
        "  result = X * 0.8\n",
        "  return result\n",
        "\n",
        "coat = float(input(\"Entrez-Vous le coat de remplacement de vous bactiment :\"))\n",
        "print(\"le montant minimum d'assurance qu'il doit acheter est :\", combienDassurance(coat))\n",
        "\n",
        "  \n"
      ],
      "metadata": {
        "colab": {
          "base_uri": "https://localhost:8080/"
        },
        "id": "ciKGLYtGCX8t",
        "outputId": "1a3ae4d0-558b-43b7-ca01-dac68e9ed179"
      },
      "execution_count": null,
      "outputs": [
        {
          "output_type": "stream",
          "name": "stdout",
          "text": [
            "Entrez-Vous le coat de remplacement de vous bactiment :700\n",
            "le montant minimum d'assurance qu'il doit acheter est : 560.0\n"
          ]
        }
      ]
    },
    {
      "cell_type": "markdown",
      "source": [
        "###\n",
        "4. Frais d'automobile\n",
        "Ã‰crivez un programme qui demande Ã  l'utilisateur d'entrer les coÃ»ts mensuels des dÃ©penses suivantes encourues pour l'utilisation de son automobile : remboursement du prÃªt, assurance, essence, huile, pneus et entretien. Le programme devrait alors afficher le coÃ»t mensuel total de ces dÃ©penses, et le coÃ»t annuel total de ces dÃ©penses."
      ],
      "metadata": {
        "id": "yA3xkAyhFbmC"
      }
    },
    {
      "cell_type": "code",
      "source": [
        "def calculate(A, B, C, D, E, F):\n",
        "  result0 = A+B+C+D+E+F\n",
        "  print('le coat mensuel total de les dapenses est : ', result0)\n",
        "  result  = result0 * 12\n",
        "  return result\n",
        "\n",
        "\n",
        "coat1 = float(input(\"Entrez-vous le coat de remboursement du prÃªt : \"))\n",
        "coat2 = float(input(\"Entrez-vous le coat de remboursement du assurance : \"))\n",
        "coat3 = float(input(\"Entrez-vous le coat de remboursement du essence : \"))\n",
        "coat4 = float(input(\"Entrez-vous le coat de remboursement du huile : \"))\n",
        "coat5 = float(input(\"Entrez-vous le coat de remboursement du pneus : \"))\n",
        "coat6 = float(input(\"Entrez-vous le coat de remboursement du entretien : \"))\n",
        "print('le coat annuel total de les daenses est : ', calculate(coat1, coat2, coat3, coat4, coat5, coat6))"
      ],
      "metadata": {
        "colab": {
          "base_uri": "https://localhost:8080/"
        },
        "id": "71lKC23ZFhnW",
        "outputId": "58633d82-5b97-4542-e6aa-b906c71b814d"
      },
      "execution_count": null,
      "outputs": [
        {
          "output_type": "stream",
          "name": "stdout",
          "text": [
            "Entrez-vous le coat de remboursement du prÃªt : 9\n",
            "Entrez-vous le coat de remboursement du assurance : 7\n",
            "Entrez-vous le coat de remboursement du essence : 6\n",
            "Entrez-vous le coat de remboursement du huile : 5\n",
            "Entrez-vous le coat de remboursement du pneus : 4\n",
            "Entrez-vous le coat de remboursement du entretien : 3\n",
            "le coat mensuel total de les dapenses est :  34.0\n",
            "le coat annuel total de les daenses est :  408.0\n"
          ]
        }
      ]
    },
    {
      "cell_type": "markdown",
      "source": [
        "###5. Taxe fonciÃ¨re\n",
        "Un comtÃ© perÃ§oit des impÃ´ts fonciers sur la valeur d'Ã©valuation de la propriÃ©tÃ©, qui reprÃ©sente 60 % de la valeur rÃ©elle de la propriÃ©tÃ©. Par exemple, si un acre de terrain est Ã©valuÃ© Ã  10 000 $, sa valeur d'Ã©valuation est de 6 000 $. La taxe fonciÃ¨re est alors de 72 pour chaque 100 $ de la valeur d'Ã©valuation. La taxe pour l'acre Ã©valuÃ©e Ã  6 000 $ sera de 43,20 $. RÃ©digez un programme qui demande la valeur rÃ©elle d'un terrain et affiche la valeur d'Ã©valuation et l'impÃ´t foncier."
      ],
      "metadata": {
        "id": "krHDUIDlJLTJ"
      }
    },
    {
      "cell_type": "markdown",
      "source": [
        "###6. Calories provenant des lipides et des glucides\n",
        "Un nutritionniste qui travaille pour un club de fitness aide les membres en Ã©valuant leur alimentation. Dans le cadre de son Ã©valuation, elle demande aux membres le nombre de grammes de gras et de glucides qu'ils ont consommÃ©s en une journÃ©e. Ensuite, elle calcule le nombre de calories qui rÃ©sultent de la graisse, en utilisant la formule suivante :\n",
        "\n",
        "calories grasses = grammes de gras x 9\n",
        "\n",
        "Ensuite, elle calcule le nombre de calories qui rÃ©sultent des glucides, en utilisant le\n",
        "formule suivante :\n",
        "\n",
        "calories glucides = grammes de glucides x 4\n",
        "\n",
        "Le nutritionniste vous demande d'Ã©crire un programme qui fera ces calculs."
      ],
      "metadata": {
        "id": "DFEZtUnJLJqx"
      }
    },
    {
      "cell_type": "code",
      "source": [
        "def calculateCgrasses(grasGrammeTotal):\n",
        "  result = grasGrammeTotal * 9\n",
        "  return result\n",
        "def calculateCglucides(glucidesGrammeTotal):\n",
        "  result = glucidesGrammeTotal * 4\n",
        "  return result\n",
        "gras = float(input(\"Entrez-Vous le nombre de grammes de gras qui vous avez consomme : \"))\n",
        "glucides = float(input(\"Entrez-Vous le nombre de grammes de gras qui vous avez consomme : \"))\n",
        "print('le nombre de calories qui rÃ©sultent des glucides', calculateCglucides(glucides) )\n",
        "print('le nombre de calories qui rÃ©sultent des gras', calculateCgrasses(gras) )\n"
      ],
      "metadata": {
        "colab": {
          "base_uri": "https://localhost:8080/"
        },
        "id": "uGs7a78oLMEn",
        "outputId": "4696a256-a033-4471-d783-550681013805"
      },
      "execution_count": null,
      "outputs": [
        {
          "output_type": "stream",
          "name": "stdout",
          "text": [
            "Entrez-Vous le nombre de grammes de gras qui vous avez consomme : 9\n",
            "Entrez-Vous le nombre de grammes de gras qui vous avez consomme : 7\n",
            "le nombre de calories qui rÃ©sultent des glucides 28.0\n",
            "le nombre de calories qui rÃ©sultent des gras 81.0\n"
          ]
        }
      ]
    },
    {
      "cell_type": "markdown",
      "source": [
        "###7. Places assises du stade\n",
        "Il y a trois catÃ©gories de siÃ¨ges dans un stade. Les siÃ¨ges de classe A coÃ»tent 20 $, les siÃ¨ges de classe B coÃ»tent 15 $ et les siÃ¨ges de classe C coÃ»tent 10 $. RÃ©digez un programme qui demande combien de billets pour chaque classe de siÃ¨ges ont Ã©tÃ© vendus, puis affiche le montant des revenus gÃ©nÃ©rÃ©s par la vente de billets."
      ],
      "metadata": {
        "id": "nV-7vfH8OIHr"
      }
    },
    {
      "cell_type": "code",
      "source": [
        "def calculateBillets(ClassA, ClassB, ClassC):\n",
        "  revenuDeA = 20 * ClassA\n",
        "  print(\"le montant de revenu gangne par la vente de billets de Class A est :\", revenuDeA)\n",
        "  revenuDeB = 15 * ClassB\n",
        "  print(\"le montant de revenu gangne par la vente de billets de Class B est :\", revenuDeB)\n",
        "  revenuDeC = 10 * ClassC\n",
        "  print(\"le montant de revenu gangne par la vente de billets de Class C est :\", revenuDeC)\n",
        "  total = revenuDeA + revenuDeB + revenuDeC\n",
        "  return total\n",
        "\n",
        "nomBilletClassA = int(input(\"Entrez-Vouz combien de billets de Class A ont vendu : \" ))\n",
        "nomBilletClassB = int(input(\"Entrez-Vouz combien de billets de Class B ont vendu : \" ))\n",
        "nomBilletClassC = int(input(\"Entrez-Vouz combien de billets de Class C ont vendu : \" ))\n",
        "print(\"le montant des revenus ganage par la vente de billets est : \", calculateBillets(nomBilletClassA, nomBilletClassB, nomBilletClassC))\n"
      ],
      "metadata": {
        "colab": {
          "base_uri": "https://localhost:8080/"
        },
        "id": "dESiYR3DORIo",
        "outputId": "600ad97f-d06b-404d-9556-0d2b7a4e83e5"
      },
      "execution_count": null,
      "outputs": [
        {
          "output_type": "stream",
          "name": "stdout",
          "text": [
            "Entrez-Vouz combien de billets de Class A ont vendu : 4\n",
            "Entrez-Vouz combien de billets de Class B ont vendu : 5\n",
            "Entrez-Vouz combien de billets de Class C ont vendu : 9\n",
            "le montant de revenu gangne par la vente de billets de Class A 80\n",
            "le montant de revenu gangne par la vente de billets de Class B 75\n",
            "le montant de revenu gangne par la vente de billets de Class C 90\n",
            "le montant des revenus ganage par la vente de billets est :  245\n"
          ]
        }
      ]
    },
    {
      "cell_type": "markdown",
      "source": [
        "###8. Estimateur de travaux de peinture\n",
        "Une entreprise de peinture a dÃ©terminÃ© que pour chaque 112 pieds carrÃ©s d'espace mural, un gallon de peinture et huit heures de travail seront nÃ©cessaires. L'entreprise facture 35 $ de l'heure pour la main-d'Å“uvre. Ã‰crivez un programme qui demande Ã  l'utilisateur d'entrer les pieds carrÃ©s d'espace mural Ã  peindre et le prix de la peinture par gallon. Le programme doit afficher les donnÃ©es suivantesÂ :\n",
        "\n",
        "* Le nombre de gallons de peinture requis\n",
        "* Les heures de travail nÃ©cessaires\n",
        "* Le coÃ»t de la peinture\n",
        "* Les frais de main d'oeuvre\n",
        "* Le coÃ»t total du travail de peinture"
      ],
      "metadata": {
        "id": "P_RWtZcxTWUS"
      }
    },
    {
      "cell_type": "code",
      "source": [
        "def nombreDeGallonsHeures(pieds):\n",
        "  gallonNombre = pieds / 112\n",
        "  print(\"le nombre de gallons de peinture requis pour \", pieds, \"  pieds est \", gallonNombre )\n",
        "  heuresNombre = 8 * pieds / 112\n",
        "  print(\"le nombre de gallons de heures requis pour \", pieds, \"  pieds est \", heuresNombre )\n",
        "  return gallonNombre, gallonNombre\n",
        "def coatPeintureMain (pieds, galonprix):\n",
        "   A, B = nombreDeGallonsHeures(pieds)\n",
        "   fraisMain = B * 35\n",
        "   coatPeinture = A * galonprix\n",
        "   totalFinal = fraisMain + coatPeinture\n",
        "   \n",
        "   return fraisMain, coatPeinture\n",
        "\n",
        "\n",
        "nombreDePiedsCarr = float(input(\" Entrez-Vous les pieds carrés \"))\n",
        "LePrixDeGallon = flaot(input(\"Entrez Vous le prix de Galon \"))\n",
        "Print(coatPeintureMain(nombreDePiedsCarr, LePrixDeGallon))"
      ],
      "metadata": {
        "id": "v8odgxR5TdAY"
      },
      "execution_count": null,
      "outputs": []
    },
    {
      "cell_type": "markdown",
      "source": [
        "###9 9. Taxe de vente mensuelle\n",
        " Une entreprise de vente au dètail doit dèposer un rapport de taxe de vente mensuel rèpertoriant ***le total des ventes pour le mois*** et ***le montant de la taxe de vente de l'ètat*** et ***du comtè collectè***. Le taux de la taxe de vente de l'ètat est de 5 pour cent et le taux de la taxe de vente du comtè est de 2,5 pour cent. ècrivez un programme qui demande è  l'utilisateur d'entrer le total des ventes pour le mois. A partir de cette figure, l'application doit calculer et afficher les èlèments suivantsÂ :\n",
        "\n",
        "  â€¢ Le montant de la taxe de vente dèpartementale\n",
        "\n",
        "  â€¢ Le montant de la taxe de vente de lètat \n",
        "\n",
        "  â€¢ La taxe de vente totale (comtè plus ètat)\n"
      ],
      "metadata": {
        "id": "sfaj6Nz4NVQU"
      }
    },
    {
      "cell_type": "code",
      "source": [
        "\n",
        "def ètatTaxe(total) :\n",
        "  result = total * 0.05\n",
        "  print('Le montant de la taxe de vente de lètat est : ', result)\n",
        "  return result\n",
        "def comteTaxe(total) :\n",
        "  result1 = total * 0.025\n",
        "  print('Le montant de la taxe de vente dèpartementale est : ', result1)\n",
        "  return result1 \n",
        "def calculè(taxe1, taxe2):\n",
        "  print('La taxe de vente totale', taxe1+taxe2)\n",
        "\n",
        "totalDesVente= float(input(\"Entrez  le total des ventes pour le mois :\"))\n",
        "x = ètatTaxe(totalDesVente)\n",
        "y = comteTaxe(totalDesVente)\n",
        "calculè(x, y)\n"
      ],
      "metadata": {
        "colab": {
          "base_uri": "https://localhost:8080/"
        },
        "id": "OmdoXPGu3cV9",
        "outputId": "f7dd6026-a616-4d92-ee56-5e06dc403e64"
      },
      "execution_count": 4,
      "outputs": [
        {
          "output_type": "stream",
          "name": "stdout",
          "text": [
            "Entrez  le total des ventes pour le mois :600\n",
            "Le montant de la taxe de vente de lètat est :  30.0\n",
            "Le montant de la taxe de vente dèpartementale est :  15.0\n",
            "La taxe de vente totale 45.0\n"
          ]
        }
      ]
    },
    {
      "cell_type": "markdown",
      "source": [
        "###10  Pieds en pouces Un pied èquivaut è  12 pouces. ècrivez une fonction nommèe feet_to_inches qui accepte un nombre de pieds comme argument et renvoie le nombre de pouces dans ce nombre de pieds. Utilisez la fonction dans un programme qui invite lutilisateur è  entrer un nombre de pieds puis affiche le nombre de pouces dans ce nombre de pieds."
      ],
      "metadata": {
        "id": "uBMs64qh8xyl"
      }
    },
    {
      "cell_type": "code",
      "source": [
        "def feet_to_inches(nombredepieds) :\n",
        "  result = nombredepieds * 12\n",
        "  return result\n",
        "\n",
        "x = float(input(\"entrez le nombre de pieds : \"))  \n",
        "y = feet_to_inches(x)\n",
        "print(f\"le nombre de pouces dans {x}  pied est :  {y} pouce\")"
      ],
      "metadata": {
        "colab": {
          "base_uri": "https://localhost:8080/"
        },
        "id": "2atC24w99NgN",
        "outputId": "f8692430-379d-49d1-b523-13b19872aa13"
      },
      "execution_count": 9,
      "outputs": [
        {
          "output_type": "stream",
          "name": "stdout",
          "text": [
            "entrez le nombre de pieds : 70\n",
            "le nombre de pouces dans 70.0  pied est :  840.0 pouce\n"
          ]
        }
      ]
    },
    {
      "cell_type": "markdown",
      "source": [
        "###11 \n",
        " Test d'addition\n",
        "  Ecrivez un programme qui gènère des tests d'addition imprimables. Les tests doivent consister en 5 questions qui prèsentent une simple question d'addition dans le format suivant, oè¹ le numèro de la question va de 1 è  5, et num1 et num2 sont des nombres gènèrès alèatoirement entre 1 et 10Â : Question 1\n",
        " num1 + num2 = _____\n",
        "\n",
        " Le programme devrait simplement afficher les 5 questions - il ne devrait demander aucune entrèe è  lutilisateur."
      ],
      "metadata": {
        "id": "giBIQwV3_TGm"
      }
    },
    {
      "cell_type": "code",
      "source": [
        "import random\n",
        "def generate():\n",
        "  for i in range(1, 6):\n",
        "    print(f\" Question {i}\")\n",
        "    x = random.randint(1, 10)\n",
        "    y = random.randint(1, 10)\n",
        "    z = x+y\n",
        "    print(f\" num1 + num2 = {x} + {y} = {z}\")\n",
        "\n",
        "\n",
        "def main():\n",
        "  generate()\n",
        "main()  \n"
      ],
      "metadata": {
        "colab": {
          "base_uri": "https://localhost:8080/"
        },
        "id": "rp07GfBOBQ6n",
        "outputId": "0bd37c95-8b35-4fd7-c4e3-5936bdef3b56"
      },
      "execution_count": 32,
      "outputs": [
        {
          "output_type": "stream",
          "name": "stdout",
          "text": [
            " Question 1\n",
            " num1 + num2 = 6 + 5 = 11\n",
            " Question 2\n",
            " num1 + num2 = 1 + 10 = 11\n",
            " Question 3\n",
            " num1 + num2 = 2 + 7 = 9\n",
            " Question 4\n",
            " num1 + num2 = 5 + 7 = 12\n",
            " Question 5\n",
            " num1 + num2 = 7 + 1 = 8\n"
          ]
        }
      ]
    },
    {
      "cell_type": "markdown",
      "source": [
        "### 12\n",
        " Maximum de deux valeurs\n",
        "Ã‰crivez une fonction nommÃ©e max qui accepte deux valeurs entiÃ¨res comme arguments et renvoie la valeur qui est la plus Ã©levÃ©e des deux. Par exemple, si 7 et 12 sont passÃ©s comme arguments Ã  la fonction, la fonction doit renvoyer 12. Utilisez la fonction dans un programme qui invite l'utilisateur Ã  entrer deux valeurs entiÃ¨res. Le programme doit afficher la valeur qui est la plus Ã©levÃ©e des deux."
      ],
      "metadata": {
        "id": "PKg1-W0TDdyE"
      }
    },
    {
      "cell_type": "code",
      "source": [
        "def max1 (num1, num2) :\n",
        "  if num1 > num2 :\n",
        "    return(num1)\n",
        "  elif num1 < num2 :\n",
        "    return(num2)\n",
        "  else:\n",
        "    print(\"les deux nombres sont egale\")\n",
        "def main():     \n",
        "  x = float(input(\" Entrez le 1er nombre : \"))\n",
        "  y = float(input(\" Entrez le 2em nombre : \"))\n",
        "  return(max1(x, y))\n",
        "  \n",
        "main()  \n",
        "\n"
      ],
      "metadata": {
        "colab": {
          "base_uri": "https://localhost:8080/"
        },
        "id": "NTGcgqVcDsbH",
        "outputId": "96891e5c-3f7d-479e-b114-42b039f19cfe"
      },
      "execution_count": 34,
      "outputs": [
        {
          "name": "stdout",
          "output_type": "stream",
          "text": [
            " Entrez le 1er nombre : 8\n",
            " Entrez le 2em nombre : 9\n"
          ]
        },
        {
          "output_type": "execute_result",
          "data": {
            "text/plain": [
              "9.0"
            ]
          },
          "metadata": {},
          "execution_count": 34
        }
      ]
    },
    {
      "cell_type": "code",
      "source": [
        "x = float(input(\" Entrez le 1er nombre : \"))\n",
        "y = float(input(\" Entrez le 2em nombre : \"))\n",
        "max(x, y)"
      ],
      "metadata": {
        "colab": {
          "base_uri": "https://localhost:8080/"
        },
        "id": "097mQHJjFY3O",
        "outputId": "107c7329-fd46-40f9-bf00-b14c8475c448"
      },
      "execution_count": 13,
      "outputs": [
        {
          "name": "stdout",
          "output_type": "stream",
          "text": [
            " Entrez le 1er nombre : 4\n",
            " Entrez le 2em nombre : 8\n"
          ]
        },
        {
          "output_type": "execute_result",
          "data": {
            "text/plain": [
              "8.0"
            ]
          },
          "metadata": {},
          "execution_count": 13
        }
      ]
    },
    {
      "cell_type": "markdown",
      "source": [
        "###13\n",
        " Distance de chute Lorsqu un objet tombe è  cause de la gravitè, la formule suivante peut èªtre utilisèe pour dèterminer la distance è  laquelle lobjet tombe au cours d une pèriode de temps spècifiqueÂ : d = 1/2 gt^2 Les variables de la formule sont les suivantesÂ : d est la distance en mètres, g est de 9,8 et t est la durèe, en secondes, pendant laquelle l objet est tombè. ècrivez une fonction nommèe fall_distance qui accepte le temps de chute d un objet (en secondes) comme argument. La fonction doit renvoyer la distance, en mètres, sur laquelle lobjet est tombè pendant cet intervalle de temps. Ecrivez un programme qui appelle la fonction dans une boucle qui passe les valeurs 1 è  10 comme arguments et affiche la valeur de retour."
      ],
      "metadata": {
        "id": "kyMuDBvTutF4"
      }
    },
    {
      "cell_type": "code",
      "source": [
        "def fall_distance(temps):\n",
        "  d = 0.5 * 9.8 * temps\n",
        "  return d\n",
        "\n",
        "for i in range(1, 11):\n",
        "  print(f\" la distance, en mètres, sur laquelle lobjet est tombè pendant {i} sec = {fall_distance(i)} meter\")\n"
      ],
      "metadata": {
        "colab": {
          "base_uri": "https://localhost:8080/"
        },
        "id": "28uJSBs_uvuf",
        "outputId": "2957b2b8-d043-4a92-fd59-2e3f9b52b8cb"
      },
      "execution_count": 4,
      "outputs": [
        {
          "output_type": "stream",
          "name": "stdout",
          "text": [
            " la distance, en mètres, sur laquelle lobjet est tombè pendant 1 sec = 4.9 meter\n",
            " la distance, en mètres, sur laquelle lobjet est tombè pendant 2 sec = 9.8 meter\n",
            " la distance, en mètres, sur laquelle lobjet est tombè pendant 3 sec = 14.700000000000001 meter\n",
            " la distance, en mètres, sur laquelle lobjet est tombè pendant 4 sec = 19.6 meter\n",
            " la distance, en mètres, sur laquelle lobjet est tombè pendant 5 sec = 24.5 meter\n",
            " la distance, en mètres, sur laquelle lobjet est tombè pendant 6 sec = 29.400000000000002 meter\n",
            " la distance, en mètres, sur laquelle lobjet est tombè pendant 7 sec = 34.300000000000004 meter\n",
            " la distance, en mètres, sur laquelle lobjet est tombè pendant 8 sec = 39.2 meter\n",
            " la distance, en mètres, sur laquelle lobjet est tombè pendant 9 sec = 44.1 meter\n",
            " la distance, en mètres, sur laquelle lobjet est tombè pendant 10 sec = 49.0 meter\n"
          ]
        }
      ]
    },
    {
      "cell_type": "markdown",
      "source": [
        "###14\n",
        " ènergie cinètique En physique, on dit qu un objet en mouvement a de lènergie cinètique. La formule suivante peut èªtre utilisèe pour dèterminer lènergie cinètique d un objet en mouvement : KE = 1/2 mr^2 Les variables de la formule sont les suivantes : KE est lènergie cinètique, m est la masse de lobjet en kilogrammes, et v est la vitesse de lobjet en mètres par seconde. ècrivez une fonction nommèe kinetic_energy qui accepte la masse (en kilogrammes) et la vitesse (en mètres par seconde) dun objet comme arguments. La fonction doit renvoyer la quantitè dènergie cinètique que possède lobjet. ècrivez un programme qui demande è  lutilisateur dentrer des valeurs pour la masse et la vitesse, puis appelle la fonction kinetic_energy pour obtenir lènergie cinètique de lobjet."
      ],
      "metadata": {
        "id": "gdOQnWlgwZ96"
      }
    },
    {
      "cell_type": "code",
      "source": [
        "def kinetic_energy(masse, vitesse):\n",
        "  ke = 0.5 * masse * vitesse\n",
        "  return ke\n",
        "x = float(input(\"Entrez le valeur pour la masse (en kilograms) : \"))\n",
        "y = float(input(\"Entrez le valeur pour la vitesse (en metres par seconde) : \"))  \n",
        "print(f\" l'ènergie cinètique de lobjet qu'a la masse {x} kg et la vitesse {y} m/sec = {kinetic_energy(x, y)}\")"
      ],
      "metadata": {
        "colab": {
          "base_uri": "https://localhost:8080/"
        },
        "id": "_KkI3VbdxmIC",
        "outputId": "8a1437f2-003e-43ab-e24a-28e066ca86b3"
      },
      "execution_count": 5,
      "outputs": [
        {
          "output_type": "stream",
          "name": "stdout",
          "text": [
            "Entrez le valeur pour la masse (en kilograms) : 8\n",
            "Entrez le valeur pour la vitesse (en metres par seconde) : 30\n",
            " l'ènergie cinètique de lobjet qu'a la masse 8.0 kg et la vitesse 30.0 m/sec = 120.0\n"
          ]
        }
      ]
    },
    {
      "cell_type": "markdown",
      "source": [
        "###15\n",
        " Tester la moyenne et la note:\n",
        " \n",
        "ècrivez un programme qui demande Ã  l'utilisateur d'entrer cinq rèsultats de test. Le programme doit afficher une note par lettre pour chaque score et le score moyen du test. ècrivez les fonctions suivantes dans le programme :\n",
        "\n",
        "* calc_average : Cette fonction doit accepter cinq scores de test comme arguments et renvoyer la moyenne des scores.\n",
        "* determine_grade : Cette fonction doit accepter un score de test comme argument et renvoyer une note en lettre pour le score en fonction de l'Ã©chelle de notation suivanteÂ :\n",
        "\n",
        "| Score   | Lettre |\n",
        "|---------|--------|\n",
        "| 90-100  | A      |\n",
        "| 80-89   | B      |\n",
        "| 70-79   | C      |\n",
        "| 60-69   | D      |\n",
        "| sous 60 | F      |"
      ],
      "metadata": {
        "id": "5a4kRzRVzmfE"
      }
    },
    {
      "cell_type": "code",
      "source": [
        "\n",
        "\n",
        "def calc_average(not1, not2, not3, not4, not5):\n",
        "  return (not1+not2+not3+not4+not5/5)\n",
        "def determine_grade(note):\n",
        "  if note >=90 and note <=100 :\n",
        "    return(\"A\")\n",
        "  elif note >=80 and note <90 :\n",
        "    return(\"B\")  \n",
        "  elif note >=70 and note <80 :\n",
        "    return(\"C\")\n",
        "  elif note >=60 and note <70 :\n",
        "    return(\"D\")\n",
        "  elif note < 60 :\n",
        "    return(\"F\") \n",
        "def main():\n",
        "  note1 = float(input(\"Entrez note numero 1 :\"))\n",
        "  print(f\"la lettre pour la note {note1} est {determine_grade(note1)}\")\n",
        "  note2 = float(input(\"Entrez note numero 2 :\"))\n",
        "  print(f\"la lettre pour la note {note2} est {determine_grade(note2)}\")\n",
        "  note3 = float(input(\"Entrez note numero 3 :\"))\n",
        "  print(f\"la lettre pour la note {note3} est {determine_grade(note3)}\")\n",
        "  note4 = float(input(\"Entrez note numero 4 :\"))\n",
        "  print(f\"la lettre pour la note {note4} est {determine_grade(note4)}\")\n",
        "  note5 = float(input(\"Entrez note numero 5 :\"))\n",
        "  print(f\"la lettre pour la note {note5} est {determine_grade(note5)}\")\n",
        "  print(f\"la moyenne des scores = {calc_average(note1, note2, note3, note4, note5)}\")\n",
        "main()  "
      ],
      "metadata": {
        "colab": {
          "base_uri": "https://localhost:8080/"
        },
        "id": "vrCkpGkYz_cF",
        "outputId": "7ec3a860-562d-478c-d0a6-57578f3d269e"
      },
      "execution_count": 9,
      "outputs": [
        {
          "output_type": "stream",
          "name": "stdout",
          "text": [
            "Entrez note numero 1 :70\n",
            "la lettre pour la note 70.0 est C\n",
            "Entrez note numero 2 :90\n",
            "la lettre pour la note 90.0 est A\n",
            "Entrez note numero 3 :50\n",
            "la lettre pour la note 50.0 est F\n",
            "Entrez note numero 4 :40\n",
            "la lettre pour la note 40.0 est F\n",
            "Entrez note numero 5 :40\n",
            "la lettre pour la note 40.0 est F\n",
            "la moyenne des scores = 258.0\n"
          ]
        }
      ]
    },
    {
      "cell_type": "markdown",
      "source": [
        "### 16\n",
        " Compteur pair/impair Dans ce chapitre, vous avez vu un exemple de la faè§on d ècrire un algorithme qui dètermine si un nombre est pair ou impair. ècrivez un programme qui gènère 100 nombres alèatoires et compte combien de ces nombres alèatoires sont pairs et combien dentre eux sont impairs."
      ],
      "metadata": {
        "id": "Lfsn1QhH425i"
      }
    },
    {
      "cell_type": "code",
      "source": [
        "pair = 0\n",
        "impair = 0\n",
        "for i in range(100):\n",
        "  x = random.randint(1,100)\n",
        "  if x%2 == 0 :\n",
        "    pair = pair + 1\n",
        "  else:\n",
        "    impair = impair + 1\n",
        "print(f\"le total de nomres pairs = {pair}\")\n",
        "print(f\"le total de nomres impairs = {impair}\")\n"
      ],
      "metadata": {
        "colab": {
          "base_uri": "https://localhost:8080/"
        },
        "id": "L8zMO6xZ5N63",
        "outputId": "8fb552a2-b3bb-4c29-9891-ad4a1c84b2ed"
      },
      "execution_count": 46,
      "outputs": [
        {
          "output_type": "stream",
          "name": "stdout",
          "text": [
            "le total de nomres pairs = 45\n",
            "le total de nomres impairs = 55\n"
          ]
        }
      ]
    },
    {
      "cell_type": "markdown",
      "source": [
        "###17\n",
        " Nombres premiers Un nombre premier est un nombre qui n est divisible que par lui-mèªme et 1. Par exemple, le nombre 5 est premier car il ne peut èªtre divisè que par 1 et 5. Le nombre 6, cependant, n est pas premier car il peut èªtre divisè ègalement par 1, 2, 3 et 6. ècrivez une fonction boolèenne nommèe is_prime qui prend un entier comme argument et renvoie true si largument est un nombre premier, ou false dans le cas contraire. Utilisez la fonction dans un programme qui invite lutilisateur è  entrer un nombre puis affiche un message indiquant si le nombre est premier."
      ],
      "metadata": {
        "id": "iMOnyoAV_RhA"
      }
    },
    {
      "cell_type": "code",
      "source": [
        "def is_prime(nom):\n",
        "  if nom == 0 :\n",
        "    print (\"la nombre est 0\")\n",
        "  elif nom == 1 :\n",
        "    print(\" 1 est un nombre premier\")\n",
        "  else :  \n",
        "    for i in range(2, nom-1):\n",
        "      if nom % i == 0 :\n",
        "        return(False)\n",
        "      else :\n",
        "        return(True)\n",
        "\n",
        "def main():\n",
        "  x = int(input(\"Entrez un nombre :\"))\n",
        "  if is_prime(x) :\n",
        "    print(f\"le nombre est premier\") \n",
        "main()         "
      ],
      "metadata": {
        "colab": {
          "base_uri": "https://localhost:8080/"
        },
        "id": "RVoQsGFw_-dh",
        "outputId": "09870839-5d89-422c-b476-f240c3607368"
      },
      "execution_count": 59,
      "outputs": [
        {
          "output_type": "stream",
          "name": "stdout",
          "text": [
            "Entrez un nombre :1\n",
            " 1 est un nombre premier\n"
          ]
        }
      ]
    },
    {
      "cell_type": "markdown",
      "source": [
        "###18\n",
        "Liste des nombres premiers\n",
        "Cet exercice suppose que vous avez deja  ecrit la fonction is_prime dans l'exercice de programmation 17. ecrivez un autre programme qui affiche tous les nombres premiers de 1 Ã  100. Le programme doit avoir une boucle qui appelle la fonction is_prime."
      ],
      "metadata": {
        "id": "MDrTUuYKDb0h"
      }
    },
    {
      "cell_type": "code",
      "source": [
        "def is_prime(nom):\n",
        "  if nom == 0 :\n",
        "    print (\"la nombre est 0\")\n",
        "  elif nom == 1 :\n",
        "    print(\" 1 est un nombre premier\")\n",
        "  else :  \n",
        "    for i in range(2, nom-1):\n",
        "      if nom % i == 0 :\n",
        "        return(False)\n",
        "      else :\n",
        "        return(True)\n",
        "\n",
        "for i in range(1, 100):\n",
        "   if is_prime(i) :\n",
        "     print(f\"le nombre {i} est premier\")        "
      ],
      "metadata": {
        "id": "aOiytQpRF9-A",
        "outputId": "25359eb6-a025-4b61-c2f7-a4d7c248c57b",
        "colab": {
          "base_uri": "https://localhost:8080/"
        }
      },
      "execution_count": 67,
      "outputs": [
        {
          "output_type": "stream",
          "name": "stdout",
          "text": [
            " 1 est un nombre premier\n",
            "le nombre 5 est premier\n",
            "le nombre 7 est premier\n",
            "le nombre 9 est premier\n",
            "le nombre 11 est premier\n",
            "le nombre 13 est premier\n",
            "le nombre 15 est premier\n",
            "le nombre 17 est premier\n",
            "le nombre 19 est premier\n",
            "le nombre 21 est premier\n",
            "le nombre 23 est premier\n",
            "le nombre 25 est premier\n",
            "le nombre 27 est premier\n",
            "le nombre 29 est premier\n",
            "le nombre 31 est premier\n",
            "le nombre 33 est premier\n",
            "le nombre 35 est premier\n",
            "le nombre 37 est premier\n",
            "le nombre 39 est premier\n",
            "le nombre 41 est premier\n",
            "le nombre 43 est premier\n",
            "le nombre 45 est premier\n",
            "le nombre 47 est premier\n",
            "le nombre 49 est premier\n",
            "le nombre 51 est premier\n",
            "le nombre 53 est premier\n",
            "le nombre 55 est premier\n",
            "le nombre 57 est premier\n",
            "le nombre 59 est premier\n",
            "le nombre 61 est premier\n",
            "le nombre 63 est premier\n",
            "le nombre 65 est premier\n",
            "le nombre 67 est premier\n",
            "le nombre 69 est premier\n",
            "le nombre 71 est premier\n",
            "le nombre 73 est premier\n",
            "le nombre 75 est premier\n",
            "le nombre 77 est premier\n",
            "le nombre 79 est premier\n",
            "le nombre 81 est premier\n",
            "le nombre 83 est premier\n",
            "le nombre 85 est premier\n",
            "le nombre 87 est premier\n",
            "le nombre 89 est premier\n",
            "le nombre 91 est premier\n",
            "le nombre 93 est premier\n",
            "le nombre 95 est premier\n",
            "le nombre 97 est premier\n",
            "le nombre 99 est premier\n"
          ]
        }
      ]
    },
    {
      "cell_type": "markdown",
      "source": [
        "###19\n",
        " Calculateur de remboursement de prèªt Supposons que vous ayez contractè un prèªt d une certaine somme dargent avec un taux dintèrèªt mensuel fixe et des mensualitès, et que vous vouliez dèterminer le montant de la mensualitè nècessaire pour rembourser le prèªt dans un certain nombre de mois. La formule est la suivante :\n",
        "\n",
        "P = (R * A) / (1 - (1 + R) ^-M)\n",
        "\n",
        "Les termes de la formule sont :\n",
        "\n",
        "* P est le montant du paiement par mois.\n",
        "* R est le taux d'intÃ©rÃªt mensuel, sous forme dÃ©cimale (par exemple 2,5 % 5 0,025).\n",
        "* A est le montant du prÃªt.\n",
        "* M est le nombre de mois.\n",
        "\n",
        " ècrivez un programme qui invite l utilisateur è  entrer le montant du prèªt, le taux d intèrèªt mensuel en pourcentage et le nombre de mois souhaitè. Le programme doit transmettre ces valeurs è  une fonction qui renvoie le montant du paiement mensuel nècessaire. Le programme devrait afficher ce montan"
      ],
      "metadata": {
        "id": "dENQxlwJNGI0"
      }
    },
    {
      "cell_type": "code",
      "source": [
        "def calculator(R, A, M):\n",
        "  P = (R * A) / (1 - (1 + R) ^-M)\n",
        "  return(P)\n",
        "\n",
        "def main():\n",
        "  val1 = float(input(\"Entrez le taux : \"))\n",
        "  val2 = float(input(\"Entrez le montant du pret : \"))\n",
        "  val3 = float(input(\"Entrez le nombre de Mois : \"))  \n",
        "  resultat = calculator(val1, val2, val3)\n",
        "  return (resultat)\n",
        "\n",
        "x = main()\n",
        "print(f\"le montant du paiement mensuel nècessaire = {x}\")  \n"
      ],
      "metadata": {
        "id": "bpZoaTKJS3QF",
        "outputId": "97abd4ce-5e82-44da-f640-146c95bed336",
        "colab": {
          "base_uri": "https://localhost:8080/",
          "height": 415
        }
      },
      "execution_count": 78,
      "outputs": [
        {
          "name": "stdout",
          "output_type": "stream",
          "text": [
            "Entrez le taux : 0.07\n",
            "Entrez le montant du pret : 8000\n",
            "Entrez le nombre de Mois : 12\n"
          ]
        },
        {
          "output_type": "error",
          "ename": "TypeError",
          "evalue": "ignored",
          "traceback": [
            "\u001b[0;31m---------------------------------------------------------------------------\u001b[0m",
            "\u001b[0;31mTypeError\u001b[0m                                 Traceback (most recent call last)",
            "\u001b[0;32m<ipython-input-78-31fb31e362f6>\u001b[0m in \u001b[0;36m<module>\u001b[0;34m()\u001b[0m\n\u001b[1;32m     10\u001b[0m   \u001b[0;32mreturn\u001b[0m \u001b[0;34m(\u001b[0m\u001b[0mresultat\u001b[0m\u001b[0;34m)\u001b[0m\u001b[0;34m\u001b[0m\u001b[0;34m\u001b[0m\u001b[0m\n\u001b[1;32m     11\u001b[0m \u001b[0;34m\u001b[0m\u001b[0m\n\u001b[0;32m---> 12\u001b[0;31m \u001b[0mx\u001b[0m \u001b[0;34m=\u001b[0m \u001b[0mmain\u001b[0m\u001b[0;34m(\u001b[0m\u001b[0;34m)\u001b[0m\u001b[0;34m\u001b[0m\u001b[0;34m\u001b[0m\u001b[0m\n\u001b[0m\u001b[1;32m     13\u001b[0m \u001b[0mprint\u001b[0m\u001b[0;34m(\u001b[0m\u001b[0;34mf\"le montant du paiement mensuel nècessaire = {x}\"\u001b[0m\u001b[0;34m)\u001b[0m\u001b[0;34m\u001b[0m\u001b[0;34m\u001b[0m\u001b[0m\n",
            "\u001b[0;32m<ipython-input-78-31fb31e362f6>\u001b[0m in \u001b[0;36mmain\u001b[0;34m()\u001b[0m\n\u001b[1;32m      7\u001b[0m   \u001b[0mval2\u001b[0m \u001b[0;34m=\u001b[0m \u001b[0mfloat\u001b[0m\u001b[0;34m(\u001b[0m\u001b[0minput\u001b[0m\u001b[0;34m(\u001b[0m\u001b[0;34m\"Entrez le montant du pret : \"\u001b[0m\u001b[0;34m)\u001b[0m\u001b[0;34m)\u001b[0m\u001b[0;34m\u001b[0m\u001b[0;34m\u001b[0m\u001b[0m\n\u001b[1;32m      8\u001b[0m   \u001b[0mval3\u001b[0m \u001b[0;34m=\u001b[0m \u001b[0mfloat\u001b[0m\u001b[0;34m(\u001b[0m\u001b[0minput\u001b[0m\u001b[0;34m(\u001b[0m\u001b[0;34m\"Entrez le nombre de Mois : \"\u001b[0m\u001b[0;34m)\u001b[0m\u001b[0;34m)\u001b[0m\u001b[0;34m\u001b[0m\u001b[0;34m\u001b[0m\u001b[0m\n\u001b[0;32m----> 9\u001b[0;31m   \u001b[0mresultat\u001b[0m \u001b[0;34m=\u001b[0m \u001b[0mcalculator\u001b[0m\u001b[0;34m(\u001b[0m\u001b[0mval1\u001b[0m\u001b[0;34m,\u001b[0m \u001b[0mval2\u001b[0m\u001b[0;34m,\u001b[0m \u001b[0mval3\u001b[0m\u001b[0;34m)\u001b[0m\u001b[0;34m\u001b[0m\u001b[0;34m\u001b[0m\u001b[0m\n\u001b[0m\u001b[1;32m     10\u001b[0m   \u001b[0;32mreturn\u001b[0m \u001b[0;34m(\u001b[0m\u001b[0mresultat\u001b[0m\u001b[0;34m)\u001b[0m\u001b[0;34m\u001b[0m\u001b[0;34m\u001b[0m\u001b[0m\n\u001b[1;32m     11\u001b[0m \u001b[0;34m\u001b[0m\u001b[0m\n",
            "\u001b[0;32m<ipython-input-78-31fb31e362f6>\u001b[0m in \u001b[0;36mcalculator\u001b[0;34m(R, A, M)\u001b[0m\n\u001b[1;32m      1\u001b[0m \u001b[0;32mdef\u001b[0m \u001b[0mcalculator\u001b[0m\u001b[0;34m(\u001b[0m\u001b[0mR\u001b[0m\u001b[0;34m,\u001b[0m \u001b[0mA\u001b[0m\u001b[0;34m,\u001b[0m \u001b[0mM\u001b[0m\u001b[0;34m)\u001b[0m\u001b[0;34m:\u001b[0m\u001b[0;34m\u001b[0m\u001b[0;34m\u001b[0m\u001b[0m\n\u001b[0;32m----> 2\u001b[0;31m   \u001b[0mP\u001b[0m \u001b[0;34m=\u001b[0m \u001b[0;34m(\u001b[0m\u001b[0mR\u001b[0m \u001b[0;34m*\u001b[0m \u001b[0mA\u001b[0m\u001b[0;34m)\u001b[0m \u001b[0;34m/\u001b[0m \u001b[0;34m(\u001b[0m\u001b[0;36m1\u001b[0m \u001b[0;34m-\u001b[0m \u001b[0;34m(\u001b[0m\u001b[0;36m1\u001b[0m \u001b[0;34m+\u001b[0m \u001b[0mR\u001b[0m\u001b[0;34m)\u001b[0m \u001b[0;34m^\u001b[0m\u001b[0;34m-\u001b[0m\u001b[0mM\u001b[0m\u001b[0;34m)\u001b[0m\u001b[0;34m\u001b[0m\u001b[0;34m\u001b[0m\u001b[0m\n\u001b[0m\u001b[1;32m      3\u001b[0m   \u001b[0;32mreturn\u001b[0m\u001b[0;34m(\u001b[0m\u001b[0mP\u001b[0m\u001b[0;34m)\u001b[0m\u001b[0;34m\u001b[0m\u001b[0;34m\u001b[0m\u001b[0m\n\u001b[1;32m      4\u001b[0m \u001b[0;34m\u001b[0m\u001b[0m\n\u001b[1;32m      5\u001b[0m \u001b[0;32mdef\u001b[0m \u001b[0mmain\u001b[0m\u001b[0;34m(\u001b[0m\u001b[0;34m)\u001b[0m\u001b[0;34m:\u001b[0m\u001b[0;34m\u001b[0m\u001b[0;34m\u001b[0m\u001b[0m\n",
            "\u001b[0;31mTypeError\u001b[0m: unsupported operand type(s) for ^: 'float' and 'float'"
          ]
        }
      ]
    },
    {
      "cell_type": "markdown",
      "source": [
        "###20\n",
        "  Jeu de devinettes de nombres alèatoires ècrivez un programme qui gènère un nombre alèatoire compris entre 1 et 100 et demande è  l utilisateur de deviner quel est le nombre. Si la supposition de l utilisateur est supèrieure au nombre alèatoire, le programme devrait afficher Â«Â Trop èlevè, rèessayezÂ Â. Si la supposition de l utilisateur est infèrieure au nombre alèatoire, le programme devrait afficher Â«Â Trop bas, rèessayezÂ Â. Si l utilisateur devine le nombre, l application doit fèliciter l utilisateur et gènèrer un nouveau nombre alèatoire afin que le jeu puisse recommencer.Amèlioration facultativeÂ : amèliorez le jeu afin qu il tienne compte du nombre de suppositions que l utilisateur fait. Lorsque l utilisateur devine correctement le nombre alèatoire, le programme doit afficher le nombre de conjectures."
      ],
      "metadata": {
        "id": "G9YuJu1PVhMS"
      }
    },
    {
      "cell_type": "code",
      "source": [
        "def enterEtcheck1():\n",
        "  while True:\n",
        "    guess = int(input(\"Entrez ta supposition : \"))\n",
        "    if (guess >= 1) and (guess <= 100)  :\n",
        "      break\n",
        "    else:\n",
        "      print(\"Errure, il doit entre 1 et 100, Entrez votre supposition encore ! :\")\n",
        "  return(guess)\n",
        "\n",
        "def check2(guess1, number):\n",
        "  while True:\n",
        "    if number > guess1 :\n",
        "      print(\"Trop bas, reessayez  !\")\n",
        "      guess1 = enterEtcheck1()\n",
        "    elif number < guess1 :\n",
        "      print(\"Trop eleve, reessayez !\")\n",
        "      guess1 = enterEtcheck1()\n",
        "    else:\n",
        "      print(\"Felicitation ! Joyuer encore une fois !\")\n",
        "      break\n",
        "  return(1)\n",
        "\n",
        "def main():\n",
        "  # x is the number you must guess !\n",
        "  x = random.randint(1, 100)\n",
        "  #\n",
        "  \n",
        "  print(x)\n",
        "  # y is the player's guess\n",
        "  y = enterEtcheck1()\n",
        "  result = check2(y, x)\n",
        "  if result == 1 :\n",
        "    main()\n",
        "\n",
        "main()  \n",
        "\n"
      ],
      "metadata": {
        "id": "TAMrpLu9WTdL",
        "outputId": "409eb228-4ccc-4000-fa33-fd839058c03c",
        "colab": {
          "base_uri": "https://localhost:8080/",
          "height": 1000
        }
      },
      "execution_count": 122,
      "outputs": [
        {
          "output_type": "stream",
          "name": "stdout",
          "text": [
            "Entrez ta supposition : 8\n",
            "Trop bas, reessayez  !\n",
            "Entrez ta supposition : 10\n",
            "Trop bas, reessayez  !\n",
            "Entrez ta supposition : 20\n",
            "Trop bas, reessayez  !\n",
            "Entrez ta supposition : 30\n",
            "Trop bas, reessayez  !\n",
            "Entrez ta supposition : 40\n",
            "Trop bas, reessayez  !\n",
            "Entrez ta supposition : 50\n",
            "Trop eleve, reessayez !\n",
            "Entrez ta supposition : 41\n",
            "Trop bas, reessayez  !\n",
            "Entrez ta supposition : 42\n",
            "Trop bas, reessayez  !\n",
            "Entrez ta supposition : 43\n",
            "Trop bas, reessayez  !\n",
            "Entrez ta supposition : 44\n",
            "Trop bas, reessayez  !\n",
            "Entrez ta supposition : 45\n",
            "Felicitation ! Joyuer encore une fois !\n",
            "Entrez ta supposition : 70\n",
            "Trop eleve, reessayez !\n",
            "Entrez ta supposition : 30\n",
            "Trop eleve, reessayez !\n",
            "Entrez ta supposition : 6\n",
            "Trop bas, reessayez  !\n",
            "Entrez ta supposition : 20\n",
            "Trop eleve, reessayez !\n",
            "Entrez ta supposition : 19\n",
            "Trop eleve, reessayez !\n",
            "Entrez ta supposition : 18\n",
            "Trop eleve, reessayez !\n",
            "Entrez ta supposition : 15\n",
            "Trop eleve, reessayez !\n",
            "Entrez ta supposition : 10\n",
            "Trop bas, reessayez  !\n",
            "Entrez ta supposition : 12\n",
            "Trop bas, reessayez  !\n",
            "Entrez ta supposition : 13\n",
            "Trop bas, reessayez  !\n",
            "Entrez ta supposition : 14\n",
            "Felicitation ! Joyuer encore une fois !\n"
          ]
        },
        {
          "output_type": "error",
          "ename": "KeyboardInterrupt",
          "evalue": "ignored",
          "traceback": [
            "\u001b[0;31m---------------------------------------------------------------------------\u001b[0m",
            "\u001b[0;31mKeyboardInterrupt\u001b[0m                         Traceback (most recent call last)",
            "\u001b[0;32m/usr/local/lib/python3.7/dist-packages/ipykernel/kernelbase.py\u001b[0m in \u001b[0;36m_input_request\u001b[0;34m(self, prompt, ident, parent, password)\u001b[0m\n\u001b[1;32m    728\u001b[0m             \u001b[0;32mtry\u001b[0m\u001b[0;34m:\u001b[0m\u001b[0;34m\u001b[0m\u001b[0;34m\u001b[0m\u001b[0m\n\u001b[0;32m--> 729\u001b[0;31m                 \u001b[0mident\u001b[0m\u001b[0;34m,\u001b[0m \u001b[0mreply\u001b[0m \u001b[0;34m=\u001b[0m \u001b[0mself\u001b[0m\u001b[0;34m.\u001b[0m\u001b[0msession\u001b[0m\u001b[0;34m.\u001b[0m\u001b[0mrecv\u001b[0m\u001b[0;34m(\u001b[0m\u001b[0mself\u001b[0m\u001b[0;34m.\u001b[0m\u001b[0mstdin_socket\u001b[0m\u001b[0;34m,\u001b[0m \u001b[0;36m0\u001b[0m\u001b[0;34m)\u001b[0m\u001b[0;34m\u001b[0m\u001b[0;34m\u001b[0m\u001b[0m\n\u001b[0m\u001b[1;32m    730\u001b[0m             \u001b[0;32mexcept\u001b[0m \u001b[0mException\u001b[0m\u001b[0;34m:\u001b[0m\u001b[0;34m\u001b[0m\u001b[0;34m\u001b[0m\u001b[0m\n",
            "\u001b[0;32m/usr/local/lib/python3.7/dist-packages/jupyter_client/session.py\u001b[0m in \u001b[0;36mrecv\u001b[0;34m(self, socket, mode, content, copy)\u001b[0m\n\u001b[1;32m    802\u001b[0m         \u001b[0;32mtry\u001b[0m\u001b[0;34m:\u001b[0m\u001b[0;34m\u001b[0m\u001b[0;34m\u001b[0m\u001b[0m\n\u001b[0;32m--> 803\u001b[0;31m             \u001b[0mmsg_list\u001b[0m \u001b[0;34m=\u001b[0m \u001b[0msocket\u001b[0m\u001b[0;34m.\u001b[0m\u001b[0mrecv_multipart\u001b[0m\u001b[0;34m(\u001b[0m\u001b[0mmode\u001b[0m\u001b[0;34m,\u001b[0m \u001b[0mcopy\u001b[0m\u001b[0;34m=\u001b[0m\u001b[0mcopy\u001b[0m\u001b[0;34m)\u001b[0m\u001b[0;34m\u001b[0m\u001b[0;34m\u001b[0m\u001b[0m\n\u001b[0m\u001b[1;32m    804\u001b[0m         \u001b[0;32mexcept\u001b[0m \u001b[0mzmq\u001b[0m\u001b[0;34m.\u001b[0m\u001b[0mZMQError\u001b[0m \u001b[0;32mas\u001b[0m \u001b[0me\u001b[0m\u001b[0;34m:\u001b[0m\u001b[0;34m\u001b[0m\u001b[0;34m\u001b[0m\u001b[0m\n",
            "\u001b[0;32m/usr/local/lib/python3.7/dist-packages/zmq/sugar/socket.py\u001b[0m in \u001b[0;36mrecv_multipart\u001b[0;34m(self, flags, copy, track)\u001b[0m\n\u001b[1;32m    624\u001b[0m         \"\"\"\n\u001b[0;32m--> 625\u001b[0;31m         \u001b[0mparts\u001b[0m \u001b[0;34m=\u001b[0m \u001b[0;34m[\u001b[0m\u001b[0mself\u001b[0m\u001b[0;34m.\u001b[0m\u001b[0mrecv\u001b[0m\u001b[0;34m(\u001b[0m\u001b[0mflags\u001b[0m\u001b[0;34m,\u001b[0m \u001b[0mcopy\u001b[0m\u001b[0;34m=\u001b[0m\u001b[0mcopy\u001b[0m\u001b[0;34m,\u001b[0m \u001b[0mtrack\u001b[0m\u001b[0;34m=\u001b[0m\u001b[0mtrack\u001b[0m\u001b[0;34m)\u001b[0m\u001b[0;34m]\u001b[0m\u001b[0;34m\u001b[0m\u001b[0;34m\u001b[0m\u001b[0m\n\u001b[0m\u001b[1;32m    626\u001b[0m         \u001b[0;31m# have first part already, only loop while more to receive\u001b[0m\u001b[0;34m\u001b[0m\u001b[0;34m\u001b[0m\u001b[0;34m\u001b[0m\u001b[0m\n",
            "\u001b[0;32mzmq/backend/cython/socket.pyx\u001b[0m in \u001b[0;36mzmq.backend.cython.socket.Socket.recv\u001b[0;34m()\u001b[0m\n",
            "\u001b[0;32mzmq/backend/cython/socket.pyx\u001b[0m in \u001b[0;36mzmq.backend.cython.socket.Socket.recv\u001b[0;34m()\u001b[0m\n",
            "\u001b[0;32mzmq/backend/cython/socket.pyx\u001b[0m in \u001b[0;36mzmq.backend.cython.socket._recv_copy\u001b[0;34m()\u001b[0m\n",
            "\u001b[0;32m/usr/local/lib/python3.7/dist-packages/zmq/backend/cython/checkrc.pxd\u001b[0m in \u001b[0;36mzmq.backend.cython.checkrc._check_rc\u001b[0;34m()\u001b[0m\n",
            "\u001b[0;31mKeyboardInterrupt\u001b[0m: ",
            "\nDuring handling of the above exception, another exception occurred:\n",
            "\u001b[0;31mKeyboardInterrupt\u001b[0m                         Traceback (most recent call last)",
            "\u001b[0;32m<ipython-input-122-fd760eb07895>\u001b[0m in \u001b[0;36m<module>\u001b[0;34m()\u001b[0m\n\u001b[1;32m     31\u001b[0m     \u001b[0mmain\u001b[0m\u001b[0;34m(\u001b[0m\u001b[0;34m)\u001b[0m\u001b[0;34m\u001b[0m\u001b[0;34m\u001b[0m\u001b[0m\n\u001b[1;32m     32\u001b[0m \u001b[0;34m\u001b[0m\u001b[0m\n\u001b[0;32m---> 33\u001b[0;31m \u001b[0mmain\u001b[0m\u001b[0;34m(\u001b[0m\u001b[0;34m)\u001b[0m\u001b[0;34m\u001b[0m\u001b[0;34m\u001b[0m\u001b[0m\n\u001b[0m\u001b[1;32m     34\u001b[0m \u001b[0;34m\u001b[0m\u001b[0m\n",
            "\u001b[0;32m<ipython-input-122-fd760eb07895>\u001b[0m in \u001b[0;36mmain\u001b[0;34m()\u001b[0m\n\u001b[1;32m     29\u001b[0m   \u001b[0mresult\u001b[0m \u001b[0;34m=\u001b[0m \u001b[0mcheck2\u001b[0m\u001b[0;34m(\u001b[0m\u001b[0my\u001b[0m\u001b[0;34m,\u001b[0m \u001b[0mx\u001b[0m\u001b[0;34m)\u001b[0m\u001b[0;34m\u001b[0m\u001b[0;34m\u001b[0m\u001b[0m\n\u001b[1;32m     30\u001b[0m   \u001b[0;32mif\u001b[0m \u001b[0mresult\u001b[0m \u001b[0;34m==\u001b[0m \u001b[0;36m1\u001b[0m \u001b[0;34m:\u001b[0m\u001b[0;34m\u001b[0m\u001b[0;34m\u001b[0m\u001b[0m\n\u001b[0;32m---> 31\u001b[0;31m     \u001b[0mmain\u001b[0m\u001b[0;34m(\u001b[0m\u001b[0;34m)\u001b[0m\u001b[0;34m\u001b[0m\u001b[0;34m\u001b[0m\u001b[0m\n\u001b[0m\u001b[1;32m     32\u001b[0m \u001b[0;34m\u001b[0m\u001b[0m\n\u001b[1;32m     33\u001b[0m \u001b[0mmain\u001b[0m\u001b[0;34m(\u001b[0m\u001b[0;34m)\u001b[0m\u001b[0;34m\u001b[0m\u001b[0;34m\u001b[0m\u001b[0m\n",
            "\u001b[0;32m<ipython-input-122-fd760eb07895>\u001b[0m in \u001b[0;36mmain\u001b[0;34m()\u001b[0m\n\u001b[1;32m     29\u001b[0m   \u001b[0mresult\u001b[0m \u001b[0;34m=\u001b[0m \u001b[0mcheck2\u001b[0m\u001b[0;34m(\u001b[0m\u001b[0my\u001b[0m\u001b[0;34m,\u001b[0m \u001b[0mx\u001b[0m\u001b[0;34m)\u001b[0m\u001b[0;34m\u001b[0m\u001b[0;34m\u001b[0m\u001b[0m\n\u001b[1;32m     30\u001b[0m   \u001b[0;32mif\u001b[0m \u001b[0mresult\u001b[0m \u001b[0;34m==\u001b[0m \u001b[0;36m1\u001b[0m \u001b[0;34m:\u001b[0m\u001b[0;34m\u001b[0m\u001b[0;34m\u001b[0m\u001b[0m\n\u001b[0;32m---> 31\u001b[0;31m     \u001b[0mmain\u001b[0m\u001b[0;34m(\u001b[0m\u001b[0;34m)\u001b[0m\u001b[0;34m\u001b[0m\u001b[0;34m\u001b[0m\u001b[0m\n\u001b[0m\u001b[1;32m     32\u001b[0m \u001b[0;34m\u001b[0m\u001b[0m\n\u001b[1;32m     33\u001b[0m \u001b[0mmain\u001b[0m\u001b[0;34m(\u001b[0m\u001b[0;34m)\u001b[0m\u001b[0;34m\u001b[0m\u001b[0;34m\u001b[0m\u001b[0m\n",
            "\u001b[0;32m<ipython-input-122-fd760eb07895>\u001b[0m in \u001b[0;36mmain\u001b[0;34m()\u001b[0m\n\u001b[1;32m     26\u001b[0m   \u001b[0;31m#print(x)\u001b[0m\u001b[0;34m\u001b[0m\u001b[0;34m\u001b[0m\u001b[0;34m\u001b[0m\u001b[0m\n\u001b[1;32m     27\u001b[0m   \u001b[0;31m# y is the player's guess\u001b[0m\u001b[0;34m\u001b[0m\u001b[0;34m\u001b[0m\u001b[0;34m\u001b[0m\u001b[0m\n\u001b[0;32m---> 28\u001b[0;31m   \u001b[0my\u001b[0m \u001b[0;34m=\u001b[0m \u001b[0menterEtcheck1\u001b[0m\u001b[0;34m(\u001b[0m\u001b[0;34m)\u001b[0m\u001b[0;34m\u001b[0m\u001b[0;34m\u001b[0m\u001b[0m\n\u001b[0m\u001b[1;32m     29\u001b[0m   \u001b[0mresult\u001b[0m \u001b[0;34m=\u001b[0m \u001b[0mcheck2\u001b[0m\u001b[0;34m(\u001b[0m\u001b[0my\u001b[0m\u001b[0;34m,\u001b[0m \u001b[0mx\u001b[0m\u001b[0;34m)\u001b[0m\u001b[0;34m\u001b[0m\u001b[0;34m\u001b[0m\u001b[0m\n\u001b[1;32m     30\u001b[0m   \u001b[0;32mif\u001b[0m \u001b[0mresult\u001b[0m \u001b[0;34m==\u001b[0m \u001b[0;36m1\u001b[0m \u001b[0;34m:\u001b[0m\u001b[0;34m\u001b[0m\u001b[0;34m\u001b[0m\u001b[0m\n",
            "\u001b[0;32m<ipython-input-122-fd760eb07895>\u001b[0m in \u001b[0;36menterEtcheck1\u001b[0;34m()\u001b[0m\n\u001b[1;32m      1\u001b[0m \u001b[0;32mdef\u001b[0m \u001b[0menterEtcheck1\u001b[0m\u001b[0;34m(\u001b[0m\u001b[0;34m)\u001b[0m\u001b[0;34m:\u001b[0m\u001b[0;34m\u001b[0m\u001b[0;34m\u001b[0m\u001b[0m\n\u001b[1;32m      2\u001b[0m   \u001b[0;32mwhile\u001b[0m \u001b[0;32mTrue\u001b[0m\u001b[0;34m:\u001b[0m\u001b[0;34m\u001b[0m\u001b[0;34m\u001b[0m\u001b[0m\n\u001b[0;32m----> 3\u001b[0;31m     \u001b[0mguess\u001b[0m \u001b[0;34m=\u001b[0m \u001b[0mint\u001b[0m\u001b[0;34m(\u001b[0m\u001b[0minput\u001b[0m\u001b[0;34m(\u001b[0m\u001b[0;34m\"Entrez ta supposition : \"\u001b[0m\u001b[0;34m)\u001b[0m\u001b[0;34m)\u001b[0m\u001b[0;34m\u001b[0m\u001b[0;34m\u001b[0m\u001b[0m\n\u001b[0m\u001b[1;32m      4\u001b[0m     \u001b[0;32mif\u001b[0m \u001b[0;34m(\u001b[0m\u001b[0mguess\u001b[0m \u001b[0;34m>=\u001b[0m \u001b[0;36m1\u001b[0m\u001b[0;34m)\u001b[0m \u001b[0;32mand\u001b[0m \u001b[0;34m(\u001b[0m\u001b[0mguess\u001b[0m \u001b[0;34m<=\u001b[0m \u001b[0;36m100\u001b[0m\u001b[0;34m)\u001b[0m  \u001b[0;34m:\u001b[0m\u001b[0;34m\u001b[0m\u001b[0;34m\u001b[0m\u001b[0m\n\u001b[1;32m      5\u001b[0m       \u001b[0;32mbreak\u001b[0m\u001b[0;34m\u001b[0m\u001b[0;34m\u001b[0m\u001b[0m\n",
            "\u001b[0;32m/usr/local/lib/python3.7/dist-packages/ipykernel/kernelbase.py\u001b[0m in \u001b[0;36mraw_input\u001b[0;34m(self, prompt)\u001b[0m\n\u001b[1;32m    702\u001b[0m             \u001b[0mself\u001b[0m\u001b[0;34m.\u001b[0m\u001b[0m_parent_ident\u001b[0m\u001b[0;34m,\u001b[0m\u001b[0;34m\u001b[0m\u001b[0;34m\u001b[0m\u001b[0m\n\u001b[1;32m    703\u001b[0m             \u001b[0mself\u001b[0m\u001b[0;34m.\u001b[0m\u001b[0m_parent_header\u001b[0m\u001b[0;34m,\u001b[0m\u001b[0;34m\u001b[0m\u001b[0;34m\u001b[0m\u001b[0m\n\u001b[0;32m--> 704\u001b[0;31m             \u001b[0mpassword\u001b[0m\u001b[0;34m=\u001b[0m\u001b[0;32mFalse\u001b[0m\u001b[0;34m,\u001b[0m\u001b[0;34m\u001b[0m\u001b[0;34m\u001b[0m\u001b[0m\n\u001b[0m\u001b[1;32m    705\u001b[0m         )\n\u001b[1;32m    706\u001b[0m \u001b[0;34m\u001b[0m\u001b[0m\n",
            "\u001b[0;32m/usr/local/lib/python3.7/dist-packages/ipykernel/kernelbase.py\u001b[0m in \u001b[0;36m_input_request\u001b[0;34m(self, prompt, ident, parent, password)\u001b[0m\n\u001b[1;32m    732\u001b[0m             \u001b[0;32mexcept\u001b[0m \u001b[0mKeyboardInterrupt\u001b[0m\u001b[0;34m:\u001b[0m\u001b[0;34m\u001b[0m\u001b[0;34m\u001b[0m\u001b[0m\n\u001b[1;32m    733\u001b[0m                 \u001b[0;31m# re-raise KeyboardInterrupt, to truncate traceback\u001b[0m\u001b[0;34m\u001b[0m\u001b[0;34m\u001b[0m\u001b[0;34m\u001b[0m\u001b[0m\n\u001b[0;32m--> 734\u001b[0;31m                 \u001b[0;32mraise\u001b[0m \u001b[0mKeyboardInterrupt\u001b[0m\u001b[0;34m\u001b[0m\u001b[0;34m\u001b[0m\u001b[0m\n\u001b[0m\u001b[1;32m    735\u001b[0m             \u001b[0;32melse\u001b[0m\u001b[0;34m:\u001b[0m\u001b[0;34m\u001b[0m\u001b[0;34m\u001b[0m\u001b[0m\n\u001b[1;32m    736\u001b[0m                 \u001b[0;32mbreak\u001b[0m\u001b[0;34m\u001b[0m\u001b[0;34m\u001b[0m\u001b[0m\n",
            "\u001b[0;31mKeyboardInterrupt\u001b[0m: "
          ]
        }
      ]
    },
    {
      "cell_type": "code",
      "source": [
        "def check(number, guess):\n",
        "  if number > guess :\n",
        "    print(\"Trop bas reessayez\")\n",
        "  elif number < guess :\n",
        "    print(\"Trop eleve reessayez\")\n",
        "  else:\n",
        "    print(\"felicitation\")\n",
        "    playagain   \n",
        "\n",
        "x = random.randint(1, 100)\n",
        "user_num = int(input(\"Entrez un nombre entre 1 and 100 : \"))"
      ],
      "metadata": {
        "id": "GOK8C8NpZrYg"
      },
      "execution_count": null,
      "outputs": []
    }
  ]
}