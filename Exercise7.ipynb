{
  "nbformat": 4,
  "nbformat_minor": 0,
  "metadata": {
    "colab": {
      "name": "Exercise7.ipynb",
      "provenance": [],
      "authorship_tag": "ABX9TyNs8Z4FnyWIqcpW6pQ15mHX",
      "include_colab_link": true
    },
    "kernelspec": {
      "name": "python3",
      "display_name": "Python 3"
    },
    "language_info": {
      "name": "python"
    }
  },
  "cells": [
    {
      "cell_type": "markdown",
      "metadata": {
        "id": "view-in-github",
        "colab_type": "text"
      },
      "source": [
        "<a href=\"https://colab.research.google.com/github/JadeSbh/PROGRAMMATION-ET-SCRIPTS-SYST-ME/blob/main/Exercise7.ipynb\" target=\"_parent\"><img src=\"https://colab.research.google.com/assets/colab-badge.svg\" alt=\"Open In Colab\"/></a>"
      ]
    },
    {
      "cell_type": "markdown",
      "source": [
        "# Exercise 7 :"
      ],
      "metadata": {
        "id": "AI1K2h7_zkgd"
      }
    },
    {
      "cell_type": "markdown",
      "source": [
        "### 1. Informations sur le numéro valide\n",
        "Concevez un programme qui utilise une boucle pour créer une liste nommée valid_numbers qui contient uniquement les nombres entre 0 et 100 de la liste de nombres ci-dessous. Le programme doit ensuite déterminer et afficher le total et la moyenne des valeurs dans la liste valid_numbers.\n",
        "numbers = [74, 19, 105, 20, −2, 67, 77, 124, −45, 38]\n"
      ],
      "metadata": {
        "id": "f8MOjtnBz40G"
      }
    },
    {
      "cell_type": "code",
      "source": [
        "numbers = [74, 19, 105, 20, -2, 67, 77, 124, -45, 38]\n",
        "valid_numbers = []\n",
        "i = 0\n",
        "total = 0\n",
        "for number in numbers:\n",
        "  if number > 0 and number < 100 :\n",
        "    valid_numbers.append(number)\n",
        "    i = i+ 1\n",
        "    total = total + number\n",
        "moyenne = total / i\n",
        "valid_numbers.append(['Total', total]) \n",
        "valid_numbers.append(['Moyenne', moyenne])\n",
        "print(valid_numbers)    "
      ],
      "metadata": {
        "colab": {
          "base_uri": "https://localhost:8080/"
        },
        "id": "yUHP58DTz_Ro",
        "outputId": "984153bb-4199-4bbb-c5f6-783a6d320af2"
      },
      "execution_count": 7,
      "outputs": [
        {
          "output_type": "stream",
          "name": "stdout",
          "text": [
            "[74, 19, 20, 67, 77, 38, ['Total', 295], ['Moyenne', 49.166666666666664]]\n"
          ]
        }
      ]
    },
    {
      "cell_type": "markdown",
      "source": [
        "### 2. Générateur de numéros de loterie\n",
        "Concevez un programme qui génère un numéro de loterie à sept chiffres. Le programme doit générer sept nombres aléatoires, chacun compris entre 0 et 9, et affecter chaque nombre à un élément de liste. (Les nombres aléatoires ont été discutés au chapitre 5.) Ensuite, écrivez une autre boucle qui affiche le contenu de la liste.\n"
      ],
      "metadata": {
        "id": "wSsJkl0A23AD"
      }
    },
    {
      "cell_type": "code",
      "source": [
        "import random\n",
        "loterie = []\n",
        "for i in range(7):\n",
        "  loterie.append(random.randint(0, 9))\n",
        "for numèro in loterie:\n",
        "  print(numèro)  "
      ],
      "metadata": {
        "colab": {
          "base_uri": "https://localhost:8080/"
        },
        "id": "cDIkNETw3B7X",
        "outputId": "c1015460-6303-40ea-db60-c12605f72722"
      },
      "execution_count": 18,
      "outputs": [
        {
          "output_type": "stream",
          "name": "stdout",
          "text": [
            "3\n",
            "1\n",
            "8\n",
            "0\n",
            "3\n",
            "2\n",
            "5\n"
          ]
        }
      ]
    },
    {
      "cell_type": "markdown",
      "source": [
        "### 3. Statistiques de précipitations\n",
        "Concevoir un programme qui permet à l'utilisateur d'entrer le total des précipitations pour chacun des 12 mois dans une liste. Le programme doit calculer et afficher les totales pour l'année, "
      ],
      "metadata": {
        "id": "Bjyjenzx5geY"
      }
    },
    {
      "cell_type": "code",
      "source": [
        "def validtype(x):\n",
        "\n",
        "  while True :\n",
        "    entry = input(\"Entrez le précipitation de le mois numero {} : \".format(x))\n",
        "    if entry.isdigit():\n",
        "      return(entry)\n",
        "      break\n",
        "    else:\n",
        "      print(\"Please enter a valid entry\")  \n",
        "\n",
        "précipitations = []\n",
        "for i in range(1, 13):\n",
        "  item = float(validtype(i))\n",
        "  précipitations.append(item)\n",
        "sum(précipitations)  "
      ],
      "metadata": {
        "colab": {
          "base_uri": "https://localhost:8080/"
        },
        "id": "GBPvl9Ca5nNm",
        "outputId": "8e60090e-353b-4904-e9e0-6d417f566c19"
      },
      "execution_count": 36,
      "outputs": [
        {
          "name": "stdout",
          "output_type": "stream",
          "text": [
            "Entrez le précipitation de le mois numero 1 : 12\n",
            "Entrez le précipitation de le mois numero 2 : 11\n",
            "Entrez le précipitation de le mois numero 3 : sghsdz\n",
            "Please enter a valid entry\n",
            "Entrez le précipitation de le mois numero 3 : 10\n",
            "Entrez le précipitation de le mois numero 4 : 9\n",
            "Entrez le précipitation de le mois numero 5 : 8\n",
            "Entrez le précipitation de le mois numero 6 : 7\n",
            "Entrez le précipitation de le mois numero 7 : rdag\n",
            "Please enter a valid entry\n",
            "Entrez le précipitation de le mois numero 7 : 6\n",
            "Entrez le précipitation de le mois numero 8 : 5\n",
            "Entrez le précipitation de le mois numero 9 : dg\n",
            "Please enter a valid entry\n",
            "Entrez le précipitation de le mois numero 9 : 4\n",
            "Entrez le précipitation de le mois numero 10 : 3\n",
            "Entrez le précipitation de le mois numero 11 : 2\n",
            "Entrez le précipitation de le mois numero 12 : 1\n"
          ]
        },
        {
          "output_type": "execute_result",
          "data": {
            "text/plain": [
              "78.0"
            ]
          },
          "metadata": {},
          "execution_count": 36
        }
      ]
    },
    {
      "cell_type": "markdown",
      "source": [
        "### 4. Programme d'analyse des nombres\n",
        "Concevez un programme qui demande à l'utilisateur d'entrer une série de 20 nombres. Le programme doit stocker les nombres dans une liste puis afficher les données suivantes :\n",
        "* Le numéro le plus bas de la liste\n",
        "* Le numéro le plus élevé de la liste\n",
        "* Le total des nombres de la liste\n",
        "* La moyenne des nombres de la liste"
      ],
      "metadata": {
        "id": "_Kp9aIvmDjde"
      }
    },
    {
      "cell_type": "code",
      "source": [
        "def entry_validation(i):\n",
        "    while True :\n",
        "        entry = input(\" Entry le item numéro {} :\".format(i))\n",
        "        if entry.isdigit():\n",
        "          return float(entry)\n",
        "          break\n",
        "        else:\n",
        "          print(\"Entrez un numéro SVP :\")\n",
        "\n",
        "\n",
        "list1 = []\n",
        "for i in range(1, 5):\n",
        "  list1.append((entry_validation(i)))\n",
        "print(f\" Votre list est : {list1}\")\n",
        "print(f\"Le numéro le plus bas de la liste est : {min(list1)} \")\n",
        "print(f\"Le numéro le plus élevé de la liste est : {max(list1)} \")\n",
        "print(f\"Le total des nombres de la liste est : {sum(list1)} \")\n",
        "print(f\"Le moyenne des nombres de la liste est : {sum(list1)/20} \")\n",
        "\n",
        "\n",
        "               "
      ],
      "metadata": {
        "colab": {
          "base_uri": "https://localhost:8080/"
        },
        "id": "jH8hGf3hDrPd",
        "outputId": "f243f18e-c472-40d0-f7e6-717d954974c9"
      },
      "execution_count": 50,
      "outputs": [
        {
          "output_type": "stream",
          "name": "stdout",
          "text": [
            " Entry le item numéro 1 :8\n",
            " Entry le item numéro 2 :6\n",
            " Entry le item numéro 3 :4\n",
            " Entry le item numéro 4 :2\n",
            " Votre list est : [8.0, 6.0, 4.0, 2.0]\n",
            "Le numéro le plus bas de la liste est : 2.0 \n",
            "Le numéro le plus élevé de la liste est : 8.0 \n",
            "Le total des nombres de la liste est : 20.0 \n",
            "Le moyenne des nombres de la liste est : 1.0 \n"
          ]
        }
      ]
    },
    {
      "cell_type": "markdown",
      "source": [
        "### 5. Facturer la validation du compte\n",
        "Vous trouverez un fichier nommé charge_accounts.txt avec l'exercice. Ce fichier contient une liste des numéros de compte de frais valides d'une entreprise. Chaque numéro de compte est un numéro à sept chiffres, tel que 5658845.\n",
        "Écrivez un programme qui lit le contenu du fichier dans une liste. Le programme devrait alors demander à l'utilisateur d'entrer un numéro de compte de frais. Le programme doit déterminer si le numéro est valide en le recherc"
      ],
      "metadata": {
        "id": "TVTECxbaKUXE"
      }
    },
    {
      "cell_type": "code",
      "source": [
        "list_compte = []\n",
        "list_result = []\n",
        "fichier_nom = input(\"Entrez lre nom de la fichier : \")\n",
        "fichier_var = open(fichier_nom, 'r')\n",
        "line = fichier_var.readline()\n",
        "list_compte.append(line)\n",
        "n = 1\n",
        "while line != '' :\n",
        "  line = fichier_var.readline()\n",
        "  list_compte.append(line)\n",
        "  n = n + 1\n",
        "for i in range(n) :\n",
        "  list_compte[i] = list_compte[i].strip()\n",
        "  list_compte.append(list_compte[i])\n",
        "del list_compte[-1]\n",
        "print(list_compte)\n",
        "while True:\n",
        "  decision = input(\"Voulez vous entrer un numero Y/N : \")\n",
        "  if decision in ['Y', 'y']:\n",
        "    entry = input(\"Entrez un numero : \")\n",
        "    if entry in list_compte:\n",
        "      print(\"oui, le numero est valide ! \")\n",
        "    else :\n",
        "      print(\"non, le numero n'est pas valide !\")\n",
        "  elif decision in ['N', 'n']:\n",
        "    print(\"Merci Beaucoup, BYE BYE !\")\n",
        "    break\n",
        "  else :\n",
        "    print(\"invalid valure ! Entrez Y pour entrer un numero ou N pour quiter\")    \n"
      ],
      "metadata": {
        "colab": {
          "base_uri": "https://localhost:8080/"
        },
        "id": "TiIvMJ4OfEU9",
        "outputId": "a1f563b3-c019-43b5-e742-7a2dadbc5f0e"
      },
      "execution_count": 106,
      "outputs": [
        {
          "output_type": "stream",
          "name": "stdout",
          "text": [
            "Entrez lre nom de la fichier : charge_accounts.txt\n",
            "['5658845', '4520125', '7895122', '8777541', '8451277', '1302850', '8080152', '4562555', '5552012', '5050552', '7825877', '1250255', '1005231', '6545231', '3852085', '7576651', '7881200', '4581002', '', '5658845', '4520125', '7895122', '8777541', '8451277', '1302850', '8080152', '4562555', '5552012', '5050552', '7825877', '1250255', '1005231', '6545231', '3852085', '7576651', '7881200', '4581002']\n",
            "Voulez vous entrer un numero Y/N : hfjh.\n",
            "invalid valure ! Entrez Y pour entrer un numero ou N pour quiter\n",
            "Voulez vous entrer un numero Y/N : y\n",
            "Entrez un numero : 7895863\n",
            "non, le numero n'est pas valide !\n",
            "Voulez vous entrer un numero Y/N : y\n",
            "Entrez un numero : 1302850\n",
            "oui, le numero est valide ! \n",
            "Voulez vous entrer un numero Y/N : n\n",
            "Merci Beaucoup, BYE BYE !\n"
          ]
        }
      ]
    },
    {
      "cell_type": "markdown",
      "source": [
        "### 6. Fonction de lancer de dés\n",
        "Dans un programme, écrivez une fonction nommée roll qui accepte un argument entier number_of_throws. La fonction doit générer et renvoyer une liste triée de nombres aléatoires number_of_throws compris entre 1 et 6. Le programme doit inviter l'utilisateur à saisir un entier positif envoyé à la fonction, puis imprimer la liste renvoyée.\n"
      ],
      "metadata": {
        "id": "-_oEl0SmrP03"
      }
    },
    {
      "cell_type": "code",
      "source": [
        "from math import e\n",
        "def entry_validation():\n",
        "  while True : \n",
        "    entry = input(\"Entrez un numero entre 1 et 6 : \")\n",
        "    if entry.isdigit() :\n",
        "      print(\"vous avez entre un digit\")\n",
        "      item = int(entry)\n",
        "      if (item > 0) and (item < 7) :\n",
        "        print(\" c'est un nombre valide ! \")\n",
        "        return item\n",
        "        break\n",
        "      else:\n",
        "        print(\"invalide entry,  il n'est pas entre 1 et 6 !\")  \n",
        "    else :\n",
        "      print(\"invalid entry, not a number !, Entrez un numero svp !\")\n",
        "\n",
        "number_of_throws = entry_validation()\n",
        "print(number_of_throws)\n",
        "    \n"
      ],
      "metadata": {
        "colab": {
          "base_uri": "https://localhost:8080/"
        },
        "id": "nvHo-kcErZBW",
        "outputId": "23dd4fdb-3719-4fec-c1b7-6fd151e9b386"
      },
      "execution_count": 115,
      "outputs": [
        {
          "output_type": "stream",
          "name": "stdout",
          "text": [
            "Entrez un numero entre 1 et 6 : hfj\n",
            "invalid entry, not a number !, Entrez un numero svp !\n",
            "Entrez un numero entre 1 et 6 : 9.8\n",
            "invalid entry, not a number !, Entrez un numero svp !\n",
            "Entrez un numero entre 1 et 6 : 9.3\n",
            "invalid entry, not a number !, Entrez un numero svp !\n",
            "Entrez un numero entre 1 et 6 : 4\n",
            "vous avez entre un digit\n",
            " c'est un nombre valide ! \n",
            "4\n"
          ]
        }
      ]
    },
    {
      "cell_type": "markdown",
      "source": [
        "\n"
      ],
      "metadata": {
        "id": "-TNrY1-_Keqh"
      }
    }
  ]
}