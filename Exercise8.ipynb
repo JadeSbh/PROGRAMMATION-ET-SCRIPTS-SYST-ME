{
  "nbformat": 4,
  "nbformat_minor": 0,
  "metadata": {
    "colab": {
      "name": "Exercise8.ipynb",
      "provenance": [],
      "collapsed_sections": [
        "cq4OKrioT1rS",
        "bXIx39T8fSsf"
      ],
      "authorship_tag": "ABX9TyNDhbYmK6onAx18WJ0DMis1",
      "include_colab_link": true
    },
    "kernelspec": {
      "name": "python3",
      "display_name": "Python 3"
    },
    "language_info": {
      "name": "python"
    }
  },
  "cells": [
    {
      "cell_type": "markdown",
      "metadata": {
        "id": "view-in-github",
        "colab_type": "text"
      },
      "source": [
        "<a href=\"https://colab.research.google.com/github/JadeSbh/PROGRAMMATION-ET-SCRIPTS-SYST-ME/blob/main/Exercise8.ipynb\" target=\"_parent\"><img src=\"https://colab.research.google.com/assets/colab-badge.svg\" alt=\"Open In Colab\"/></a>"
      ]
    },
    {
      "cell_type": "markdown",
      "source": [
        "# Exercise 8"
      ],
      "metadata": {
        "id": "QP8wMoBxA0_R"
      }
    },
    {
      "cell_type": "markdown",
      "source": [
        "###  Affichage du nom\n",
        " Affichage du nom\n",
        "Écrivez un programme qui obtient des chaînes contenant le prénom et le nom d'une personne en tant que valeurs distinctes, puis affiche leurs \"initiales\", \"nom dans le carnet d'adresses\" et \"nom d'utilisateur\". Par exemple, si l'utilisateur entre un prénom de « John » et un nom de famille de « Smith », le programme doit afficher « J.S. », « John SMITH » et « jsmith »."
      ],
      "metadata": {
        "id": "vmB1sbx0A613"
      }
    },
    {
      "cell_type": "code",
      "source": [
        "def entry_validation():\n",
        "  while True :\n",
        "    nom = input(\"Entrez votre prenom : \")\n",
        "    nom_de_famille = input(\"Entrez votre nom de famille : \")\n",
        "    if nom.isalpha() and nom_de_famille.isalpha() and nom[0].isupper():\n",
        "      return nom, nom_de_famille\n",
        "      break\n",
        "    else :\n",
        "      print(\"Invalide entry, entrez un alphabit et le nom commonce avec capital letter, re_entre SVP !\")  \n",
        "res1, res2 = entry_validation()     \n",
        "print(res1[0].upper()+'.'+res2[0].upper()+'.')\n",
        "print(res1+' '+res2.upper())\n",
        "print(res1[0].lower()+res2.lower())"
      ],
      "metadata": {
        "colab": {
          "base_uri": "https://localhost:8080/",
          "height": 536
        },
        "id": "WQUz1rG-BfgO",
        "outputId": "7e76450a-2714-4d93-83bc-57393a5ef196"
      },
      "execution_count": 8,
      "outputs": [
        {
          "output_type": "error",
          "ename": "KeyboardInterrupt",
          "evalue": "ignored",
          "traceback": [
            "\u001b[0;31m---------------------------------------------------------------------------\u001b[0m",
            "\u001b[0;31mKeyboardInterrupt\u001b[0m                         Traceback (most recent call last)",
            "\u001b[0;32m/usr/local/lib/python3.7/dist-packages/ipykernel/kernelbase.py\u001b[0m in \u001b[0;36m_input_request\u001b[0;34m(self, prompt, ident, parent, password)\u001b[0m\n\u001b[1;32m    728\u001b[0m             \u001b[0;32mtry\u001b[0m\u001b[0;34m:\u001b[0m\u001b[0;34m\u001b[0m\u001b[0;34m\u001b[0m\u001b[0m\n\u001b[0;32m--> 729\u001b[0;31m                 \u001b[0mident\u001b[0m\u001b[0;34m,\u001b[0m \u001b[0mreply\u001b[0m \u001b[0;34m=\u001b[0m \u001b[0mself\u001b[0m\u001b[0;34m.\u001b[0m\u001b[0msession\u001b[0m\u001b[0;34m.\u001b[0m\u001b[0mrecv\u001b[0m\u001b[0;34m(\u001b[0m\u001b[0mself\u001b[0m\u001b[0;34m.\u001b[0m\u001b[0mstdin_socket\u001b[0m\u001b[0;34m,\u001b[0m \u001b[0;36m0\u001b[0m\u001b[0;34m)\u001b[0m\u001b[0;34m\u001b[0m\u001b[0;34m\u001b[0m\u001b[0m\n\u001b[0m\u001b[1;32m    730\u001b[0m             \u001b[0;32mexcept\u001b[0m \u001b[0mException\u001b[0m\u001b[0;34m:\u001b[0m\u001b[0;34m\u001b[0m\u001b[0;34m\u001b[0m\u001b[0m\n",
            "\u001b[0;32m/usr/local/lib/python3.7/dist-packages/jupyter_client/session.py\u001b[0m in \u001b[0;36mrecv\u001b[0;34m(self, socket, mode, content, copy)\u001b[0m\n\u001b[1;32m    802\u001b[0m         \u001b[0;32mtry\u001b[0m\u001b[0;34m:\u001b[0m\u001b[0;34m\u001b[0m\u001b[0;34m\u001b[0m\u001b[0m\n\u001b[0;32m--> 803\u001b[0;31m             \u001b[0mmsg_list\u001b[0m \u001b[0;34m=\u001b[0m \u001b[0msocket\u001b[0m\u001b[0;34m.\u001b[0m\u001b[0mrecv_multipart\u001b[0m\u001b[0;34m(\u001b[0m\u001b[0mmode\u001b[0m\u001b[0;34m,\u001b[0m \u001b[0mcopy\u001b[0m\u001b[0;34m=\u001b[0m\u001b[0mcopy\u001b[0m\u001b[0;34m)\u001b[0m\u001b[0;34m\u001b[0m\u001b[0;34m\u001b[0m\u001b[0m\n\u001b[0m\u001b[1;32m    804\u001b[0m         \u001b[0;32mexcept\u001b[0m \u001b[0mzmq\u001b[0m\u001b[0;34m.\u001b[0m\u001b[0mZMQError\u001b[0m \u001b[0;32mas\u001b[0m \u001b[0me\u001b[0m\u001b[0;34m:\u001b[0m\u001b[0;34m\u001b[0m\u001b[0;34m\u001b[0m\u001b[0m\n",
            "\u001b[0;32m/usr/local/lib/python3.7/dist-packages/zmq/sugar/socket.py\u001b[0m in \u001b[0;36mrecv_multipart\u001b[0;34m(self, flags, copy, track)\u001b[0m\n\u001b[1;32m    624\u001b[0m         \"\"\"\n\u001b[0;32m--> 625\u001b[0;31m         \u001b[0mparts\u001b[0m \u001b[0;34m=\u001b[0m \u001b[0;34m[\u001b[0m\u001b[0mself\u001b[0m\u001b[0;34m.\u001b[0m\u001b[0mrecv\u001b[0m\u001b[0;34m(\u001b[0m\u001b[0mflags\u001b[0m\u001b[0;34m,\u001b[0m \u001b[0mcopy\u001b[0m\u001b[0;34m=\u001b[0m\u001b[0mcopy\u001b[0m\u001b[0;34m,\u001b[0m \u001b[0mtrack\u001b[0m\u001b[0;34m=\u001b[0m\u001b[0mtrack\u001b[0m\u001b[0;34m)\u001b[0m\u001b[0;34m]\u001b[0m\u001b[0;34m\u001b[0m\u001b[0;34m\u001b[0m\u001b[0m\n\u001b[0m\u001b[1;32m    626\u001b[0m         \u001b[0;31m# have first part already, only loop while more to receive\u001b[0m\u001b[0;34m\u001b[0m\u001b[0;34m\u001b[0m\u001b[0;34m\u001b[0m\u001b[0m\n",
            "\u001b[0;32mzmq/backend/cython/socket.pyx\u001b[0m in \u001b[0;36mzmq.backend.cython.socket.Socket.recv\u001b[0;34m()\u001b[0m\n",
            "\u001b[0;32mzmq/backend/cython/socket.pyx\u001b[0m in \u001b[0;36mzmq.backend.cython.socket.Socket.recv\u001b[0;34m()\u001b[0m\n",
            "\u001b[0;32mzmq/backend/cython/socket.pyx\u001b[0m in \u001b[0;36mzmq.backend.cython.socket._recv_copy\u001b[0;34m()\u001b[0m\n",
            "\u001b[0;32m/usr/local/lib/python3.7/dist-packages/zmq/backend/cython/checkrc.pxd\u001b[0m in \u001b[0;36mzmq.backend.cython.checkrc._check_rc\u001b[0;34m()\u001b[0m\n",
            "\u001b[0;31mKeyboardInterrupt\u001b[0m: ",
            "\nDuring handling of the above exception, another exception occurred:\n",
            "\u001b[0;31mKeyboardInterrupt\u001b[0m                         Traceback (most recent call last)",
            "\u001b[0;32m<ipython-input-8-0d3e20da925d>\u001b[0m in \u001b[0;36m<module>\u001b[0;34m()\u001b[0m\n\u001b[1;32m      8\u001b[0m     \u001b[0;32melse\u001b[0m \u001b[0;34m:\u001b[0m\u001b[0;34m\u001b[0m\u001b[0;34m\u001b[0m\u001b[0m\n\u001b[1;32m      9\u001b[0m       \u001b[0mprint\u001b[0m\u001b[0;34m(\u001b[0m\u001b[0;34m\"Invalide entry, entrez un alphabit et le nom commonce avec capital letter, re_entre SVP !\"\u001b[0m\u001b[0;34m)\u001b[0m\u001b[0;34m\u001b[0m\u001b[0;34m\u001b[0m\u001b[0m\n\u001b[0;32m---> 10\u001b[0;31m \u001b[0mres1\u001b[0m\u001b[0;34m,\u001b[0m \u001b[0mres2\u001b[0m \u001b[0;34m=\u001b[0m \u001b[0mentry_validation\u001b[0m\u001b[0;34m(\u001b[0m\u001b[0;34m)\u001b[0m\u001b[0;34m\u001b[0m\u001b[0;34m\u001b[0m\u001b[0m\n\u001b[0m\u001b[1;32m     11\u001b[0m \u001b[0mprint\u001b[0m\u001b[0;34m(\u001b[0m\u001b[0mres1\u001b[0m\u001b[0;34m[\u001b[0m\u001b[0;36m0\u001b[0m\u001b[0;34m]\u001b[0m\u001b[0;34m.\u001b[0m\u001b[0mupper\u001b[0m\u001b[0;34m(\u001b[0m\u001b[0;34m)\u001b[0m\u001b[0;34m+\u001b[0m\u001b[0;34m'.'\u001b[0m\u001b[0;34m+\u001b[0m\u001b[0mres2\u001b[0m\u001b[0;34m[\u001b[0m\u001b[0;36m0\u001b[0m\u001b[0;34m]\u001b[0m\u001b[0;34m.\u001b[0m\u001b[0mupper\u001b[0m\u001b[0;34m(\u001b[0m\u001b[0;34m)\u001b[0m\u001b[0;34m+\u001b[0m\u001b[0;34m'.'\u001b[0m\u001b[0;34m)\u001b[0m\u001b[0;34m\u001b[0m\u001b[0;34m\u001b[0m\u001b[0m\n\u001b[1;32m     12\u001b[0m \u001b[0mprint\u001b[0m\u001b[0;34m(\u001b[0m\u001b[0mres1\u001b[0m\u001b[0;34m+\u001b[0m\u001b[0;34m' '\u001b[0m\u001b[0;34m+\u001b[0m\u001b[0mres2\u001b[0m\u001b[0;34m.\u001b[0m\u001b[0mupper\u001b[0m\u001b[0;34m(\u001b[0m\u001b[0;34m)\u001b[0m\u001b[0;34m)\u001b[0m\u001b[0;34m\u001b[0m\u001b[0;34m\u001b[0m\u001b[0m\n",
            "\u001b[0;32m<ipython-input-8-0d3e20da925d>\u001b[0m in \u001b[0;36mentry_validation\u001b[0;34m()\u001b[0m\n\u001b[1;32m      1\u001b[0m \u001b[0;32mdef\u001b[0m \u001b[0mentry_validation\u001b[0m\u001b[0;34m(\u001b[0m\u001b[0;34m)\u001b[0m\u001b[0;34m:\u001b[0m\u001b[0;34m\u001b[0m\u001b[0;34m\u001b[0m\u001b[0m\n\u001b[1;32m      2\u001b[0m   \u001b[0;32mwhile\u001b[0m \u001b[0;32mTrue\u001b[0m \u001b[0;34m:\u001b[0m\u001b[0;34m\u001b[0m\u001b[0;34m\u001b[0m\u001b[0m\n\u001b[0;32m----> 3\u001b[0;31m     \u001b[0mnom\u001b[0m \u001b[0;34m=\u001b[0m \u001b[0minput\u001b[0m\u001b[0;34m(\u001b[0m\u001b[0;34m\"Entrez votre prenom : \"\u001b[0m\u001b[0;34m)\u001b[0m\u001b[0;34m\u001b[0m\u001b[0;34m\u001b[0m\u001b[0m\n\u001b[0m\u001b[1;32m      4\u001b[0m     \u001b[0mnom_de_famille\u001b[0m \u001b[0;34m=\u001b[0m \u001b[0minput\u001b[0m\u001b[0;34m(\u001b[0m\u001b[0;34m\"Entrez votre nom de famille : \"\u001b[0m\u001b[0;34m)\u001b[0m\u001b[0;34m\u001b[0m\u001b[0;34m\u001b[0m\u001b[0m\n\u001b[1;32m      5\u001b[0m     \u001b[0;32mif\u001b[0m \u001b[0mnom\u001b[0m\u001b[0;34m.\u001b[0m\u001b[0misalpha\u001b[0m\u001b[0;34m(\u001b[0m\u001b[0;34m)\u001b[0m \u001b[0;32mand\u001b[0m \u001b[0mnom_de_famille\u001b[0m\u001b[0;34m.\u001b[0m\u001b[0misalpha\u001b[0m\u001b[0;34m(\u001b[0m\u001b[0;34m)\u001b[0m \u001b[0;32mand\u001b[0m \u001b[0mnom\u001b[0m\u001b[0;34m[\u001b[0m\u001b[0;36m0\u001b[0m\u001b[0;34m]\u001b[0m\u001b[0;34m.\u001b[0m\u001b[0misupper\u001b[0m\u001b[0;34m(\u001b[0m\u001b[0;34m)\u001b[0m\u001b[0;34m:\u001b[0m\u001b[0;34m\u001b[0m\u001b[0;34m\u001b[0m\u001b[0m\n",
            "\u001b[0;32m/usr/local/lib/python3.7/dist-packages/ipykernel/kernelbase.py\u001b[0m in \u001b[0;36mraw_input\u001b[0;34m(self, prompt)\u001b[0m\n\u001b[1;32m    702\u001b[0m             \u001b[0mself\u001b[0m\u001b[0;34m.\u001b[0m\u001b[0m_parent_ident\u001b[0m\u001b[0;34m,\u001b[0m\u001b[0;34m\u001b[0m\u001b[0;34m\u001b[0m\u001b[0m\n\u001b[1;32m    703\u001b[0m             \u001b[0mself\u001b[0m\u001b[0;34m.\u001b[0m\u001b[0m_parent_header\u001b[0m\u001b[0;34m,\u001b[0m\u001b[0;34m\u001b[0m\u001b[0;34m\u001b[0m\u001b[0m\n\u001b[0;32m--> 704\u001b[0;31m             \u001b[0mpassword\u001b[0m\u001b[0;34m=\u001b[0m\u001b[0;32mFalse\u001b[0m\u001b[0;34m,\u001b[0m\u001b[0;34m\u001b[0m\u001b[0;34m\u001b[0m\u001b[0m\n\u001b[0m\u001b[1;32m    705\u001b[0m         )\n\u001b[1;32m    706\u001b[0m \u001b[0;34m\u001b[0m\u001b[0m\n",
            "\u001b[0;32m/usr/local/lib/python3.7/dist-packages/ipykernel/kernelbase.py\u001b[0m in \u001b[0;36m_input_request\u001b[0;34m(self, prompt, ident, parent, password)\u001b[0m\n\u001b[1;32m    732\u001b[0m             \u001b[0;32mexcept\u001b[0m \u001b[0mKeyboardInterrupt\u001b[0m\u001b[0;34m:\u001b[0m\u001b[0;34m\u001b[0m\u001b[0;34m\u001b[0m\u001b[0m\n\u001b[1;32m    733\u001b[0m                 \u001b[0;31m# re-raise KeyboardInterrupt, to truncate traceback\u001b[0m\u001b[0;34m\u001b[0m\u001b[0;34m\u001b[0m\u001b[0;34m\u001b[0m\u001b[0m\n\u001b[0;32m--> 734\u001b[0;31m                 \u001b[0;32mraise\u001b[0m \u001b[0mKeyboardInterrupt\u001b[0m\u001b[0;34m\u001b[0m\u001b[0;34m\u001b[0m\u001b[0m\n\u001b[0m\u001b[1;32m    735\u001b[0m             \u001b[0;32melse\u001b[0m\u001b[0;34m:\u001b[0m\u001b[0;34m\u001b[0m\u001b[0;34m\u001b[0m\u001b[0m\n\u001b[1;32m    736\u001b[0m                 \u001b[0;32mbreak\u001b[0m\u001b[0;34m\u001b[0m\u001b[0;34m\u001b[0m\u001b[0m\n",
            "\u001b[0;31mKeyboardInterrupt\u001b[0m: "
          ]
        }
      ]
    },
    {
      "cell_type": "markdown",
      "source": [
        "### \n",
        "2. Somme des chiffres dans une chaîne:\n",
        "\n",
        "Écrivez un programme qui demande à l'utilisateur d'entrer une série de nombres à un chiffre sans que rien ne les sépare.\n",
        "Le programme doit afficher la somme de tous les nombres à un chiffre dans la chaîne. Par exemple, \n",
        "si l'utilisateur entre 2514, la méthode doit renvoyer 12, qui est la somme de 2, 5, 1 et 4."
      ],
      "metadata": {
        "id": "pecWcA5tGIPi"
      }
    },
    {
      "cell_type": "code",
      "source": [
        "def entry_validation():\n",
        "  while True:\n",
        "    serie = input('Entrez une serie de nombres a un chiffre : ')\n",
        "    if serie.isnumeric():\n",
        "      return serie\n",
        "      break\n",
        "    else :\n",
        "      print(\"Invalide entry! , Entrez nombre SVP !\")  \n",
        "res = entry_validation()\n",
        "somme = 0\n",
        "for num in res :\n",
        "  somme = int(num) + somme\n",
        "print(res+str(somme))"
      ],
      "metadata": {
        "id": "00bZt3ibGgQY"
      },
      "execution_count": null,
      "outputs": []
    },
    {
      "cell_type": "markdown",
      "source": [
        "### \n",
        "3. Imprimante de date:\n",
        "\n",
        "Ecrivez un programme qui lit une chaîne de l'utilisateur contenant une date sous la forme mm/jj/aaaa. Il devrait imprimer la date au format 12 mars 2018."
      ],
      "metadata": {
        "id": "uN0_UphXJKRA"
      }
    },
    {
      "cell_type": "code",
      "source": [
        "def entry_validation():\n",
        "  while True:\n",
        "    date= input(\"Entrez la date sous la forme mm/jj/aaaa :\")\n",
        "    if len(date) == 8 :\n",
        "      if date.isdigit():\n",
        "        if int(date[:2]) > 0 and int(date[:2]) < 13 :\n",
        "          if int(date[2:4]) > 0 and int(date[2:4]) < 32 :\n",
        "            if int(date[4:]) > 0 :\n",
        "              return date\n",
        "              break\n",
        "            else:\n",
        "              print(\"invalide entry !, Entrez un nombre qui present l'anne que plus eleve de 0\")  \n",
        "          else:\n",
        "            print(\"invalid entry !, Entrez un nombre qui present le jour que entre 01 et 32\")  \n",
        "        else:\n",
        "          print('invalide entry !, Entrez un nombre qui present le mois que entre 01 et 12 ')  \n",
        "      else:\n",
        "        print(\"invalide entry !\")\n",
        "    else:\n",
        "      print(\"Entrez 8 nombre SVP !\")      \n",
        "\n",
        "\n",
        "\n",
        "date = entry_validation()                     \n",
        "   \n",
        "if date[:2] == '01' :\n",
        "  print(date[2:4]+ \" January \"+ date[4:])\n",
        "elif date[:2] == '02' :\n",
        "  print(date[2:4]+ \" Feb \"+ date[4:])\n",
        "elif date[:2] == '03' :\n",
        "   print(date[2:4]+ \" mars \"+ date[4:])\n",
        "elif date[:2] == '04' :\n",
        "   print(date[2:4]+ \" avril \"+ date[4:]) \n",
        "elif date[:2] == '05' :\n",
        "   print(date[2:4]+ \" mai \"+ date[4:]) \n",
        "elif date[:2] == '06' :\n",
        "   print(date[2:4]+ \" juin \"+ date[4:]) \n",
        "elif date[:2] == '07' :\n",
        "   print(date[2:4]+ \" juillet \"+ date[4:]) \n",
        "elif date[:2] == '08' :\n",
        "   print(date[2:4]+ \" aout \"+ date[4:]) \n",
        "elif date[:2] == '09' :\n",
        "   print(date[2:4]+ \" septembre \"+ date[4:]) \n",
        "elif date[:2] == '10' :\n",
        "   print(date[2:4]+ \" octobre \"+ date[4:]) \n",
        "elif date[:2] == '11' :\n",
        "   print(date[2:4]+ \" novembre \"+ date[4:]) \n",
        "elif date[:2] == '12' :\n",
        "   print(date[2:4]+ \" decembre \"+ date[4:]) "
      ],
      "metadata": {
        "id": "d6_vceKwJV2A"
      },
      "execution_count": null,
      "outputs": []
    },
    {
      "cell_type": "markdown",
      "source": [
        "### 4. Convertisseur de code Morse\n",
        "Le code Morse est un code où chaque lettre de l'alphabet anglais,\n",
        "chaque chiffre et divers caractères de ponctuation sont représentés par une série de points et de tirets. Le fichier morse montre une partie du code.\n",
        "Écrivez un programme qui demande à l'utilisateur d'entrer une chaîne, puis convertit cette chaîne en code Morse.\n"
      ],
      "metadata": {
        "id": "cq4OKrioT1rS"
      }
    },
    {
      "cell_type": "code",
      "source": [
        "chaine_in = input(\"Entrez Une chaine : \")\n",
        "chaine = chaine_in.lower()\n",
        "chaine = chaine.replace(\" \", \" \")\n",
        "chaine = chaine.replace(\",\", \"--..-- \")\n",
        "chaine = chaine.replace(\".\", \".-.-.-\")\n",
        "chaine = chaine.replace(\"?\",\"..--..\")\n",
        "chaine = chaine.replace(\"0\",\"-----\")\n",
        "chaine = chaine.replace(\"1\",\".----\")\n",
        "chaine = chaine.replace(\"2\",\"..---\")\n",
        "chaine = chaine.replace(\"3\",\"...--\")\n",
        "chaine = chaine.replace(\"4\",\"....-\")\n",
        "chaine = chaine.replace(\"5\",\".....\")\n",
        "chaine = chaine.replace(\"6\",\"-....\")\n",
        "chaine = chaine.replace(\"7\",\"--...\")\n",
        "chaine = chaine.replace(\"8\",\"---..\")\n",
        "chaine = chaine.replace(\"9\",\"----.\") \n",
        "chaine = chaine.replace(\"a\",\".-\")\n",
        "chaine = chaine.replace(\"b\",\"-...\")\n",
        "chaine = chaine.replace(\"c\",\"-.-.\")\n",
        "chaine = chaine.replace(\"d\",\"-..\")\n",
        "print(chaine)\n",
        "\n",
        "\n",
        "\n",
        "\n"
      ],
      "metadata": {
        "id": "b_3nDHiZU1uT"
      },
      "execution_count": null,
      "outputs": []
    },
    {
      "cell_type": "markdown",
      "source": [
        "### 5. Traducteur de numéro de téléphone alphabétique\n",
        "De nombreuses entreprises utilisent des numéros de téléphone tels que 555-GET-FOOD afin que le numéro soit plus facile à retenir pour leurs clients. Sur un téléphone standard, les lettres alphabétiques sont mappées aux chiffres de la manière suivante :\n",
        "A, B et C = 2\n",
        "D, E et F = 3\n",
        "G, H et I = 4\n",
        "J, K et L = 5\n",
        "M, N et O = 6 P, Q, R et S = 7 T, U et V = 8\n",
        "W, X, Y et Z = 9\n",
        "Écrivez un programme qui demande à l'utilisateur d'entrer un numéro de téléphone à 10 caractères au format XXX-XXX-XXXX. L'application doit afficher le numéro de téléphone avec tous les caractères alphabétiques apparaissant dans l'original traduit en leur équivalent numérique. Par exemple, si l'utilisateur entre 555-GET-FOOD, l'application doit afficher 555-438-3663.\n",
        "\n",
        "6. Nombre moyen de mots"
      ],
      "metadata": {
        "id": "bXIx39T8fSsf"
      }
    },
    {
      "cell_type": "code",
      "source": [
        "# to judge the user Entry, Entry must be 10 character in the form of integer or letter\n",
        "def entry_validation():\n",
        "  while True:\n",
        "    tele_num = input(\"Entrez un numero de telephone : \")\n",
        "    if len(tele_num) == 10 :\n",
        "      if tele_num.isdigit or tele_num.isalpha :\n",
        "        for i in range(9):\n",
        "          if tele_num[i] in (\"1\",\"2\", \"3\", \"4\", \"5\", \"6\", \"7\", \"8\", \"9\", \"0\", \"A\", \"B\", \"C\", \"D\", \"E\",\"F\", \"G\", \"H\", \"I\", \"J\", \"K\", \"L\",\"M\", \"N\", \"O\", \"P\", \"Q\", \"R\", \"S\", \"T\", \"U\", \"V\", \"W\", \"X\", \"Y\", \"Z\"):\n",
        "            return tele_num\n",
        "            break\n",
        "          else:\n",
        "            print(\"Invalid Entry !, entry doit etre numero ou char !\"  )  \n",
        "      else:\n",
        "        print(\"Invalid Entry !, Entrez un Numero ou digit !\")  \n",
        "    else :\n",
        "      print(\" invalid Entry, Soyez sur a entrer 10 characters !\")\n",
        "\n",
        "# allow user to enter a small letter by turning it into capsL\n",
        "#def turn_into_caps(valid_entry):\n",
        "###  i=0\n",
        "#  for i in range(len(valid_entry)):\n",
        "#    if valid_entry[i] in (\"A\", \"B\", \"C\", \"D\", \"E\",\"F\", \"G\", \"H\", \"I\", \"J\", \"K\", \"L\",\"M\", \"N\", \"O\", \"P\", \"Q\", \"R\", \"S\", \"T\", \"U\", \"V\", \"W\", \"X\", \"Y\", \"Z\", \"a\", \"b\", \"c\"):\n",
        "##      valid_entry = valid_entry[i].upper()\n",
        "#  return valid_entry    \n",
        "\n",
        "\n",
        "def main() :\n",
        "  telephone = entry_validation()\n",
        "  telephone = telephone. replace(\"A\", \"2\")\n",
        "  telephone = telephone. replace(\"B\", \"2\")\n",
        "  telephone = telephone. replace(\"C\", \"2\")\n",
        "  telephone = telephone. replace(\"D\", \"3\")\n",
        "  telephone = telephone. replace(\"E\", \"3\")\n",
        "  telephone = telephone. replace(\"F\", \"3\")\n",
        "  telephone = telephone. replace(\"G\", \"4\")\n",
        "  telephone = telephone. replace(\"H\", \"4\")\n",
        "  telephone = telephone. replace(\"I\", \"4\")\n",
        "  telephone = telephone. replace(\"J\", \"5\")\n",
        "  telephone = telephone. replace(\"K\", \"5\")\n",
        "  telephone = telephone. replace(\"L\", \"5\")\n",
        "  telephone = telephone. replace(\"M\", \"6\")\n",
        "  telephone = telephone. replace(\"N\", \"6\")\n",
        "  telephone = telephone. replace(\"O\", \"6\")\n",
        "  telephone = telephone. replace(\"P\", \"7\")\n",
        "  telephone = telephone. replace(\"Q\", \"7\")\n",
        "  telephone = telephone. replace(\"R\", \"7\")\n",
        "  telephone = telephone. replace(\"S\", \"7\")\n",
        "  telephone = telephone. replace(\"T\", \"8\")\n",
        "  telephone = telephone. replace(\"U\", \"8\")\n",
        "  telephone = telephone. replace(\"V\", \"8\")\n",
        "  telephone = telephone. replace(\"W\", \"9\")\n",
        "  telephone = telephone. replace(\"X\", \"9\")\n",
        "  telephone = telephone. replace(\"Y\", \"9\")\n",
        "  telephone = telephone. replace(\"Z\", \"9\")\n",
        "  return telephone\n",
        "\n",
        "result = main()\n",
        "print(result[0:3],\"-\", result[3:6], \"-\", result[6:10])\n"
      ],
      "metadata": {
        "id": "G-DlMAXufVqB"
      },
      "execution_count": null,
      "outputs": []
    },
    {
      "cell_type": "markdown",
      "source": [
        ""
      ],
      "metadata": {
        "id": "PbBj6sNmwqhe"
      }
    },
    {
      "cell_type": "code",
      "source": [
        "len(\"0123456789\")"
      ],
      "metadata": {
        "id": "LVG-4o4OqcZY"
      },
      "execution_count": null,
      "outputs": []
    },
    {
      "cell_type": "markdown",
      "source": [
        "### nombre moyen de mots:\n",
        "\n",
        "Vous trouverez un fichier nommé text.txt avec les exercices. Le texte qui se trouve dans le fichier est stocké sous la forme d'une phrase par ligne. Écrivez un programme qui lit le contenu du fichier et calcule le nombre moyen de mots par phrase.\n"
      ],
      "metadata": {
        "id": "gl_MwkjWf1h9"
      }
    },
    {
      "cell_type": "code",
      "source": [
        "fichier_nom = input(\"Entrez le nom de la fichier : \")\n",
        "fichier_var = open(fichier_nom, \"r\")\n",
        "content = fichier_var.read()\n",
        "for line in content:\n",
        "  print(line)\n",
        "  "
      ],
      "metadata": {
        "id": "HUkz1Vysf-AH"
      },
      "execution_count": null,
      "outputs": []
    },
    {
      "cell_type": "markdown",
      "source": [
        ""
      ],
      "metadata": {
        "id": "_2rsDEbAjfyz"
      }
    },
    {
      "cell_type": "code",
      "source": [
        ""
      ],
      "metadata": {
        "id": "Pb_xqgPmjhdx"
      },
      "execution_count": null,
      "outputs": []
    },
    {
      "cell_type": "markdown",
      "source": [
        "### 8. Phrase en majuscule:\n",
        "\n",
        "Ecrivez un programme avec une fonction qui accepte une chaîne comme argument et renvoie une copie de la chaîne avec le premier caractère de chaque phrase en majuscule. Par exemple, si l'argument est « bonjour. mon nom est Joe. quel est ton nom?\" la fonction doit renvoyer la chaîne \"Bonjour. Mon nom est Joe. Quel est ton nom?\" Le programme doit laisser l'utilisateur saisir une chaîne, puis la transmettre à la fonction. La chaîne modifiée doit s'afficher.\n"
      ],
      "metadata": {
        "id": "zDIvq24rjij1"
      }
    },
    {
      "cell_type": "code",
      "source": [
        "from os import replace\n",
        "def entry_validation():\n",
        "    phrase = input(\"Entrez Votre phrase\")\n",
        "    phrase = phrase.capitalize()\n",
        "    return phrase\n",
        " \n",
        "def get_its_num (user_phrase):\n",
        "  i = -1\n",
        "  lst=[]\n",
        "  length = len(user_phrase)\n",
        "  for lettre in user_phrase[0:length-2]:\n",
        "    i = i + 1\n",
        "    if lettre == \".\" :\n",
        "      lst.append(i+2)\n",
        "  return lst\n",
        "\n",
        "entry = entry_validation()\n",
        "my_list = get_its_num(entry)\n",
        "for item in my_list:\n",
        "  print(entry[item])\n",
        "  entry = entry.replace(entry[item], entry[item].upper())\n",
        "  print(entry)\n",
        " \n",
        "\n",
        "\n",
        "\n",
        "\n",
        "\n",
        "\n",
        "  \n",
        "\n",
        "\n",
        "\n",
        "\n"
      ],
      "metadata": {
        "colab": {
          "base_uri": "https://localhost:8080/"
        },
        "id": "e7GLpjCXjl9c",
        "outputId": "bd5427e4-00bf-45d1-affe-430c71c5e039"
      },
      "execution_count": 33,
      "outputs": [
        {
          "output_type": "stream",
          "name": "stdout",
          "text": [
            "Entrez Votre phrasei love u. how are u. hi\n",
            "h\n",
            "I love u. How are u. Hi\n",
            "H\n",
            "I love u. How are u. Hi\n"
          ]
        }
      ]
    },
    {
      "cell_type": "markdown",
      "source": [
        " ### 9 Voyelles et consonnes \n",
        "\n",
        "Ecrivez un programme avec une fonction qui accepte une chaîne comme argument et renvoie le nombre de voyelles que contient la chaîne. L'application doit avoir une autre fonction qui accepte une chaîne comme argument et renvoie le nombre de consonnes que la chaîne contient. L'application doit permettre à l'utilisateur de saisir une chaîne et doit afficher le nombre de voyelles et le nombre de consonnes qu'elle contient.\n"
      ],
      "metadata": {
        "id": "JR9pALDz0akU"
      }
    },
    {
      "cell_type": "code",
      "source": [
        "def entry_validation():\n",
        "  chain = input(\"Entrez la chaine : \")\n",
        "  chain = chain.lower()\n",
        "  return chain\n",
        "\n",
        "\n",
        "def voyelles_num(chaine) :\n",
        "  res = 0\n",
        "  for letter in chaine :\n",
        "    if letter in (\"a\", \"e\", \"u\", \"o\", \"i\") :\n",
        "      res = res + 1\n",
        "  return res\n",
        "\n",
        "def consonnes_num(chaine):\n",
        "  res = 0\n",
        "  for lettre in chaine :\n",
        "    if (not(lettre in (\"a\", \"e\", \"u\", \"o\", \"i\"))) :\n",
        "      res = res + 1\n",
        "      c\n",
        "  return res\n",
        "\n",
        "def main():\n",
        "  user_entry = entry_validation()\n",
        "  user_entry = user_entry.replace(\" \", \"\")\n",
        "  res1 =  voyelles_num(user_entry)\n",
        "  res2 =  consonnes_num(user_entry)\n",
        "  return res1, res2\n",
        "\n",
        "x, y = main()\n",
        "print(x, y)  "
      ],
      "metadata": {
        "colab": {
          "base_uri": "https://localhost:8080/"
        },
        "id": "ly7sU7oj0q71",
        "outputId": "5fde97f3-80ff-4d89-c37d-cf1e72da4dab"
      },
      "execution_count": 38,
      "outputs": [
        {
          "output_type": "stream",
          "name": "stdout",
          "text": [
            "Entrez la chaine : i love u\n",
            "4 2\n"
          ]
        }
      ]
    },
    {
      "cell_type": "markdown",
      "source": [
        "### 10 Caractère le plus fréquent: \n",
        "\n",
        "Écrivez un programme qui permet à l'utilisateur d'entrer une chaîne et affiche le caractère qui apparaît le plus fréquemment dans la chaîne."
      ],
      "metadata": {
        "id": "DUI9VRY8gBMr"
      }
    },
    {
      "cell_type": "code",
      "source": [
        "def entry_validation():\n",
        "  entry = input(\"Entrez une chaine : \")\n",
        "  entry = entry.lower()\n",
        "  entry = entry.replace(\" \", \"\")\n",
        "  return entry\n",
        "\n",
        "def main():\n",
        "  user_entry = entry_validation()\n",
        "  A = list(user_entry)\n",
        "  n = len(user_entry)\n",
        "  max_count = 0\n",
        "  for i in range(n):\n",
        "    count = 0\n",
        "    for j in range(n-1):\n",
        "      #print(\"compare it with : \", A[j])\n",
        "      if A[i] == A[j]:\n",
        "         count = count + 1\n",
        "         if count > max_count:\n",
        "           max_count = count\n",
        "           most_freq = A[i]\n",
        "  return most_freq, max_count\n",
        "\n",
        "res1, res2 = main()\n",
        "print(\"le plus frequemment charactere est :\", res1, \"    le frequency est : \", res2) \n",
        "\n",
        "\n"
      ],
      "metadata": {
        "colab": {
          "base_uri": "https://localhost:8080/"
        },
        "id": "vWoh_gVrgEIr",
        "outputId": "cced2727-d272-4ca2-9404-aac4c98268cb"
      },
      "execution_count": 23,
      "outputs": [
        {
          "output_type": "stream",
          "name": "stdout",
          "text": [
            "Entrez une chaine : i love you alot\n",
            "le plus frequemment charactere est : o     le frequency est :  3\n"
          ]
        }
      ]
    },
    {
      "cell_type": "markdown",
      "source": [
        "### 11 Séparateur de mots ⁉\n",
        "\n",
        "Ecrivez un programme qui accepte en entrée une phrase dans laquelle tous les mots sont exécutés ensemble, mais le premier caractère de chaque mot est en majuscule. Convertissez la phrase en une chaîne dans laquelle les mots sont séparés par des espaces, et seul le premier mot commence par une lettre majuscule. Par exemple, la chaîne « StopAndSmellTheRoses ». serait converti en « Stop and smell the roses ».\n"
      ],
      "metadata": {
        "id": "Ku9sMzYRpnNX"
      }
    },
    {
      "cell_type": "code",
      "source": [
        "def entry_validation():\n",
        "  entry = input(\"Entrez une chaine : \")\n",
        "  entry = entry.replace(\" \", \"\")\n",
        "  return entry\n",
        "\n",
        "def main():\n",
        "  chaine = entry_validation()\n",
        "  lst = list(chaine)\n",
        "  n = len(chaine)\n",
        "  for i in range(len(chaine)-1) :\n",
        "    if lst[i+1].isupper():\n",
        "      lst[i+1] = lst[i+1].lower()\n",
        "      lst.insert(i+1, \" \")  # you do not need it if you use Join : \" \".join(lst)\n",
        "  print(lst)\n",
        "  # convert list to chain:\n",
        "  result = \"\"\n",
        "  for letter in lst :\n",
        "    result = result+ \" \"+ letter\n",
        "  return result\n",
        "\n",
        "print(main()) \n",
        "\n",
        "\n"
      ],
      "metadata": {
        "colab": {
          "base_uri": "https://localhost:8080/"
        },
        "id": "oo6aSSX2pu9v",
        "outputId": "5e92b09e-70a6-42cb-ba26-ae582dbed512"
      },
      "execution_count": 52,
      "outputs": [
        {
          "output_type": "stream",
          "name": "stdout",
          "text": [
            "Entrez une chaine : ILoveYou\n",
            "['I', ' ', 'l', 'o', 'v', 'e', ' ', 'y', 'o', 'u']\n",
            " I   l o v e   y o u\n"
          ]
        }
      ]
    },
    {
      "cell_type": "markdown",
      "source": [
        "### 12. Pig Latin:\n",
        "\n",
        "Écrivez un programme qui accepte une phrase en entrée et convertit chaque mot en « Pig Latin ». Dans une version, pour convertir un mot en Pig Latin, vous supprimez la première lettre et placez cette lettre à la fin du mot. Ensuite, vous ajoutez la chaîne \"ay\" au mot. Voici un exemple:\n",
        "Anglais : I SLEPT MOST OF THE NIGHT\n",
        "Pig Latin : IAY LEPTSAY OSTMAY FOAY HETAY IGHTNAY"
      ],
      "metadata": {
        "id": "ArbMJFJoCx1g"
      }
    },
    {
      "cell_type": "code",
      "source": [
        ""
      ],
      "metadata": {
        "id": "67E4nb6DC6ve"
      },
      "execution_count": null,
      "outputs": []
    }
  ]
}