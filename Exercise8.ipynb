{
  "nbformat": 4,
  "nbformat_minor": 0,
  "metadata": {
    "colab": {
      "name": "Exercise8.ipynb",
      "provenance": [],
      "authorship_tag": "ABX9TyPKVdI2P6w9qlRwoLiBfYV5",
      "include_colab_link": true
    },
    "kernelspec": {
      "name": "python3",
      "display_name": "Python 3"
    },
    "language_info": {
      "name": "python"
    }
  },
  "cells": [
    {
      "cell_type": "markdown",
      "metadata": {
        "id": "view-in-github",
        "colab_type": "text"
      },
      "source": [
        "<a href=\"https://colab.research.google.com/github/JadeSbh/PROGRAMMATION-ET-SCRIPTS-SYST-ME/blob/main/Exercise8.ipynb\" target=\"_parent\"><img src=\"https://colab.research.google.com/assets/colab-badge.svg\" alt=\"Open In Colab\"/></a>"
      ]
    },
    {
      "cell_type": "markdown",
      "source": [
        "# Exercise 8"
      ],
      "metadata": {
        "id": "QP8wMoBxA0_R"
      }
    },
    {
      "cell_type": "markdown",
      "source": [
        "###  Affichage du nom\n",
        " Affichage du nom\n",
        "Écrivez un programme qui obtient des chaînes contenant le prénom et le nom d'une personne en tant que valeurs distinctes, puis affiche leurs \"initiales\", \"nom dans le carnet d'adresses\" et \"nom d'utilisateur\". Par exemple, si l'utilisateur entre un prénom de « John » et un nom de famille de « Smith », le programme doit afficher « J.S. », « John SMITH » et « jsmith »."
      ],
      "metadata": {
        "id": "vmB1sbx0A613"
      }
    },
    {
      "cell_type": "code",
      "source": [
        "def entry_validation():\n",
        "  while True :\n",
        "    nom = input(\"Entrez votre prenom : \")\n",
        "    nom_de_famille = input(\"Entrez votre nom de famille : \")\n",
        "    if nom.isalpha() and nom_de_famille.isalpha() and nom[0].isupper():\n",
        "      return nom, nom_de_famille\n",
        "      break\n",
        "    else :\n",
        "      print(\"Invalide entry, entrez un alphabit et le nom commonce avec capital letter, re_entre SVP !\")  \n",
        "res1, res2 = entry_validation()     \n",
        "print(res1[0].upper()+'.'+res2[0].upper()+'.')\n",
        "print(res1+' '+res2.upper())\n",
        "print(res1[0].lower()+res2.lower())"
      ],
      "metadata": {
        "colab": {
          "base_uri": "https://localhost:8080/"
        },
        "id": "WQUz1rG-BfgO",
        "outputId": "30a03245-43cf-4437-89c9-6787d92be8e8"
      },
      "execution_count": 8,
      "outputs": [
        {
          "output_type": "stream",
          "name": "stdout",
          "text": [
            "Entrez votre prenom : amjad\n",
            "Entrez votre nom de famille : sabbagh\n",
            "Invalide entry, vous n'avez pas entre alphabit, re_entre SVP !\n",
            "Entrez votre prenom : Amjad\n",
            "Entrez votre nom de famille : Sabbagh\n",
            "A.S.\n",
            "Amjad SABBAGH\n",
            "asabbagh\n"
          ]
        }
      ]
    },
    {
      "cell_type": "markdown",
      "source": [
        "### \n",
        "2. Somme des chiffres dans une chaîne:\n",
        "\n",
        "Écrivez un programme qui demande à l'utilisateur d'entrer une série de nombres à un chiffre sans que rien ne les sépare.\n",
        "Le programme doit afficher la somme de tous les nombres à un chiffre dans la chaîne. Par exemple, \n",
        "si l'utilisateur entre 2514, la méthode doit renvoyer 12, qui est la somme de 2, 5, 1 et 4."
      ],
      "metadata": {
        "id": "pecWcA5tGIPi"
      }
    },
    {
      "cell_type": "code",
      "source": [
        "def entry_validation():\n",
        "  while True:\n",
        "    serie = input('Entrez une serie de nombres a un chiffre : ')\n",
        "    if serie.isnumeric():\n",
        "      return serie\n",
        "      break\n",
        "    else :\n",
        "      print(\"Invalide entry! , Entrez nombre SVP !\")  \n",
        "res = entry_validation()\n",
        "somme = 0\n",
        "for num in res :\n",
        "  somme = int(num) + somme\n",
        "print(res+str(somme))"
      ],
      "metadata": {
        "colab": {
          "base_uri": "https://localhost:8080/"
        },
        "id": "00bZt3ibGgQY",
        "outputId": "f2ef3064-b2f7-47c3-fd9b-d64eecf5ae53"
      },
      "execution_count": 10,
      "outputs": [
        {
          "output_type": "stream",
          "name": "stdout",
          "text": [
            "Entrez une serie de nombres a un chiffre : jghjfdg\n",
            "Invalide entry! , Entrez nombre SVP !\n",
            "Entrez une serie de nombres a un chiffre : 25418\n",
            "2541820\n"
          ]
        }
      ]
    },
    {
      "cell_type": "markdown",
      "source": [
        "### \n",
        "3. Imprimante de date:\n",
        "\n",
        "Ecrivez un programme qui lit une chaîne de l'utilisateur contenant une date sous la forme mm/jj/aaaa. Il devrait imprimer la date au format 12 mars 2018."
      ],
      "metadata": {
        "id": "uN0_UphXJKRA"
      }
    },
    {
      "cell_type": "code",
      "source": [
        "def entry_validation():\n",
        "  while True:\n",
        "    date= input(\"Entrez la date sous la forme mm/jj/aaaa :\")\n",
        "    if len(date) == 8 :\n",
        "      if date.isdigit():\n",
        "        if int(date[:2]) > 0 and int(date[:2]) < 13 :\n",
        "          if int(date[2:4]) > 0 and int(date[2:4]) < 32 :\n",
        "            if int(date[4:]) > 0 :\n",
        "              return date\n",
        "              break\n",
        "            else:\n",
        "              print(\"invalide entry !, Entrez un nombre qui present l'anne que plus eleve de 0\")  \n",
        "          else:\n",
        "            print(\"invalid entry !, Entrez un nombre qui present le jour que entre 01 et 32\")  \n",
        "        else:\n",
        "          print('invalide entry !, Entrez un nombre qui present le mois que entre 01 et 12 ')  \n",
        "      else:\n",
        "        print(\"invalide entry !\")\n",
        "    else:\n",
        "      print(\"Entrez 8 nombre SVP !\")      \n",
        "\n",
        "\n",
        "\n",
        "date = entry_validation()                     \n",
        "   \n",
        "if date[:2] == '01' :\n",
        "  print(date[2:4]+ \" January \"+ date[4:])\n",
        "elif date[:2] == '02' :\n",
        "  print(date[2:4]+ \" Feb \"+ date[4:])\n",
        "elif date[:2] == '03' :\n",
        "   print(date[2:4]+ \" mars \"+ date[4:])\n",
        "elif date[:2] == '04' :\n",
        "   print(date[2:4]+ \" avril \"+ date[4:]) \n",
        "elif date[:2] == '05' :\n",
        "   print(date[2:4]+ \" mai \"+ date[4:]) \n",
        "elif date[:2] == '06' :\n",
        "   print(date[2:4]+ \" juin \"+ date[4:]) \n",
        "elif date[:2] == '07' :\n",
        "   print(date[2:4]+ \" juillet \"+ date[4:]) \n",
        "elif date[:2] == '08' :\n",
        "   print(date[2:4]+ \" aout \"+ date[4:]) \n",
        "elif date[:2] == '09' :\n",
        "   print(date[2:4]+ \" septembre \"+ date[4:]) \n",
        "elif date[:2] == '10' :\n",
        "   print(date[2:4]+ \" octobre \"+ date[4:]) \n",
        "elif date[:2] == '11' :\n",
        "   print(date[2:4]+ \" novembre \"+ date[4:]) \n",
        "elif date[:2] == '12' :\n",
        "   print(date[2:4]+ \" decembre \"+ date[4:]) "
      ],
      "metadata": {
        "colab": {
          "base_uri": "https://localhost:8080/"
        },
        "id": "d6_vceKwJV2A",
        "outputId": "d57eaa93-2fe1-4101-8381-8aaee7371e38"
      },
      "execution_count": 18,
      "outputs": [
        {
          "output_type": "stream",
          "name": "stdout",
          "text": [
            "Entrez la date sous la forme mm/jj/aaaa :03011988\n",
            "01 mars 1988\n"
          ]
        }
      ]
    },
    {
      "cell_type": "markdown",
      "source": [
        "### 4. Convertisseur de code Morse\n",
        "Le code Morse est un code où chaque lettre de l'alphabet anglais,\n",
        "chaque chiffre et divers caractères de ponctuation sont représentés par une série de points et de tirets. Le fichier morse montre une partie du code.\n",
        "Écrivez un programme qui demande à l'utilisateur d'entrer une chaîne, puis convertit cette chaîne en code Morse.\n"
      ],
      "metadata": {
        "id": "cq4OKrioT1rS"
      }
    },
    {
      "cell_type": "code",
      "source": [
        "chaine_in = input(\"Entrez Une chaine : \")\n",
        "chaine = chaine_in.lower()\n",
        "res0 = chaine.replace(\",\", \"--..-- \")\n",
        "res1 = res0.replace(\".\", \".-.-.-\")\n",
        "res2 = res1.replace(\"?\",\"..--..\")\n",
        "res3 = res2.replace(\"0\",\"-----\")\n",
        "res4 = res3.replace(\"1\",\".----\")\n",
        "res5 = res4.replace(\"2\",\"..---\")\n",
        "res6 = res5.replace(\"3\",\"...--\")\n",
        "res7 = res6.replace(\"4\",\"....-\")\n",
        "res8 = res7.replace(\"5\",\".....\")\n",
        "res9 = res8.replace(\"6\",\"-....\")\n",
        "res10 = res9.replace(\"7\",\"--...\")\n",
        "res11 = res10.replace(\"8\",\"---..\")\n",
        "res12 = res11.replace(\"9\",\"----.\") \n",
        "res13 = res12.replace(\"a\",\".-\")\n",
        "res14 = res13.replace(\"b\",\"-...\")\n",
        "res15 = res14.replace(\"c\",\"-.-.\")\n",
        "res16 = res15.replace(\"d\",\"-..\")\n",
        "\n",
        "\n",
        "\n",
        "\n"
      ],
      "metadata": {
        "colab": {
          "base_uri": "https://localhost:8080/"
        },
        "id": "b_3nDHiZU1uT",
        "outputId": "0987125a-a802-487b-bde5-757019778280"
      },
      "execution_count": 19,
      "outputs": [
        {
          "output_type": "stream",
          "name": "stdout",
          "text": [
            "Entrez Une chaine : memona\n",
            "['m', 'e', 'm', 'o', 'n', 'a']\n"
          ]
        }
      ]
    }
  ]
}