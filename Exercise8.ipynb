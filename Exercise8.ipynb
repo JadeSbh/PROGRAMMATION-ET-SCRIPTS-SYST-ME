{
  "nbformat": 4,
  "nbformat_minor": 0,
  "metadata": {
    "colab": {
      "name": "Exercise8.ipynb",
      "provenance": [],
      "authorship_tag": "ABX9TyOGavkZH7mKH5kaLEiibd5w",
      "include_colab_link": true
    },
    "kernelspec": {
      "name": "python3",
      "display_name": "Python 3"
    },
    "language_info": {
      "name": "python"
    }
  },
  "cells": [
    {
      "cell_type": "markdown",
      "metadata": {
        "id": "view-in-github",
        "colab_type": "text"
      },
      "source": [
        "<a href=\"https://colab.research.google.com/github/JadeSbh/PROGRAMMATION-ET-SCRIPTS-SYST-ME/blob/main/Exercise8.ipynb\" target=\"_parent\"><img src=\"https://colab.research.google.com/assets/colab-badge.svg\" alt=\"Open In Colab\"/></a>"
      ]
    },
    {
      "cell_type": "markdown",
      "source": [
        "# Exercise 8"
      ],
      "metadata": {
        "id": "QP8wMoBxA0_R"
      }
    },
    {
      "cell_type": "markdown",
      "source": [
        "###  Affichage du nom\n",
        " Affichage du nom\n",
        "Écrivez un programme qui obtient des chaînes contenant le prénom et le nom d'une personne en tant que valeurs distinctes, puis affiche leurs \"initiales\", \"nom dans le carnet d'adresses\" et \"nom d'utilisateur\". Par exemple, si l'utilisateur entre un prénom de « John » et un nom de famille de « Smith », le programme doit afficher « J.S. », « John SMITH » et « jsmith »."
      ],
      "metadata": {
        "id": "vmB1sbx0A613"
      }
    },
    {
      "cell_type": "code",
      "source": [
        "def entry_validation():\n",
        "  while True :\n",
        "    nom = input(\"Entrez votre prenom : \")\n",
        "    nom_de_famille = input(\"Entrez votre nom de famille : \")\n",
        "    if nom.isalpha() and nom_de_famille.isalpha() and nom[0].isupper():\n",
        "      return nom, nom_de_famille\n",
        "      break\n",
        "    else :\n",
        "      print(\"Invalide entry, entrez un alphabit et le nom commonce avec capital letter, re_entre SVP !\")  \n",
        "res1, res2 = entry_validation()     \n",
        "print(res1[0].upper()+'.'+res2[0].upper()+'.')\n",
        "print(res1+' '+res2.upper())\n",
        "print(res1[0].lower()+res2.lower())"
      ],
      "metadata": {
        "colab": {
          "base_uri": "https://localhost:8080/"
        },
        "id": "WQUz1rG-BfgO",
        "outputId": "30a03245-43cf-4437-89c9-6787d92be8e8"
      },
      "execution_count": null,
      "outputs": [
        {
          "output_type": "stream",
          "name": "stdout",
          "text": [
            "Entrez votre prenom : amjad\n",
            "Entrez votre nom de famille : sabbagh\n",
            "Invalide entry, vous n'avez pas entre alphabit, re_entre SVP !\n",
            "Entrez votre prenom : Amjad\n",
            "Entrez votre nom de famille : Sabbagh\n",
            "A.S.\n",
            "Amjad SABBAGH\n",
            "asabbagh\n"
          ]
        }
      ]
    },
    {
      "cell_type": "markdown",
      "source": [
        "### \n",
        "2. Somme des chiffres dans une chaîne:\n",
        "\n",
        "Écrivez un programme qui demande à l'utilisateur d'entrer une série de nombres à un chiffre sans que rien ne les sépare.\n",
        "Le programme doit afficher la somme de tous les nombres à un chiffre dans la chaîne. Par exemple, \n",
        "si l'utilisateur entre 2514, la méthode doit renvoyer 12, qui est la somme de 2, 5, 1 et 4."
      ],
      "metadata": {
        "id": "pecWcA5tGIPi"
      }
    },
    {
      "cell_type": "code",
      "source": [
        "def entry_validation():\n",
        "  while True:\n",
        "    serie = input('Entrez une serie de nombres a un chiffre : ')\n",
        "    if serie.isnumeric():\n",
        "      return serie\n",
        "      break\n",
        "    else :\n",
        "      print(\"Invalide entry! , Entrez nombre SVP !\")  \n",
        "res = entry_validation()\n",
        "somme = 0\n",
        "for num in res :\n",
        "  somme = int(num) + somme\n",
        "print(res+str(somme))"
      ],
      "metadata": {
        "colab": {
          "base_uri": "https://localhost:8080/"
        },
        "id": "00bZt3ibGgQY",
        "outputId": "f2ef3064-b2f7-47c3-fd9b-d64eecf5ae53"
      },
      "execution_count": null,
      "outputs": [
        {
          "output_type": "stream",
          "name": "stdout",
          "text": [
            "Entrez une serie de nombres a un chiffre : jghjfdg\n",
            "Invalide entry! , Entrez nombre SVP !\n",
            "Entrez une serie de nombres a un chiffre : 25418\n",
            "2541820\n"
          ]
        }
      ]
    },
    {
      "cell_type": "markdown",
      "source": [
        "### \n",
        "3. Imprimante de date:\n",
        "\n",
        "Ecrivez un programme qui lit une chaîne de l'utilisateur contenant une date sous la forme mm/jj/aaaa. Il devrait imprimer la date au format 12 mars 2018."
      ],
      "metadata": {
        "id": "uN0_UphXJKRA"
      }
    },
    {
      "cell_type": "code",
      "source": [
        "def entry_validation():\n",
        "  while True:\n",
        "    date= input(\"Entrez la date sous la forme mm/jj/aaaa :\")\n",
        "    if len(date) == 8 :\n",
        "      if date.isdigit():\n",
        "        if int(date[:2]) > 0 and int(date[:2]) < 13 :\n",
        "          if int(date[2:4]) > 0 and int(date[2:4]) < 32 :\n",
        "            if int(date[4:]) > 0 :\n",
        "              return date\n",
        "              break\n",
        "            else:\n",
        "              print(\"invalide entry !, Entrez un nombre qui present l'anne que plus eleve de 0\")  \n",
        "          else:\n",
        "            print(\"invalid entry !, Entrez un nombre qui present le jour que entre 01 et 32\")  \n",
        "        else:\n",
        "          print('invalide entry !, Entrez un nombre qui present le mois que entre 01 et 12 ')  \n",
        "      else:\n",
        "        print(\"invalide entry !\")\n",
        "    else:\n",
        "      print(\"Entrez 8 nombre SVP !\")      \n",
        "\n",
        "\n",
        "\n",
        "date = entry_validation()                     \n",
        "   \n",
        "if date[:2] == '01' :\n",
        "  print(date[2:4]+ \" January \"+ date[4:])\n",
        "elif date[:2] == '02' :\n",
        "  print(date[2:4]+ \" Feb \"+ date[4:])\n",
        "elif date[:2] == '03' :\n",
        "   print(date[2:4]+ \" mars \"+ date[4:])\n",
        "elif date[:2] == '04' :\n",
        "   print(date[2:4]+ \" avril \"+ date[4:]) \n",
        "elif date[:2] == '05' :\n",
        "   print(date[2:4]+ \" mai \"+ date[4:]) \n",
        "elif date[:2] == '06' :\n",
        "   print(date[2:4]+ \" juin \"+ date[4:]) \n",
        "elif date[:2] == '07' :\n",
        "   print(date[2:4]+ \" juillet \"+ date[4:]) \n",
        "elif date[:2] == '08' :\n",
        "   print(date[2:4]+ \" aout \"+ date[4:]) \n",
        "elif date[:2] == '09' :\n",
        "   print(date[2:4]+ \" septembre \"+ date[4:]) \n",
        "elif date[:2] == '10' :\n",
        "   print(date[2:4]+ \" octobre \"+ date[4:]) \n",
        "elif date[:2] == '11' :\n",
        "   print(date[2:4]+ \" novembre \"+ date[4:]) \n",
        "elif date[:2] == '12' :\n",
        "   print(date[2:4]+ \" decembre \"+ date[4:]) "
      ],
      "metadata": {
        "colab": {
          "base_uri": "https://localhost:8080/"
        },
        "id": "d6_vceKwJV2A",
        "outputId": "d57eaa93-2fe1-4101-8381-8aaee7371e38"
      },
      "execution_count": null,
      "outputs": [
        {
          "output_type": "stream",
          "name": "stdout",
          "text": [
            "Entrez la date sous la forme mm/jj/aaaa :03011988\n",
            "01 mars 1988\n"
          ]
        }
      ]
    },
    {
      "cell_type": "markdown",
      "source": [
        "### 4. Convertisseur de code Morse\n",
        "Le code Morse est un code où chaque lettre de l'alphabet anglais,\n",
        "chaque chiffre et divers caractères de ponctuation sont représentés par une série de points et de tirets. Le fichier morse montre une partie du code.\n",
        "Écrivez un programme qui demande à l'utilisateur d'entrer une chaîne, puis convertit cette chaîne en code Morse.\n"
      ],
      "metadata": {
        "id": "cq4OKrioT1rS"
      }
    },
    {
      "cell_type": "code",
      "source": [
        "chaine_in = input(\"Entrez Une chaine : \")\n",
        "chaine = chaine_in.lower()\n",
        "chaine = chaine.replace(\" \", \" \")\n",
        "chaine = chaine.replace(\",\", \"--..-- \")\n",
        "chaine = chaine.replace(\".\", \".-.-.-\")\n",
        "chaine = chaine.replace(\"?\",\"..--..\")\n",
        "chaine = chaine.replace(\"0\",\"-----\")\n",
        "chaine = chaine.replace(\"1\",\".----\")\n",
        "chaine = chaine.replace(\"2\",\"..---\")\n",
        "chaine = chaine.replace(\"3\",\"...--\")\n",
        "chaine = chaine.replace(\"4\",\"....-\")\n",
        "chaine = chaine.replace(\"5\",\".....\")\n",
        "chaine = chaine.replace(\"6\",\"-....\")\n",
        "chaine = chaine.replace(\"7\",\"--...\")\n",
        "chaine = chaine.replace(\"8\",\"---..\")\n",
        "chaine = chaine.replace(\"9\",\"----.\") \n",
        "chaine = chaine.replace(\"a\",\".-\")\n",
        "chaine = chaine.replace(\"b\",\"-...\")\n",
        "chaine = chaine.replace(\"c\",\"-.-.\")\n",
        "chaine = chaine.replace(\"d\",\"-..\")\n",
        "print(chaine)\n",
        "\n",
        "\n",
        "\n",
        "\n"
      ],
      "metadata": {
        "colab": {
          "base_uri": "https://localhost:8080/"
        },
        "id": "b_3nDHiZU1uT",
        "outputId": "3b68b1d1-aa1e-4ad7-a835-796bd416a9d0"
      },
      "execution_count": 3,
      "outputs": [
        {
          "output_type": "stream",
          "name": "stdout",
          "text": [
            "Entrez Une chaine : 1234 5\n",
            ".----..---...--....- .....\n"
          ]
        }
      ]
    },
    {
      "cell_type": "markdown",
      "source": [
        "### 5. Traducteur de numéro de téléphone alphabétique\n",
        "De nombreuses entreprises utilisent des numéros de téléphone tels que 555-GET-FOOD afin que le numéro soit plus facile à retenir pour leurs clients. Sur un téléphone standard, les lettres alphabétiques sont mappées aux chiffres de la manière suivante :\n",
        "A, B et C = 2\n",
        "D, E et F = 3\n",
        "G, H et I = 4\n",
        "J, K et L = 5\n",
        "M, N et O = 6 P, Q, R et S = 7 T, U et V = 8\n",
        "W, X, Y et Z = 9\n",
        "Écrivez un programme qui demande à l'utilisateur d'entrer un numéro de téléphone à 10 caractères au format XXX-XXX-XXXX. L'application doit afficher le numéro de téléphone avec tous les caractères alphabétiques apparaissant dans l'original traduit en leur équivalent numérique. Par exemple, si l'utilisateur entre 555-GET-FOOD, l'application doit afficher 555-438-3663.\n",
        "\n",
        "6. Nombre moyen de mots"
      ],
      "metadata": {
        "id": "bXIx39T8fSsf"
      }
    },
    {
      "cell_type": "code",
      "source": [
        "# to judge the user Entry, Entry must be 10 character in the form of integer or letter\n",
        "def entry_validation():\n",
        "  while True:\n",
        "    tele_num = input(\"Entrez un numero de telephone : \")\n",
        "    if len(tele_num) == 10 :\n",
        "      if tele_num.isdigit or tele_num.isalpha :\n",
        "        for i in range(9):\n",
        "          if tele_num[i] in (\"1\",\"2\", \"3\", \"4\", \"5\", \"6\", \"7\", \"8\", \"9\", \"0\", \"A\", \"B\", \"C\", \"D\", \"E\",\"F\", \"G\", \"H\", \"I\", \"J\", \"K\", \"L\",\"M\", \"N\", \"O\", \"P\", \"Q\", \"R\", \"S\", \"T\", \"U\", \"V\", \"W\", \"X\", \"Y\", \"Z\"):\n",
        "            return tele_num\n",
        "            break\n",
        "          else:\n",
        "            print(\"Invalid Entry !, entry doit etre numero ou char !\"  )  \n",
        "      else:\n",
        "        print(\"Invalid Entry !, Entrez un Numero ou digit !\")  \n",
        "    else :\n",
        "      print(\" invalid Entry, Soyez sur a entrer 10 characters !\")\n",
        "\n",
        "# allow user to enter a small letter by turning it into capsL\n",
        "#def turn_into_caps(valid_entry):\n",
        "###  i=0\n",
        "#  for i in range(len(valid_entry)):\n",
        "#    if valid_entry[i] in (\"A\", \"B\", \"C\", \"D\", \"E\",\"F\", \"G\", \"H\", \"I\", \"J\", \"K\", \"L\",\"M\", \"N\", \"O\", \"P\", \"Q\", \"R\", \"S\", \"T\", \"U\", \"V\", \"W\", \"X\", \"Y\", \"Z\", \"a\", \"b\", \"c\"):\n",
        "##      valid_entry = valid_entry[i].upper()\n",
        "#  return valid_entry    \n",
        "\n",
        "\n",
        "def main() :\n",
        "  telephone = entry_validation()\n",
        "  telephone = telephone. replace(\"A\", \"2\")\n",
        "  telephone = telephone. replace(\"B\", \"2\")\n",
        "  telephone = telephone. replace(\"C\", \"2\")\n",
        "  telephone = telephone. replace(\"D\", \"3\")\n",
        "  telephone = telephone. replace(\"E\", \"3\")\n",
        "  telephone = telephone. replace(\"F\", \"3\")\n",
        "  telephone = telephone. replace(\"G\", \"4\")\n",
        "  telephone = telephone. replace(\"H\", \"4\")\n",
        "  telephone = telephone. replace(\"I\", \"4\")\n",
        "  telephone = telephone. replace(\"J\", \"5\")\n",
        "  telephone = telephone. replace(\"K\", \"5\")\n",
        "  telephone = telephone. replace(\"L\", \"5\")\n",
        "  telephone = telephone. replace(\"M\", \"6\")\n",
        "  telephone = telephone. replace(\"N\", \"6\")\n",
        "  telephone = telephone. replace(\"O\", \"6\")\n",
        "  telephone = telephone. replace(\"P\", \"7\")\n",
        "  telephone = telephone. replace(\"Q\", \"7\")\n",
        "  telephone = telephone. replace(\"R\", \"7\")\n",
        "  telephone = telephone. replace(\"S\", \"7\")\n",
        "  telephone = telephone. replace(\"T\", \"8\")\n",
        "  telephone = telephone. replace(\"U\", \"8\")\n",
        "  telephone = telephone. replace(\"V\", \"8\")\n",
        "  telephone = telephone. replace(\"W\", \"9\")\n",
        "  telephone = telephone. replace(\"X\", \"9\")\n",
        "  telephone = telephone. replace(\"Y\", \"9\")\n",
        "  telephone = telephone. replace(\"Z\", \"9\")\n",
        "  return telephone\n",
        "\n",
        "result = main()\n",
        "print(result[0:3],\"-\", result[3:6], \"-\", result[6:10])\n"
      ],
      "metadata": {
        "colab": {
          "base_uri": "https://localhost:8080/"
        },
        "id": "G-DlMAXufVqB",
        "outputId": "0544299b-ceac-437e-e74b-3f83fb2f8835"
      },
      "execution_count": 27,
      "outputs": [
        {
          "output_type": "stream",
          "name": "stdout",
          "text": [
            "Entrez un numero de telephone : 555GETFOOD\n",
            "555 - 438 - 3663\n"
          ]
        }
      ]
    },
    {
      "cell_type": "markdown",
      "source": [
        ""
      ],
      "metadata": {
        "id": "PbBj6sNmwqhe"
      }
    },
    {
      "cell_type": "code",
      "source": [
        "len(\"0123456789\")"
      ],
      "metadata": {
        "colab": {
          "base_uri": "https://localhost:8080/"
        },
        "id": "LVG-4o4OqcZY",
        "outputId": "8df776f0-94a3-4c43-9294-8932cd068b9e"
      },
      "execution_count": 17,
      "outputs": [
        {
          "output_type": "execute_result",
          "data": {
            "text/plain": [
              "10"
            ]
          },
          "metadata": {},
          "execution_count": 17
        }
      ]
    }
  ]
}