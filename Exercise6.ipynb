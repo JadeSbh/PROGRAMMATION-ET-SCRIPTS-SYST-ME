{
  "nbformat": 4,
  "nbformat_minor": 0,
  "metadata": {
    "colab": {
      "name": "Exercise6.ipynb",
      "provenance": [],
      "collapsed_sections": [],
      "authorship_tag": "ABX9TyPx9PgKIK2t/3fRTacMXARj",
      "include_colab_link": true
    },
    "kernelspec": {
      "name": "python3",
      "display_name": "Python 3"
    },
    "language_info": {
      "name": "python"
    }
  },
  "cells": [
    {
      "cell_type": "markdown",
      "metadata": {
        "id": "view-in-github",
        "colab_type": "text"
      },
      "source": [
        "<a href=\"https://colab.research.google.com/github/JadeSbh/PROGRAMMATION-ET-SCRIPTS-SYST-ME/blob/main/Exercise6.ipynb\" target=\"_parent\"><img src=\"https://colab.research.google.com/assets/colab-badge.svg\" alt=\"Open In Colab\"/></a>"
      ]
    },
    {
      "cell_type": "markdown",
      "source": [
        "#Exercise 6"
      ],
      "metadata": {
        "id": "5R0I-L9GBzhG"
      }
    },
    {
      "cell_type": "code",
      "source": [
        "text = \"  \"\n",
        "text1 = text.replace('»', '')\n",
        "text2 = text1.replace('©', '')\n",
        "text3 = text2.replace('‰', '')\n",
        "text4 = text3.replace('¨', '')\n",
        "text5 = text4.replace(\"'\", '\"')\n",
        "resulta1 = text5\n",
        "resulta = resulta1.replace('Ã', 'è')\n",
        "text6 = resulta.replace('®', '')\n",
        "text6"
      ],
      "metadata": {
        "colab": {
          "base_uri": "https://localhost:8080/",
          "height": 87
        },
        "id": "TwO5vAkTB3ai",
        "outputId": "94867831-9791-41c9-e2cf-49d4446b0a33"
      },
      "execution_count": 24,
      "outputs": [
        {
          "output_type": "execute_result",
          "data": {
            "text/plain": [
              "'  . Numèros de ligne Ecrivez un programme qui demande è  l\"utilisateur le nom d\"un fichier. Le programme doit afficher le contenu du fichier avec chaque ligne prècèdèe d\"un numèro de ligne suivi de deux points. La numèrotation des lignes doit commencer è  1.'"
            ],
            "application/vnd.google.colaboratory.intrinsic+json": {
              "type": "string"
            }
          },
          "metadata": {},
          "execution_count": 24
        }
      ]
    },
    {
      "cell_type": "markdown",
      "source": [
        "###1\n",
        " 1. Affichage du fichier Supposons qu'contenant une sèrie d\"entiers se nomme number.txt et existe sur le disque de l\"ordinateur. ècrivez un programme qui affiche tous les nombres du fichier.\n"
      ],
      "metadata": {
        "id": "_LnvMMJECm-m"
      }
    },
    {
      "cell_type": "code",
      "source": [
        " mon_fichier = open('C:\\\\Users\\\\jadew\\\\Desktop\\\\number.txt', 'r')\n",
        " contenu = mon_fichier.read()\n",
        " print(contenu)"
      ],
      "metadata": {
        "colab": {
          "base_uri": "https://localhost:8080/",
          "height": 217
        },
        "id": "VFJm7EmiDnLc",
        "outputId": "e78e9905-616d-4231-ba0a-acb36c5987e7"
      },
      "execution_count": 23,
      "outputs": [
        {
          "output_type": "error",
          "ename": "FileNotFoundError",
          "evalue": "ignored",
          "traceback": [
            "\u001b[0;31m---------------------------------------------------------------------------\u001b[0m",
            "\u001b[0;31mFileNotFoundError\u001b[0m                         Traceback (most recent call last)",
            "\u001b[0;32m<ipython-input-23-a079ecdb6082>\u001b[0m in \u001b[0;36m<module>\u001b[0;34m()\u001b[0m\n\u001b[0;32m----> 1\u001b[0;31m \u001b[0mmon_fichier\u001b[0m \u001b[0;34m=\u001b[0m \u001b[0mopen\u001b[0m\u001b[0;34m(\u001b[0m\u001b[0;34m'C:\\\\Users\\\\jadew\\\\Desktop\\\\number.txt'\u001b[0m\u001b[0;34m,\u001b[0m \u001b[0;34m'r'\u001b[0m\u001b[0;34m)\u001b[0m\u001b[0;34m\u001b[0m\u001b[0;34m\u001b[0m\u001b[0m\n\u001b[0m\u001b[1;32m      2\u001b[0m \u001b[0mcontenu\u001b[0m \u001b[0;34m=\u001b[0m \u001b[0mmon_fichier\u001b[0m\u001b[0;34m.\u001b[0m\u001b[0mread\u001b[0m\u001b[0;34m(\u001b[0m\u001b[0;34m)\u001b[0m\u001b[0;34m\u001b[0m\u001b[0;34m\u001b[0m\u001b[0m\n\u001b[1;32m      3\u001b[0m \u001b[0mprint\u001b[0m\u001b[0;34m(\u001b[0m\u001b[0mcontenu\u001b[0m\u001b[0;34m)\u001b[0m\u001b[0;34m\u001b[0m\u001b[0;34m\u001b[0m\u001b[0m\n",
            "\u001b[0;31mFileNotFoundError\u001b[0m: [Errno 2] No such file or directory: 'C:\\\\Users\\\\jadew\\\\Desktop\\\\number.txt'"
          ]
        }
      ]
    },
    {
      "cell_type": "markdown",
      "source": [
        "### 2\n",
        " Affichage de la tèªte de fichier \n",
        " Ecrivez un programme qui demande è  l\"utilisateur le nom d\"un fichier. Le programme ne doit afficher que les cinq premières lignes du contenu du fichier. Si le fichier contient moins de cinq lignes, il doit afficher tout le contenu du fichier."
      ],
      "metadata": {
        "id": "IgVLvfIkFd1U"
      }
    },
    {
      "cell_type": "code",
      "source": [
        "fichier_nom = input(\"Entrez le nom de la fichier : \")\n",
        "fichier_var = open(fichier_nom, 'r')\n",
        "contenu = fichier_var.read()\n",
        "lines_num = 0\n",
        "for line in contenu:\n",
        "  lines_num = lines_num + 1\n",
        "if lines_num  < 5:\n",
        "  print(contenu)\n",
        "else:\n",
        "  i = 0  \n",
        "  print(\"c'est plus de 5 lines\")\n",
        "  while i < 9 :\n",
        "    print(contenu[i])\n",
        "    i = i + 1\n",
        "\n",
        "  \n"
      ],
      "metadata": {
        "id": "_RaIgx5wCrYb",
        "colab": {
          "base_uri": "https://localhost:8080/"
        },
        "outputId": "acf557ad-9b20-49ea-df41-caaab4a241ec"
      },
      "execution_count": 37,
      "outputs": [
        {
          "output_type": "stream",
          "name": "stdout",
          "text": [
            "Entrez le nom de la fichier : hello.txt\n",
            "c'est plus de 5 lines\n",
            "3\n",
            "\n",
            "\n",
            "4\n",
            "\n",
            "\n",
            "6\n",
            "\n",
            "\n",
            "8\n",
            "\n",
            "\n",
            "9\n"
          ]
        }
      ]
    },
    {
      "cell_type": "markdown",
      "source": [
        "### 3\n",
        "  . Numèros de ligne Ecrivez un programme qui demande è  l\"utilisateur le nom d\"un fichier. Le programme doit afficher le contenu du fichier avec chaque ligne prècèdèe d\"un numèro de ligne suivi de deux points. La numèrotation des lignes doit commencer è  1.\n",
        "  resources: \n",
        "  geeks for geeks"
      ],
      "metadata": {
        "id": "2TGjgww8TUyS"
      }
    },
    {
      "cell_type": "code",
      "source": [
        "fichier_nom = input(\"Entrez le nom de la fichier : \")\n",
        "fichier_var = open(fichier_nom, \"r\")\n",
        "content = fichier_var.read()\n",
        "print(content)\n",
        "\n"
      ],
      "metadata": {
        "colab": {
          "base_uri": "https://localhost:8080/"
        },
        "id": "3H6GdRsYTXpd",
        "outputId": "b82eed1d-f6a5-4916-ea30-3a169f67f1b9"
      },
      "execution_count": 28,
      "outputs": [
        {
          "output_type": "stream",
          "name": "stdout",
          "text": [
            "Entrez le nom de la fichier : hello.txt\n",
            "3\n",
            "4\n",
            "6\n",
            "8\n",
            "9\n",
            "6\n",
            "4\n",
            "3\n"
          ]
        }
      ]
    }
  ]
}